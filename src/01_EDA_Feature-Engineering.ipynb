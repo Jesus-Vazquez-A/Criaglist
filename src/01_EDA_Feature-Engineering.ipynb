{
 "cells": [
  {
   "cell_type": "markdown",
   "id": "fecb046c",
   "metadata": {
    "papermill": {
     "duration": 0.016241,
     "end_time": "2022-12-30T20:16:07.995902",
     "exception": false,
     "start_time": "2022-12-30T20:16:07.979661",
     "status": "completed"
    },
    "tags": []
   },
   "source": [
    "## *Load Basic Libraries*"
   ]
  },
  {
   "cell_type": "code",
   "execution_count": 1,
   "id": "e8eaaf87",
   "metadata": {
    "execution": {
     "iopub.execute_input": "2022-12-30T20:16:08.029328Z",
     "iopub.status.busy": "2022-12-30T20:16:08.029043Z",
     "iopub.status.idle": "2022-12-30T20:16:08.832992Z",
     "shell.execute_reply": "2022-12-30T20:16:08.832013Z"
    },
    "papermill": {
     "duration": 0.82364,
     "end_time": "2022-12-30T20:16:08.835602",
     "exception": false,
     "start_time": "2022-12-30T20:16:08.011962",
     "status": "completed"
    },
    "tags": []
   },
   "outputs": [],
   "source": [
    "import pandas as pd\n",
    "import numpy as np\n",
    "import seaborn as sns\n",
    "import matplotlib.pyplot as plt\n",
    "import warnings"
   ]
  },
  {
   "cell_type": "code",
   "execution_count": 2,
   "id": "0253c0bb",
   "metadata": {
    "execution": {
     "iopub.execute_input": "2022-12-30T20:16:08.869744Z",
     "iopub.status.busy": "2022-12-30T20:16:08.869425Z",
     "iopub.status.idle": "2022-12-30T20:16:08.873895Z",
     "shell.execute_reply": "2022-12-30T20:16:08.872938Z"
    },
    "papermill": {
     "duration": 0.023511,
     "end_time": "2022-12-30T20:16:08.875824",
     "exception": false,
     "start_time": "2022-12-30T20:16:08.852313",
     "status": "completed"
    },
    "tags": []
   },
   "outputs": [],
   "source": [
    "warnings.filterwarnings('ignore')"
   ]
  },
  {
   "cell_type": "markdown",
   "id": "dd3c473b",
   "metadata": {
    "papermill": {
     "duration": 0.015638,
     "end_time": "2022-12-30T20:16:08.907394",
     "exception": false,
     "start_time": "2022-12-30T20:16:08.891756",
     "status": "completed"
    },
    "tags": []
   },
   "source": [
    "## *Load Data*"
   ]
  },
  {
   "cell_type": "code",
   "execution_count": 3,
   "id": "54c75772",
   "metadata": {
    "execution": {
     "iopub.execute_input": "2022-12-30T20:16:08.940506Z",
     "iopub.status.busy": "2022-12-30T20:16:08.940217Z",
     "iopub.status.idle": "2022-12-30T20:16:40.347689Z",
     "shell.execute_reply": "2022-12-30T20:16:40.346671Z"
    },
    "papermill": {
     "duration": 31.426975,
     "end_time": "2022-12-30T20:16:40.350292",
     "exception": false,
     "start_time": "2022-12-30T20:16:08.923317",
     "status": "completed"
    },
    "tags": []
   },
   "outputs": [],
   "source": [
    "url = \"C:\\\\Users\\\\PC\\\\Desktop\\\\Ciencias de datos\\\\Proyectos\\\\Criaglist\\\\data\\\\vehicles.csv\"\n",
    "df = pd.read_csv(url)"
   ]
  },
  {
   "cell_type": "code",
   "execution_count": 4,
   "id": "3aa82749",
   "metadata": {
    "execution": {
     "iopub.execute_input": "2022-12-30T20:16:40.385284Z",
     "iopub.status.busy": "2022-12-30T20:16:40.384328Z",
     "iopub.status.idle": "2022-12-30T20:16:40.416719Z",
     "shell.execute_reply": "2022-12-30T20:16:40.415669Z"
    },
    "papermill": {
     "duration": 0.052445,
     "end_time": "2022-12-30T20:16:40.419512",
     "exception": false,
     "start_time": "2022-12-30T20:16:40.367067",
     "status": "completed"
    },
    "tags": []
   },
   "outputs": [
    {
     "data": {
      "text/html": [
       "<div><div id=4fdef2ab-8da2-401d-9528-e47f226586d6 style=\"display:none; background-color:#9D6CFF; color:white; width:200px; height:30px; padding-left:5px; border-radius:4px; flex-direction:row; justify-content:space-around; align-items:center;\" onmouseover=\"this.style.backgroundColor='#BA9BF8'\" onmouseout=\"this.style.backgroundColor='#9D6CFF'\" onclick=\"window.commands?.execute('create-mitosheet-from-dataframe-output');\">See Full Dataframe in Mito</div> <script> if (window.commands?.hasCommand('create-mitosheet-from-dataframe-output')) document.getElementById('4fdef2ab-8da2-401d-9528-e47f226586d6').style.display = 'flex' </script> <table border=\"1\" class=\"dataframe\">\n",
       "  <thead>\n",
       "    <tr style=\"text-align: right;\">\n",
       "      <th></th>\n",
       "      <th>id</th>\n",
       "      <th>url</th>\n",
       "      <th>region</th>\n",
       "      <th>region_url</th>\n",
       "      <th>price</th>\n",
       "      <th>year</th>\n",
       "      <th>manufacturer</th>\n",
       "      <th>model</th>\n",
       "      <th>condition</th>\n",
       "      <th>cylinders</th>\n",
       "      <th>...</th>\n",
       "      <th>size</th>\n",
       "      <th>type</th>\n",
       "      <th>paint_color</th>\n",
       "      <th>image_url</th>\n",
       "      <th>description</th>\n",
       "      <th>county</th>\n",
       "      <th>state</th>\n",
       "      <th>lat</th>\n",
       "      <th>long</th>\n",
       "      <th>posting_date</th>\n",
       "    </tr>\n",
       "  </thead>\n",
       "  <tbody>\n",
       "    <tr>\n",
       "      <th>0</th>\n",
       "      <td>7222695916</td>\n",
       "      <td>https://prescott.craigslist.org/cto/d/prescott-2010-ford-ranger/7222695916.html</td>\n",
       "      <td>prescott</td>\n",
       "      <td>https://prescott.craigslist.org</td>\n",
       "      <td>6000</td>\n",
       "      <td>NaN</td>\n",
       "      <td>NaN</td>\n",
       "      <td>NaN</td>\n",
       "      <td>NaN</td>\n",
       "      <td>NaN</td>\n",
       "      <td>...</td>\n",
       "      <td>NaN</td>\n",
       "      <td>NaN</td>\n",
       "      <td>NaN</td>\n",
       "      <td>NaN</td>\n",
       "      <td>NaN</td>\n",
       "      <td>NaN</td>\n",
       "      <td>az</td>\n",
       "      <td>NaN</td>\n",
       "      <td>NaN</td>\n",
       "      <td>NaN</td>\n",
       "    </tr>\n",
       "    <tr>\n",
       "      <th>1</th>\n",
       "      <td>7218891961</td>\n",
       "      <td>https://fayar.craigslist.org/ctd/d/bentonville-2017-hyundai-elantra-se/7218891961.html</td>\n",
       "      <td>fayetteville</td>\n",
       "      <td>https://fayar.craigslist.org</td>\n",
       "      <td>11900</td>\n",
       "      <td>NaN</td>\n",
       "      <td>NaN</td>\n",
       "      <td>NaN</td>\n",
       "      <td>NaN</td>\n",
       "      <td>NaN</td>\n",
       "      <td>...</td>\n",
       "      <td>NaN</td>\n",
       "      <td>NaN</td>\n",
       "      <td>NaN</td>\n",
       "      <td>NaN</td>\n",
       "      <td>NaN</td>\n",
       "      <td>NaN</td>\n",
       "      <td>ar</td>\n",
       "      <td>NaN</td>\n",
       "      <td>NaN</td>\n",
       "      <td>NaN</td>\n",
       "    </tr>\n",
       "    <tr>\n",
       "      <th>2</th>\n",
       "      <td>7221797935</td>\n",
       "      <td>https://keys.craigslist.org/cto/d/summerland-key-2005-excursion/7221797935.html</td>\n",
       "      <td>florida keys</td>\n",
       "      <td>https://keys.craigslist.org</td>\n",
       "      <td>21000</td>\n",
       "      <td>NaN</td>\n",
       "      <td>NaN</td>\n",
       "      <td>NaN</td>\n",
       "      <td>NaN</td>\n",
       "      <td>NaN</td>\n",
       "      <td>...</td>\n",
       "      <td>NaN</td>\n",
       "      <td>NaN</td>\n",
       "      <td>NaN</td>\n",
       "      <td>NaN</td>\n",
       "      <td>NaN</td>\n",
       "      <td>NaN</td>\n",
       "      <td>fl</td>\n",
       "      <td>NaN</td>\n",
       "      <td>NaN</td>\n",
       "      <td>NaN</td>\n",
       "    </tr>\n",
       "    <tr>\n",
       "      <th>3</th>\n",
       "      <td>7222270760</td>\n",
       "      <td>https://worcester.craigslist.org/cto/d/west-brookfield-2002-honda-odyssey-ex/7222270760.html</td>\n",
       "      <td>worcester / central MA</td>\n",
       "      <td>https://worcester.craigslist.org</td>\n",
       "      <td>1500</td>\n",
       "      <td>NaN</td>\n",
       "      <td>NaN</td>\n",
       "      <td>NaN</td>\n",
       "      <td>NaN</td>\n",
       "      <td>NaN</td>\n",
       "      <td>...</td>\n",
       "      <td>NaN</td>\n",
       "      <td>NaN</td>\n",
       "      <td>NaN</td>\n",
       "      <td>NaN</td>\n",
       "      <td>NaN</td>\n",
       "      <td>NaN</td>\n",
       "      <td>ma</td>\n",
       "      <td>NaN</td>\n",
       "      <td>NaN</td>\n",
       "      <td>NaN</td>\n",
       "    </tr>\n",
       "    <tr>\n",
       "      <th>4</th>\n",
       "      <td>7210384030</td>\n",
       "      <td>https://greensboro.craigslist.org/cto/d/trinity-1965-chevrolet-truck/7210384030.html</td>\n",
       "      <td>greensboro</td>\n",
       "      <td>https://greensboro.craigslist.org</td>\n",
       "      <td>4900</td>\n",
       "      <td>NaN</td>\n",
       "      <td>NaN</td>\n",
       "      <td>NaN</td>\n",
       "      <td>NaN</td>\n",
       "      <td>NaN</td>\n",
       "      <td>...</td>\n",
       "      <td>NaN</td>\n",
       "      <td>NaN</td>\n",
       "      <td>NaN</td>\n",
       "      <td>NaN</td>\n",
       "      <td>NaN</td>\n",
       "      <td>NaN</td>\n",
       "      <td>nc</td>\n",
       "      <td>NaN</td>\n",
       "      <td>NaN</td>\n",
       "      <td>NaN</td>\n",
       "    </tr>\n",
       "  </tbody>\n",
       "</table></div>"
      ],
      "text/plain": [
       "           id                                                url  \\\n",
       "0  7222695916  https://prescott.craigslist.org/cto/d/prescott...   \n",
       "1  7218891961  https://fayar.craigslist.org/ctd/d/bentonville...   \n",
       "2  7221797935  https://keys.craigslist.org/cto/d/summerland-k...   \n",
       "3  7222270760  https://worcester.craigslist.org/cto/d/west-br...   \n",
       "4  7210384030  https://greensboro.craigslist.org/cto/d/trinit...   \n",
       "\n",
       "                   region                         region_url  price  year  \\\n",
       "0                prescott    https://prescott.craigslist.org   6000   NaN   \n",
       "1            fayetteville       https://fayar.craigslist.org  11900   NaN   \n",
       "2            florida keys        https://keys.craigslist.org  21000   NaN   \n",
       "3  worcester / central MA   https://worcester.craigslist.org   1500   NaN   \n",
       "4              greensboro  https://greensboro.craigslist.org   4900   NaN   \n",
       "\n",
       "  manufacturer model condition cylinders  ... size  type paint_color  \\\n",
       "0          NaN   NaN       NaN       NaN  ...  NaN   NaN         NaN   \n",
       "1          NaN   NaN       NaN       NaN  ...  NaN   NaN         NaN   \n",
       "2          NaN   NaN       NaN       NaN  ...  NaN   NaN         NaN   \n",
       "3          NaN   NaN       NaN       NaN  ...  NaN   NaN         NaN   \n",
       "4          NaN   NaN       NaN       NaN  ...  NaN   NaN         NaN   \n",
       "\n",
       "  image_url description county state lat long posting_date  \n",
       "0       NaN         NaN    NaN    az NaN  NaN          NaN  \n",
       "1       NaN         NaN    NaN    ar NaN  NaN          NaN  \n",
       "2       NaN         NaN    NaN    fl NaN  NaN          NaN  \n",
       "3       NaN         NaN    NaN    ma NaN  NaN          NaN  \n",
       "4       NaN         NaN    NaN    nc NaN  NaN          NaN  \n",
       "\n",
       "[5 rows x 26 columns]"
      ]
     },
     "execution_count": 4,
     "metadata": {},
     "output_type": "execute_result"
    }
   ],
   "source": [
    "df.head()"
   ]
  },
  {
   "cell_type": "markdown",
   "id": "92d70dec",
   "metadata": {
    "papermill": {
     "duration": 0.016541,
     "end_time": "2022-12-30T20:16:40.452847",
     "exception": false,
     "start_time": "2022-12-30T20:16:40.436306",
     "status": "completed"
    },
    "tags": []
   },
   "source": [
    "# *Data Preprocesing*"
   ]
  },
  {
   "cell_type": "markdown",
   "id": "e32a11c0",
   "metadata": {
    "papermill": {
     "duration": 0.016105,
     "end_time": "2022-12-30T20:16:40.485403",
     "exception": false,
     "start_time": "2022-12-30T20:16:40.469298",
     "status": "completed"
    },
    "tags": []
   },
   "source": [
    "## Drop Columns"
   ]
  },
  {
   "cell_type": "code",
   "execution_count": 5,
   "id": "714725d6",
   "metadata": {
    "execution": {
     "iopub.execute_input": "2022-12-30T20:16:40.520009Z",
     "iopub.status.busy": "2022-12-30T20:16:40.519658Z",
     "iopub.status.idle": "2022-12-30T20:16:40.524635Z",
     "shell.execute_reply": "2022-12-30T20:16:40.523547Z"
    },
    "papermill": {
     "duration": 0.0255,
     "end_time": "2022-12-30T20:16:40.527293",
     "exception": false,
     "start_time": "2022-12-30T20:16:40.501793",
     "status": "completed"
    },
    "tags": []
   },
   "outputs": [],
   "source": [
    "drops = ['id','url','region_url',\n",
    "         'size','image_url','description',\n",
    "         'county','state','lat',\n",
    "        'long','posting_date','VIN',\n",
    "         'region']"
   ]
  },
  {
   "cell_type": "code",
   "execution_count": 6,
   "id": "fba5cdf1",
   "metadata": {
    "execution": {
     "iopub.execute_input": "2022-12-30T20:16:40.563261Z",
     "iopub.status.busy": "2022-12-30T20:16:40.562896Z",
     "iopub.status.idle": "2022-12-30T20:16:40.620103Z",
     "shell.execute_reply": "2022-12-30T20:16:40.618727Z"
    },
    "papermill": {
     "duration": 0.078123,
     "end_time": "2022-12-30T20:16:40.622834",
     "exception": false,
     "start_time": "2022-12-30T20:16:40.544711",
     "status": "completed"
    },
    "tags": []
   },
   "outputs": [],
   "source": [
    "df = df.drop(columns = drops)"
   ]
  },
  {
   "cell_type": "markdown",
   "id": "35bed792",
   "metadata": {
    "papermill": {
     "duration": 0.019361,
     "end_time": "2022-12-30T20:16:40.662506",
     "exception": false,
     "start_time": "2022-12-30T20:16:40.643145",
     "status": "completed"
    },
    "tags": []
   },
   "source": [
    "Eliminate variables that do not provide predictive value."
   ]
  },
  {
   "cell_type": "code",
   "execution_count": 7,
   "id": "072d1cd6",
   "metadata": {
    "execution": {
     "iopub.execute_input": "2022-12-30T20:16:40.706186Z",
     "iopub.status.busy": "2022-12-30T20:16:40.705786Z",
     "iopub.status.idle": "2022-12-30T20:16:40.725509Z",
     "shell.execute_reply": "2022-12-30T20:16:40.724173Z"
    },
    "papermill": {
     "duration": 0.047389,
     "end_time": "2022-12-30T20:16:40.730034",
     "exception": false,
     "start_time": "2022-12-30T20:16:40.682645",
     "status": "completed"
    },
    "tags": []
   },
   "outputs": [
    {
     "data": {
      "text/html": [
       "<div><div id=ff819890-968a-447f-8874-f1652e97fad5 style=\"display:none; background-color:#9D6CFF; color:white; width:200px; height:30px; padding-left:5px; border-radius:4px; flex-direction:row; justify-content:space-around; align-items:center;\" onmouseover=\"this.style.backgroundColor='#BA9BF8'\" onmouseout=\"this.style.backgroundColor='#9D6CFF'\" onclick=\"window.commands?.execute('create-mitosheet-from-dataframe-output');\">See Full Dataframe in Mito</div> <script> if (window.commands?.hasCommand('create-mitosheet-from-dataframe-output')) document.getElementById('ff819890-968a-447f-8874-f1652e97fad5').style.display = 'flex' </script> <table border=\"1\" class=\"dataframe\">\n",
       "  <thead>\n",
       "    <tr style=\"text-align: right;\">\n",
       "      <th></th>\n",
       "      <th>price</th>\n",
       "      <th>year</th>\n",
       "      <th>manufacturer</th>\n",
       "      <th>model</th>\n",
       "      <th>condition</th>\n",
       "      <th>cylinders</th>\n",
       "      <th>fuel</th>\n",
       "      <th>odometer</th>\n",
       "      <th>title_status</th>\n",
       "      <th>transmission</th>\n",
       "      <th>drive</th>\n",
       "      <th>type</th>\n",
       "      <th>paint_color</th>\n",
       "    </tr>\n",
       "  </thead>\n",
       "  <tbody>\n",
       "    <tr>\n",
       "      <th>0</th>\n",
       "      <td>6000</td>\n",
       "      <td>NaN</td>\n",
       "      <td>NaN</td>\n",
       "      <td>NaN</td>\n",
       "      <td>NaN</td>\n",
       "      <td>NaN</td>\n",
       "      <td>NaN</td>\n",
       "      <td>NaN</td>\n",
       "      <td>NaN</td>\n",
       "      <td>NaN</td>\n",
       "      <td>NaN</td>\n",
       "      <td>NaN</td>\n",
       "      <td>NaN</td>\n",
       "    </tr>\n",
       "    <tr>\n",
       "      <th>1</th>\n",
       "      <td>11900</td>\n",
       "      <td>NaN</td>\n",
       "      <td>NaN</td>\n",
       "      <td>NaN</td>\n",
       "      <td>NaN</td>\n",
       "      <td>NaN</td>\n",
       "      <td>NaN</td>\n",
       "      <td>NaN</td>\n",
       "      <td>NaN</td>\n",
       "      <td>NaN</td>\n",
       "      <td>NaN</td>\n",
       "      <td>NaN</td>\n",
       "      <td>NaN</td>\n",
       "    </tr>\n",
       "    <tr>\n",
       "      <th>2</th>\n",
       "      <td>21000</td>\n",
       "      <td>NaN</td>\n",
       "      <td>NaN</td>\n",
       "      <td>NaN</td>\n",
       "      <td>NaN</td>\n",
       "      <td>NaN</td>\n",
       "      <td>NaN</td>\n",
       "      <td>NaN</td>\n",
       "      <td>NaN</td>\n",
       "      <td>NaN</td>\n",
       "      <td>NaN</td>\n",
       "      <td>NaN</td>\n",
       "      <td>NaN</td>\n",
       "    </tr>\n",
       "    <tr>\n",
       "      <th>3</th>\n",
       "      <td>1500</td>\n",
       "      <td>NaN</td>\n",
       "      <td>NaN</td>\n",
       "      <td>NaN</td>\n",
       "      <td>NaN</td>\n",
       "      <td>NaN</td>\n",
       "      <td>NaN</td>\n",
       "      <td>NaN</td>\n",
       "      <td>NaN</td>\n",
       "      <td>NaN</td>\n",
       "      <td>NaN</td>\n",
       "      <td>NaN</td>\n",
       "      <td>NaN</td>\n",
       "    </tr>\n",
       "    <tr>\n",
       "      <th>4</th>\n",
       "      <td>4900</td>\n",
       "      <td>NaN</td>\n",
       "      <td>NaN</td>\n",
       "      <td>NaN</td>\n",
       "      <td>NaN</td>\n",
       "      <td>NaN</td>\n",
       "      <td>NaN</td>\n",
       "      <td>NaN</td>\n",
       "      <td>NaN</td>\n",
       "      <td>NaN</td>\n",
       "      <td>NaN</td>\n",
       "      <td>NaN</td>\n",
       "      <td>NaN</td>\n",
       "    </tr>\n",
       "  </tbody>\n",
       "</table></div>"
      ],
      "text/plain": [
       "   price  year manufacturer model condition cylinders fuel  odometer  \\\n",
       "0   6000   NaN          NaN   NaN       NaN       NaN  NaN       NaN   \n",
       "1  11900   NaN          NaN   NaN       NaN       NaN  NaN       NaN   \n",
       "2  21000   NaN          NaN   NaN       NaN       NaN  NaN       NaN   \n",
       "3   1500   NaN          NaN   NaN       NaN       NaN  NaN       NaN   \n",
       "4   4900   NaN          NaN   NaN       NaN       NaN  NaN       NaN   \n",
       "\n",
       "  title_status transmission drive type paint_color  \n",
       "0          NaN          NaN   NaN  NaN         NaN  \n",
       "1          NaN          NaN   NaN  NaN         NaN  \n",
       "2          NaN          NaN   NaN  NaN         NaN  \n",
       "3          NaN          NaN   NaN  NaN         NaN  \n",
       "4          NaN          NaN   NaN  NaN         NaN  "
      ]
     },
     "execution_count": 7,
     "metadata": {},
     "output_type": "execute_result"
    }
   ],
   "source": [
    "df.head()"
   ]
  },
  {
   "cell_type": "markdown",
   "id": "11ad4fc6",
   "metadata": {
    "papermill": {
     "duration": 0.019362,
     "end_time": "2022-12-30T20:16:40.770531",
     "exception": false,
     "start_time": "2022-12-30T20:16:40.751169",
     "status": "completed"
    },
    "tags": []
   },
   "source": [
    "## NaN Values"
   ]
  },
  {
   "cell_type": "code",
   "execution_count": 8,
   "id": "e2d20d34",
   "metadata": {
    "execution": {
     "iopub.execute_input": "2022-12-30T20:16:40.806715Z",
     "iopub.status.busy": "2022-12-30T20:16:40.806379Z",
     "iopub.status.idle": "2022-12-30T20:16:40.811303Z",
     "shell.execute_reply": "2022-12-30T20:16:40.810086Z"
    },
    "papermill": {
     "duration": 0.02476,
     "end_time": "2022-12-30T20:16:40.813685",
     "exception": false,
     "start_time": "2022-12-30T20:16:40.788925",
     "status": "completed"
    },
    "tags": []
   },
   "outputs": [],
   "source": [
    "def nan_percent(df):\n",
    "    \n",
    "    return df.isnull().sum() / df.shape[0]"
   ]
  },
  {
   "cell_type": "code",
   "execution_count": 9,
   "id": "94d35600",
   "metadata": {
    "execution": {
     "iopub.execute_input": "2022-12-30T20:16:40.848110Z",
     "iopub.status.busy": "2022-12-30T20:16:40.847849Z",
     "iopub.status.idle": "2022-12-30T20:16:40.990613Z",
     "shell.execute_reply": "2022-12-30T20:16:40.989659Z"
    },
    "papermill": {
     "duration": 0.162646,
     "end_time": "2022-12-30T20:16:40.992923",
     "exception": false,
     "start_time": "2022-12-30T20:16:40.830277",
     "status": "completed"
    },
    "tags": []
   },
   "outputs": [],
   "source": [
    "null_values_per = nan_percent(df)"
   ]
  },
  {
   "cell_type": "code",
   "execution_count": 10,
   "id": "4f21d6f7",
   "metadata": {
    "execution": {
     "iopub.execute_input": "2022-12-30T20:16:41.028224Z",
     "iopub.status.busy": "2022-12-30T20:16:41.027909Z",
     "iopub.status.idle": "2022-12-30T20:16:41.035009Z",
     "shell.execute_reply": "2022-12-30T20:16:41.034102Z"
    },
    "papermill": {
     "duration": 0.026969,
     "end_time": "2022-12-30T20:16:41.037152",
     "exception": false,
     "start_time": "2022-12-30T20:16:41.010183",
     "status": "completed"
    },
    "tags": []
   },
   "outputs": [
    {
     "data": {
      "text/plain": [
       "price           0.000000\n",
       "year            0.002823\n",
       "manufacturer    0.041337\n",
       "model           0.012362\n",
       "condition       0.407852\n",
       "cylinders       0.416225\n",
       "fuel            0.007058\n",
       "odometer        0.010307\n",
       "title_status    0.019308\n",
       "transmission    0.005988\n",
       "drive           0.305863\n",
       "type            0.217527\n",
       "paint_color     0.305011\n",
       "dtype: float64"
      ]
     },
     "execution_count": 10,
     "metadata": {},
     "output_type": "execute_result"
    }
   ],
   "source": [
    "null_values_per"
   ]
  },
  {
   "cell_type": "markdown",
   "id": "4121ddd2",
   "metadata": {
    "papermill": {
     "duration": 0.01654,
     "end_time": "2022-12-30T20:16:41.070659",
     "exception": false,
     "start_time": "2022-12-30T20:16:41.054119",
     "status": "completed"
    },
    "tags": []
   },
   "source": [
    "The Year variable can replace the missing values by some statistical measure, in this case I will choose to use the median, while for the object type variables we can replace with the modal value."
   ]
  },
  {
   "cell_type": "code",
   "execution_count": 11,
   "id": "896dae68",
   "metadata": {
    "execution": {
     "iopub.execute_input": "2022-12-30T20:16:41.105411Z",
     "iopub.status.busy": "2022-12-30T20:16:41.104626Z",
     "iopub.status.idle": "2022-12-30T20:16:41.130658Z",
     "shell.execute_reply": "2022-12-30T20:16:41.129795Z"
    },
    "papermill": {
     "duration": 0.045656,
     "end_time": "2022-12-30T20:16:41.132809",
     "exception": false,
     "start_time": "2022-12-30T20:16:41.087153",
     "status": "completed"
    },
    "tags": []
   },
   "outputs": [],
   "source": [
    "df['year'] = df.year.fillna(df.year.median())\n",
    "df['odometer'] = df.odometer.fillna(df['odometer'].median())"
   ]
  },
  {
   "cell_type": "markdown",
   "id": "790c14ff",
   "metadata": {
    "papermill": {
     "duration": 0.016362,
     "end_time": "2022-12-30T20:16:41.166374",
     "exception": false,
     "start_time": "2022-12-30T20:16:41.150012",
     "status": "completed"
    },
    "tags": []
   },
   "source": [
    "We replace the missing values by the median."
   ]
  },
  {
   "cell_type": "code",
   "execution_count": 12,
   "id": "4a823080",
   "metadata": {
    "execution": {
     "iopub.execute_input": "2022-12-30T20:16:41.202319Z",
     "iopub.status.busy": "2022-12-30T20:16:41.201334Z",
     "iopub.status.idle": "2022-12-30T20:16:41.267156Z",
     "shell.execute_reply": "2022-12-30T20:16:41.266206Z"
    },
    "papermill": {
     "duration": 0.086598,
     "end_time": "2022-12-30T20:16:41.269562",
     "exception": false,
     "start_time": "2022-12-30T20:16:41.182964",
     "status": "completed"
    },
    "tags": []
   },
   "outputs": [],
   "source": [
    "obj_columns = df.select_dtypes('object').columns\n",
    "obj_columns = [column for column in obj_columns if null_values_per[column] > 0 and null_values_per[column] <= 0.10]"
   ]
  },
  {
   "cell_type": "markdown",
   "id": "9576f143",
   "metadata": {
    "papermill": {
     "duration": 0.016477,
     "end_time": "2022-12-30T20:16:41.303059",
     "exception": false,
     "start_time": "2022-12-30T20:16:41.286582",
     "status": "completed"
    },
    "tags": []
   },
   "source": [
    "We select those variables of the object type that have less than 10% of null values."
   ]
  },
  {
   "cell_type": "code",
   "execution_count": 13,
   "id": "ae5932bd",
   "metadata": {
    "execution": {
     "iopub.execute_input": "2022-12-30T20:16:41.339312Z",
     "iopub.status.busy": "2022-12-30T20:16:41.338346Z",
     "iopub.status.idle": "2022-12-30T20:16:41.564672Z",
     "shell.execute_reply": "2022-12-30T20:16:41.563654Z"
    },
    "papermill": {
     "duration": 0.246787,
     "end_time": "2022-12-30T20:16:41.567168",
     "exception": false,
     "start_time": "2022-12-30T20:16:41.320381",
     "status": "completed"
    },
    "tags": []
   },
   "outputs": [],
   "source": [
    "for column in obj_columns:\n",
    "    df[column] = df[column].fillna(df[column].mode()[0])"
   ]
  },
  {
   "cell_type": "markdown",
   "id": "fbb1d5db",
   "metadata": {
    "papermill": {
     "duration": 0.016419,
     "end_time": "2022-12-30T20:16:41.600970",
     "exception": false,
     "start_time": "2022-12-30T20:16:41.584551",
     "status": "completed"
    },
    "tags": []
   },
   "source": [
    "We replace the missing values by the mode."
   ]
  },
  {
   "cell_type": "code",
   "execution_count": 14,
   "id": "f34fa5ce",
   "metadata": {
    "execution": {
     "iopub.execute_input": "2022-12-30T20:16:41.636706Z",
     "iopub.status.busy": "2022-12-30T20:16:41.636366Z",
     "iopub.status.idle": "2022-12-30T20:16:41.781485Z",
     "shell.execute_reply": "2022-12-30T20:16:41.780534Z"
    },
    "papermill": {
     "duration": 0.165411,
     "end_time": "2022-12-30T20:16:41.783959",
     "exception": false,
     "start_time": "2022-12-30T20:16:41.618548",
     "status": "completed"
    },
    "tags": []
   },
   "outputs": [
    {
     "data": {
      "text/plain": [
       "price           0.000000\n",
       "year            0.000000\n",
       "manufacturer    0.000000\n",
       "model           0.000000\n",
       "condition       0.407852\n",
       "cylinders       0.416225\n",
       "fuel            0.000000\n",
       "odometer        0.000000\n",
       "title_status    0.000000\n",
       "transmission    0.000000\n",
       "drive           0.305863\n",
       "type            0.217527\n",
       "paint_color     0.305011\n",
       "dtype: float64"
      ]
     },
     "execution_count": 14,
     "metadata": {},
     "output_type": "execute_result"
    }
   ],
   "source": [
    "nan_percent(df)"
   ]
  },
  {
   "cell_type": "markdown",
   "id": "91928a6a",
   "metadata": {
    "papermill": {
     "duration": 0.017546,
     "end_time": "2022-12-30T20:16:41.818878",
     "exception": false,
     "start_time": "2022-12-30T20:16:41.801332",
     "status": "completed"
    },
    "tags": []
   },
   "source": [
    "## *Ordinal Data*"
   ]
  },
  {
   "cell_type": "code",
   "execution_count": 15,
   "id": "f82a2a72",
   "metadata": {
    "execution": {
     "iopub.execute_input": "2022-12-30T20:16:41.854926Z",
     "iopub.status.busy": "2022-12-30T20:16:41.853983Z",
     "iopub.status.idle": "2022-12-30T20:16:41.880425Z",
     "shell.execute_reply": "2022-12-30T20:16:41.879500Z"
    },
    "papermill": {
     "duration": 0.046672,
     "end_time": "2022-12-30T20:16:41.882514",
     "exception": false,
     "start_time": "2022-12-30T20:16:41.835842",
     "status": "completed"
    },
    "tags": []
   },
   "outputs": [
    {
     "data": {
      "text/plain": [
       "array([nan, '8 cylinders', '6 cylinders', '4 cylinders', '5 cylinders',\n",
       "       'other', '3 cylinders', '10 cylinders', '12 cylinders'],\n",
       "      dtype=object)"
      ]
     },
     "execution_count": 15,
     "metadata": {},
     "output_type": "execute_result"
    }
   ],
   "source": [
    "df.cylinders.unique()"
   ]
  },
  {
   "cell_type": "code",
   "execution_count": 16,
   "id": "e5bc0040",
   "metadata": {
    "execution": {
     "iopub.execute_input": "2022-12-30T20:16:41.918809Z",
     "iopub.status.busy": "2022-12-30T20:16:41.918403Z",
     "iopub.status.idle": "2022-12-30T20:16:42.118168Z",
     "shell.execute_reply": "2022-12-30T20:16:42.117125Z"
    },
    "papermill": {
     "duration": 0.221143,
     "end_time": "2022-12-30T20:16:42.120818",
     "exception": false,
     "start_time": "2022-12-30T20:16:41.899675",
     "status": "completed"
    },
    "tags": []
   },
   "outputs": [],
   "source": [
    "df.cylinders = df.cylinders.str.replace('cylinders','')"
   ]
  },
  {
   "cell_type": "code",
   "execution_count": 17,
   "id": "add68989",
   "metadata": {
    "execution": {
     "iopub.execute_input": "2022-12-30T20:16:42.157120Z",
     "iopub.status.busy": "2022-12-30T20:16:42.156767Z",
     "iopub.status.idle": "2022-12-30T20:16:42.187690Z",
     "shell.execute_reply": "2022-12-30T20:16:42.186636Z"
    },
    "papermill": {
     "duration": 0.051774,
     "end_time": "2022-12-30T20:16:42.189931",
     "exception": false,
     "start_time": "2022-12-30T20:16:42.138157",
     "status": "completed"
    },
    "tags": []
   },
   "outputs": [
    {
     "data": {
      "text/plain": [
       "array([nan, '8 ', '6 ', '4 ', '5 ', 'other', '3 ', '10 ', '12 '],\n",
       "      dtype=object)"
      ]
     },
     "execution_count": 17,
     "metadata": {},
     "output_type": "execute_result"
    }
   ],
   "source": [
    "df.cylinders.unique()"
   ]
  },
  {
   "cell_type": "code",
   "execution_count": 18,
   "id": "58f84f9b",
   "metadata": {
    "execution": {
     "iopub.execute_input": "2022-12-30T20:16:42.227303Z",
     "iopub.status.busy": "2022-12-30T20:16:42.226338Z",
     "iopub.status.idle": "2022-12-30T20:16:42.311318Z",
     "shell.execute_reply": "2022-12-30T20:16:42.310325Z"
    },
    "papermill": {
     "duration": 0.106338,
     "end_time": "2022-12-30T20:16:42.313875",
     "exception": false,
     "start_time": "2022-12-30T20:16:42.207537",
     "status": "completed"
    },
    "tags": []
   },
   "outputs": [],
   "source": [
    "df = df.query('cylinders!=\"other\"')"
   ]
  },
  {
   "cell_type": "markdown",
   "id": "00027e36",
   "metadata": {
    "papermill": {
     "duration": 0.017044,
     "end_time": "2022-12-30T20:16:42.349298",
     "exception": false,
     "start_time": "2022-12-30T20:16:42.332254",
     "status": "completed"
    },
    "tags": []
   },
   "source": [
    "Since the cylinders variable is of nominal type, it is recommended to eliminate the \"other\" sub-category, since it does not provide a real value."
   ]
  },
  {
   "cell_type": "code",
   "execution_count": 19,
   "id": "fc123659",
   "metadata": {
    "execution": {
     "iopub.execute_input": "2022-12-30T20:16:42.384376Z",
     "iopub.status.busy": "2022-12-30T20:16:42.384043Z",
     "iopub.status.idle": "2022-12-30T20:16:42.473283Z",
     "shell.execute_reply": "2022-12-30T20:16:42.472369Z"
    },
    "papermill": {
     "duration": 0.109466,
     "end_time": "2022-12-30T20:16:42.475551",
     "exception": false,
     "start_time": "2022-12-30T20:16:42.366085",
     "status": "completed"
    },
    "tags": []
   },
   "outputs": [],
   "source": [
    "df.cylinders = df.cylinders.astype(np.float32)"
   ]
  },
  {
   "cell_type": "markdown",
   "id": "cbbf28db",
   "metadata": {
    "papermill": {
     "duration": 0.016568,
     "end_time": "2022-12-30T20:16:42.509288",
     "exception": false,
     "start_time": "2022-12-30T20:16:42.492720",
     "status": "completed"
    },
    "tags": []
   },
   "source": [
    "We replace the string of characters, eliminate categories that do not add value and convert the variable to a numeric type."
   ]
  },
  {
   "cell_type": "code",
   "execution_count": 20,
   "id": "8ff19863",
   "metadata": {
    "execution": {
     "iopub.execute_input": "2022-12-30T20:16:42.544788Z",
     "iopub.status.busy": "2022-12-30T20:16:42.543851Z",
     "iopub.status.idle": "2022-12-30T20:16:42.568952Z",
     "shell.execute_reply": "2022-12-30T20:16:42.567943Z"
    },
    "papermill": {
     "duration": 0.045036,
     "end_time": "2022-12-30T20:16:42.570950",
     "exception": false,
     "start_time": "2022-12-30T20:16:42.525914",
     "status": "completed"
    },
    "tags": []
   },
   "outputs": [
    {
     "data": {
      "text/plain": [
       "array([nan, 'good', 'excellent', 'fair', 'like new', 'new', 'salvage'],\n",
       "      dtype=object)"
      ]
     },
     "execution_count": 20,
     "metadata": {},
     "output_type": "execute_result"
    }
   ],
   "source": [
    "df.condition.unique()"
   ]
  },
  {
   "cell_type": "code",
   "execution_count": 21,
   "id": "4bb12134",
   "metadata": {
    "execution": {
     "iopub.execute_input": "2022-12-30T20:16:42.606540Z",
     "iopub.status.busy": "2022-12-30T20:16:42.605688Z",
     "iopub.status.idle": "2022-12-30T20:16:42.610772Z",
     "shell.execute_reply": "2022-12-30T20:16:42.609940Z"
    },
    "papermill": {
     "duration": 0.024817,
     "end_time": "2022-12-30T20:16:42.612694",
     "exception": false,
     "start_time": "2022-12-30T20:16:42.587877",
     "status": "completed"
    },
    "tags": []
   },
   "outputs": [],
   "source": [
    "colors = sns.color_palette('pastel')\n",
    "plt.style.use('ggplot')"
   ]
  },
  {
   "cell_type": "code",
   "execution_count": 22,
   "id": "09b659f1",
   "metadata": {
    "execution": {
     "iopub.execute_input": "2022-12-30T20:16:42.648667Z",
     "iopub.status.busy": "2022-12-30T20:16:42.647839Z",
     "iopub.status.idle": "2022-12-30T20:16:42.919977Z",
     "shell.execute_reply": "2022-12-30T20:16:42.919022Z"
    },
    "papermill": {
     "duration": 0.292397,
     "end_time": "2022-12-30T20:16:42.922030",
     "exception": false,
     "start_time": "2022-12-30T20:16:42.629633",
     "status": "completed"
    },
    "tags": []
   },
   "outputs": [
    {
     "data": {
      "image/png": "[encoded data removed]",
      "text/plain": [
       "<Figure size 1080x576 with 1 Axes>"
      ]
     },
     "metadata": {},
     "output_type": "display_data"
    }
   ],
   "source": [
    "df.groupby('condition')['odometer'] \\\n",
    ".mean() \\\n",
    ".sort_values() \\\n",
    ".plot(kind = \"barh\",\n",
    "      color = colors,\n",
    "      figsize = (15,8),\n",
    "      title = \"Odometer Mean\",\n",
    "     fontsize = 15)\n",
    "plt.show()"
   ]
  },
  {
   "cell_type": "markdown",
   "id": "f2ca7e52",
   "metadata": {
    "papermill": {
     "duration": 0.016963,
     "end_time": "2022-12-30T20:16:42.956400",
     "exception": false,
     "start_time": "2022-12-30T20:16:42.939437",
     "status": "completed"
    },
    "tags": []
   },
   "source": [
    "New cars have zero mileage, so I will choose to change the category \"new\" to \"like new\"."
   ]
  },
  {
   "cell_type": "code",
   "execution_count": 23,
   "id": "01df4b94",
   "metadata": {
    "execution": {
     "iopub.execute_input": "2022-12-30T20:16:42.992929Z",
     "iopub.status.busy": "2022-12-30T20:16:42.992059Z",
     "iopub.status.idle": "2022-12-30T20:16:43.024233Z",
     "shell.execute_reply": "2022-12-30T20:16:43.023309Z"
    },
    "papermill": {
     "duration": 0.05284,
     "end_time": "2022-12-30T20:16:43.026461",
     "exception": false,
     "start_time": "2022-12-30T20:16:42.973621",
     "status": "completed"
    },
    "tags": []
   },
   "outputs": [],
   "source": [
    "df.condition = np.where(df.condition == 'new','like new',df.condition)"
   ]
  },
  {
   "cell_type": "code",
   "execution_count": 24,
   "id": "1863d761",
   "metadata": {
    "execution": {
     "iopub.execute_input": "2022-12-30T20:16:43.064134Z",
     "iopub.status.busy": "2022-12-30T20:16:43.063193Z",
     "iopub.status.idle": "2022-12-30T20:16:43.099950Z",
     "shell.execute_reply": "2022-12-30T20:16:43.098962Z"
    },
    "papermill": {
     "duration": 0.057672,
     "end_time": "2022-12-30T20:16:43.102263",
     "exception": false,
     "start_time": "2022-12-30T20:16:43.044591",
     "status": "completed"
    },
    "tags": []
   },
   "outputs": [
    {
     "data": {
      "text/plain": [
       "condition\n",
       "good          82875.316572\n",
       "like new      90107.051868\n",
       "excellent    105778.566466\n",
       "fair         224468.662039\n",
       "salvage      251844.868151\n",
       "Name: odometer, dtype: float64"
      ]
     },
     "execution_count": 24,
     "metadata": {},
     "output_type": "execute_result"
    }
   ],
   "source": [
    "df.groupby('condition')['odometer'] \\\n",
    ".mean() \\\n",
    ".sort_values()"
   ]
  },
  {
   "cell_type": "code",
   "execution_count": 25,
   "id": "03eaf85c",
   "metadata": {
    "execution": {
     "iopub.execute_input": "2022-12-30T20:16:43.139720Z",
     "iopub.status.busy": "2022-12-30T20:16:43.138832Z",
     "iopub.status.idle": "2022-12-30T20:16:43.329964Z",
     "shell.execute_reply": "2022-12-30T20:16:43.328944Z"
    },
    "papermill": {
     "duration": 0.212186,
     "end_time": "2022-12-30T20:16:43.332535",
     "exception": false,
     "start_time": "2022-12-30T20:16:43.120349",
     "status": "completed"
    },
    "tags": []
   },
   "outputs": [],
   "source": [
    "df.condition = df.condition.replace(['salvage','fair',\n",
    "                                     'good','excellent',\n",
    "                                     'like new'],\n",
    "                                    [0,1,2,3,4])"
   ]
  },
  {
   "cell_type": "markdown",
   "id": "b22ca5b7",
   "metadata": {
    "papermill": {
     "duration": 0.017422,
     "end_time": "2022-12-30T20:16:43.368396",
     "exception": false,
     "start_time": "2022-12-30T20:16:43.350974",
     "status": "completed"
    },
    "tags": []
   },
   "source": [
    "# Feature Enginiering"
   ]
  },
  {
   "cell_type": "code",
   "execution_count": 26,
   "id": "2f889ec6",
   "metadata": {
    "execution": {
     "iopub.execute_input": "2022-12-30T20:16:43.404929Z",
     "iopub.status.busy": "2022-12-30T20:16:43.404580Z",
     "iopub.status.idle": "2022-12-30T20:16:43.434169Z",
     "shell.execute_reply": "2022-12-30T20:16:43.433213Z"
    },
    "papermill": {
     "duration": 0.050233,
     "end_time": "2022-12-30T20:16:43.436329",
     "exception": false,
     "start_time": "2022-12-30T20:16:43.386096",
     "status": "completed"
    },
    "tags": []
   },
   "outputs": [
    {
     "data": {
      "text/html": [
       "<div><div id=2ef5e2a6-b9e2-4b00-b20e-c1fb7024c729 style=\"display:none; background-color:#9D6CFF; color:white; width:200px; height:30px; padding-left:5px; border-radius:4px; flex-direction:row; justify-content:space-around; align-items:center;\" onmouseover=\"this.style.backgroundColor='#BA9BF8'\" onmouseout=\"this.style.backgroundColor='#9D6CFF'\" onclick=\"window.commands?.execute('create-mitosheet-from-dataframe-output');\">See Full Dataframe in Mito</div> <script> if (window.commands?.hasCommand('create-mitosheet-from-dataframe-output')) document.getElementById('2ef5e2a6-b9e2-4b00-b20e-c1fb7024c729').style.display = 'flex' </script> <table border=\"1\" class=\"dataframe\">\n",
       "  <thead>\n",
       "    <tr style=\"text-align: right;\">\n",
       "      <th></th>\n",
       "      <th>year</th>\n",
       "      <th>odometer</th>\n",
       "      <th>price</th>\n",
       "    </tr>\n",
       "  </thead>\n",
       "  <tbody>\n",
       "    <tr>\n",
       "      <th>max</th>\n",
       "      <td>2022.0</td>\n",
       "      <td>10000000.0</td>\n",
       "      <td>3736928711</td>\n",
       "    </tr>\n",
       "    <tr>\n",
       "      <th>min</th>\n",
       "      <td>1900.0</td>\n",
       "      <td>0.0</td>\n",
       "      <td>0</td>\n",
       "    </tr>\n",
       "  </tbody>\n",
       "</table></div>"
      ],
      "text/plain": [
       "       year    odometer       price\n",
       "max  2022.0  10000000.0  3736928711\n",
       "min  1900.0         0.0           0"
      ]
     },
     "execution_count": 26,
     "metadata": {},
     "output_type": "execute_result"
    }
   ],
   "source": [
    "df[['year','odometer','price']].agg({'min','max'})"
   ]
  },
  {
   "cell_type": "markdown",
   "id": "8de74da8",
   "metadata": {
    "papermill": {
     "duration": 0.017354,
     "end_time": "2022-12-30T20:16:43.473300",
     "exception": false,
     "start_time": "2022-12-30T20:16:43.455946",
     "status": "completed"
    },
    "tags": []
   },
   "source": [
    "There are indications of outliers in both variables, for example in this dataset it is oriented to pre-owned and used vehicles, therefore it is impossible for a car to have zero kilometers and it is also very unusual that there are vehicles with a fairly high mileage.\n",
    "\n",
    "It is impossible that there are vehicles with a price of zero dollars and also with an extratospheric price. "
   ]
  },
  {
   "cell_type": "code",
   "execution_count": 27,
   "id": "8fd9da5d",
   "metadata": {
    "execution": {
     "iopub.execute_input": "2022-12-30T20:16:43.510276Z",
     "iopub.status.busy": "2022-12-30T20:16:43.508722Z",
     "iopub.status.idle": "2022-12-30T20:16:43.513902Z",
     "shell.execute_reply": "2022-12-30T20:16:43.513001Z"
    },
    "papermill": {
     "duration": 0.025329,
     "end_time": "2022-12-30T20:16:43.515881",
     "exception": false,
     "start_time": "2022-12-30T20:16:43.490552",
     "status": "completed"
    },
    "tags": []
   },
   "outputs": [],
   "source": [
    "lower_limit,upper_limit = 3000,300_000"
   ]
  },
  {
   "cell_type": "code",
   "execution_count": 28,
   "id": "1f8a5e3e",
   "metadata": {
    "execution": {
     "iopub.execute_input": "2022-12-30T20:16:43.553161Z",
     "iopub.status.busy": "2022-12-30T20:16:43.551627Z",
     "iopub.status.idle": "2022-12-30T20:16:43.623961Z",
     "shell.execute_reply": "2022-12-30T20:16:43.622970Z"
    },
    "papermill": {
     "duration": 0.093057,
     "end_time": "2022-12-30T20:16:43.626319",
     "exception": false,
     "start_time": "2022-12-30T20:16:43.533262",
     "status": "completed"
    },
    "tags": []
   },
   "outputs": [],
   "source": [
    "df = df.query('odometer>@lower_limit and odometer<@upper_limit')"
   ]
  },
  {
   "cell_type": "markdown",
   "id": "ad39c37b",
   "metadata": {
    "papermill": {
     "duration": 0.018834,
     "end_time": "2022-12-30T20:16:43.663460",
     "exception": false,
     "start_time": "2022-12-30T20:16:43.644626",
     "status": "completed"
    },
    "tags": []
   },
   "source": [
    "We define minimum and maximum points to filter only those data that are in a normal range."
   ]
  },
  {
   "cell_type": "code",
   "execution_count": 29,
   "id": "1885c161",
   "metadata": {
    "execution": {
     "iopub.execute_input": "2022-12-30T20:16:43.700035Z",
     "iopub.status.busy": "2022-12-30T20:16:43.699171Z",
     "iopub.status.idle": "2022-12-30T20:16:43.769268Z",
     "shell.execute_reply": "2022-12-30T20:16:43.768152Z"
    },
    "papermill": {
     "duration": 0.091131,
     "end_time": "2022-12-30T20:16:43.771896",
     "exception": false,
     "start_time": "2022-12-30T20:16:43.680765",
     "status": "completed"
    },
    "tags": []
   },
   "outputs": [],
   "source": [
    "df = df.query('year>=2000')"
   ]
  },
  {
   "cell_type": "markdown",
   "id": "9946a822",
   "metadata": {
    "papermill": {
     "duration": 0.01807,
     "end_time": "2022-12-30T20:16:43.808810",
     "exception": false,
     "start_time": "2022-12-30T20:16:43.790740",
     "status": "completed"
    },
    "tags": []
   },
   "source": [
    "It is more useful to use those cars older than 2000 models, since they are more frequent to see."
   ]
  },
  {
   "cell_type": "code",
   "execution_count": 30,
   "id": "a21be803",
   "metadata": {
    "execution": {
     "iopub.execute_input": "2022-12-30T20:16:43.845363Z",
     "iopub.status.busy": "2022-12-30T20:16:43.844514Z",
     "iopub.status.idle": "2022-12-30T20:16:43.849386Z",
     "shell.execute_reply": "2022-12-30T20:16:43.848517Z"
    },
    "papermill": {
     "duration": 0.02537,
     "end_time": "2022-12-30T20:16:43.851553",
     "exception": false,
     "start_time": "2022-12-30T20:16:43.826183",
     "status": "completed"
    },
    "tags": []
   },
   "outputs": [],
   "source": [
    "lower_limit,upper_limit = 1000,110_000"
   ]
  },
  {
   "cell_type": "code",
   "execution_count": 31,
   "id": "fe133f2d",
   "metadata": {
    "execution": {
     "iopub.execute_input": "2022-12-30T20:16:43.888227Z",
     "iopub.status.busy": "2022-12-30T20:16:43.887410Z",
     "iopub.status.idle": "2022-12-30T20:16:43.940047Z",
     "shell.execute_reply": "2022-12-30T20:16:43.939080Z"
    },
    "papermill": {
     "duration": 0.073278,
     "end_time": "2022-12-30T20:16:43.942402",
     "exception": false,
     "start_time": "2022-12-30T20:16:43.869124",
     "status": "completed"
    },
    "tags": []
   },
   "outputs": [],
   "source": [
    "df = df.query('price>@lower_limit and price<@upper_limit')"
   ]
  },
  {
   "cell_type": "markdown",
   "id": "b16d3442",
   "metadata": {
    "papermill": {
     "duration": 0.017282,
     "end_time": "2022-12-30T20:16:43.977899",
     "exception": false,
     "start_time": "2022-12-30T20:16:43.960617",
     "status": "completed"
    },
    "tags": []
   },
   "source": [
    "We carry out a process similar to the previous one."
   ]
  },
  {
   "cell_type": "code",
   "execution_count": 32,
   "id": "46792f68",
   "metadata": {
    "execution": {
     "iopub.execute_input": "2022-12-30T20:16:44.014359Z",
     "iopub.status.busy": "2022-12-30T20:16:44.013502Z",
     "iopub.status.idle": "2022-12-30T20:16:44.033861Z",
     "shell.execute_reply": "2022-12-30T20:16:44.032711Z"
    },
    "papermill": {
     "duration": 0.04078,
     "end_time": "2022-12-30T20:16:44.036044",
     "exception": false,
     "start_time": "2022-12-30T20:16:43.995264",
     "status": "completed"
    },
    "tags": []
   },
   "outputs": [
    {
     "data": {
      "text/html": [
       "<div><div id=1c72b75f-4297-4ecc-a4cf-7ea23bb998ac style=\"display:none; background-color:#9D6CFF; color:white; width:200px; height:30px; padding-left:5px; border-radius:4px; flex-direction:row; justify-content:space-around; align-items:center;\" onmouseover=\"this.style.backgroundColor='#BA9BF8'\" onmouseout=\"this.style.backgroundColor='#9D6CFF'\" onclick=\"window.commands?.execute('create-mitosheet-from-dataframe-output');\">See Full Dataframe in Mito</div> <script> if (window.commands?.hasCommand('create-mitosheet-from-dataframe-output')) document.getElementById('1c72b75f-4297-4ecc-a4cf-7ea23bb998ac').style.display = 'flex' </script> <table border=\"1\" class=\"dataframe\">\n",
       "  <thead>\n",
       "    <tr style=\"text-align: right;\">\n",
       "      <th></th>\n",
       "      <th>year</th>\n",
       "      <th>odometer</th>\n",
       "      <th>price</th>\n",
       "    </tr>\n",
       "  </thead>\n",
       "  <tbody>\n",
       "    <tr>\n",
       "      <th>max</th>\n",
       "      <td>2022.0</td>\n",
       "      <td>299999.0</td>\n",
       "      <td>109999</td>\n",
       "    </tr>\n",
       "    <tr>\n",
       "      <th>min</th>\n",
       "      <td>2000.0</td>\n",
       "      <td>3002.0</td>\n",
       "      <td>1003</td>\n",
       "    </tr>\n",
       "  </tbody>\n",
       "</table></div>"
      ],
      "text/plain": [
       "       year  odometer   price\n",
       "max  2022.0  299999.0  109999\n",
       "min  2000.0    3002.0    1003"
      ]
     },
     "execution_count": 32,
     "metadata": {},
     "output_type": "execute_result"
    }
   ],
   "source": [
    "df[['year','odometer','price']].agg({'min','max'})"
   ]
  },
  {
   "cell_type": "markdown",
   "id": "cf40ab1b",
   "metadata": {
    "papermill": {
     "duration": 0.01725,
     "end_time": "2022-12-30T20:16:44.071125",
     "exception": false,
     "start_time": "2022-12-30T20:16:44.053875",
     "status": "completed"
    },
    "tags": []
   },
   "source": [
    "We verify the changes."
   ]
  },
  {
   "cell_type": "code",
   "execution_count": 33,
   "id": "157fe668",
   "metadata": {
    "execution": {
     "iopub.execute_input": "2022-12-30T20:16:44.107672Z",
     "iopub.status.busy": "2022-12-30T20:16:44.107348Z",
     "iopub.status.idle": "2022-12-30T20:16:44.538083Z",
     "shell.execute_reply": "2022-12-30T20:16:44.536918Z"
    },
    "papermill": {
     "duration": 0.452133,
     "end_time": "2022-12-30T20:16:44.540664",
     "exception": false,
     "start_time": "2022-12-30T20:16:44.088531",
     "status": "completed"
    },
    "tags": []
   },
   "outputs": [
    {
     "data": {
      "image/png": "[encoded data removed]",
      "text/plain": [
       "<Figure size 1080x576 with 1 Axes>"
      ]
     },
     "metadata": {},
     "output_type": "display_data"
    }
   ],
   "source": [
    "df.groupby('manufacturer')['price'] \\\n",
    ".mean() \\\n",
    ".sort_values() \\\n",
    ".plot(kind = \"barh\",\n",
    "      color = colors,\n",
    "      figsize = (15,8),\n",
    "      title = \"Price Mean\",\n",
    "     fontsize = 15)\n",
    "plt.show()"
   ]
  },
  {
   "cell_type": "markdown",
   "id": "c33a7574",
   "metadata": {
    "papermill": {
     "duration": 0.018826,
     "end_time": "2022-12-30T20:16:44.579109",
     "exception": false,
     "start_time": "2022-12-30T20:16:44.560283",
     "status": "completed"
    },
    "tags": []
   },
   "source": [
    "At the top of the graph, it is dominated for the most part by premium car manufacturers such as Ferrari."
   ]
  },
  {
   "cell_type": "code",
   "execution_count": 34,
   "id": "0cddaea1",
   "metadata": {
    "execution": {
     "iopub.execute_input": "2022-12-30T20:16:44.618997Z",
     "iopub.status.busy": "2022-12-30T20:16:44.618561Z",
     "iopub.status.idle": "2022-12-30T20:16:44.649702Z",
     "shell.execute_reply": "2022-12-30T20:16:44.648720Z"
    },
    "papermill": {
     "duration": 0.053951,
     "end_time": "2022-12-30T20:16:44.652072",
     "exception": false,
     "start_time": "2022-12-30T20:16:44.598121",
     "status": "completed"
    },
    "tags": []
   },
   "outputs": [],
   "source": [
    "df.manufacturer = np.where(df.manufacturer == 'rover',\n",
    "                           'land rover',\n",
    "                           df.manufacturer)"
   ]
  },
  {
   "cell_type": "code",
   "execution_count": 35,
   "id": "1ad7a6e9",
   "metadata": {
    "execution": {
     "iopub.execute_input": "2022-12-30T20:16:44.691833Z",
     "iopub.status.busy": "2022-12-30T20:16:44.691126Z",
     "iopub.status.idle": "2022-12-30T20:16:44.719524Z",
     "shell.execute_reply": "2022-12-30T20:16:44.718410Z"
    },
    "papermill": {
     "duration": 0.050515,
     "end_time": "2022-12-30T20:16:44.721717",
     "exception": false,
     "start_time": "2022-12-30T20:16:44.671202",
     "status": "completed"
    },
    "tags": []
   },
   "outputs": [
    {
     "data": {
      "text/plain": [
       "array(['ford', 'gmc', 'chevrolet', 'toyota', 'jeep', 'nissan', 'ram',\n",
       "       'cadillac', 'honda', 'dodge', 'lexus', 'jaguar', 'chrysler',\n",
       "       'volvo', 'audi', 'infiniti', 'lincoln', 'alfa-romeo', 'subaru',\n",
       "       'acura', 'hyundai', 'buick', 'mercedes-benz', 'bmw', 'mitsubishi',\n",
       "       'volkswagen', 'mazda', 'porsche', 'kia', 'land rover', 'ferrari',\n",
       "       'mini', 'pontiac', 'fiat', 'tesla', 'saturn', 'mercury',\n",
       "       'harley-davidson', 'aston-martin'], dtype=object)"
      ]
     },
     "execution_count": 35,
     "metadata": {},
     "output_type": "execute_result"
    }
   ],
   "source": [
    "df.manufacturer.unique()"
   ]
  },
  {
   "cell_type": "code",
   "execution_count": 36,
   "id": "76e2c09c",
   "metadata": {
    "execution": {
     "iopub.execute_input": "2022-12-30T20:16:44.790752Z",
     "iopub.status.busy": "2022-12-30T20:16:44.789935Z",
     "iopub.status.idle": "2022-12-30T20:16:44.802935Z",
     "shell.execute_reply": "2022-12-30T20:16:44.801744Z"
    },
    "papermill": {
     "duration": 0.060685,
     "end_time": "2022-12-30T20:16:44.806242",
     "exception": false,
     "start_time": "2022-12-30T20:16:44.745557",
     "status": "completed"
    },
    "tags": []
   },
   "outputs": [],
   "source": [
    "premium_manufacturers = ['cadillac','jaguar','volvo',\n",
    "                        'audi','mercedes-benz','bmw',\n",
    "                       'porsche','land rover','ferrari',\n",
    "                       'alfa-romeo','gmc','infiniti',\n",
    "                       'acura','buick','mini','lincoln',\n",
    "                       'aston-martin','lexus']"
   ]
  },
  {
   "cell_type": "markdown",
   "id": "11246d31",
   "metadata": {
    "papermill": {
     "duration": 0.037918,
     "end_time": "2022-12-30T20:16:44.889764",
     "exception": false,
     "start_time": "2022-12-30T20:16:44.851846",
     "status": "completed"
    },
    "tags": []
   },
   "source": [
    "We create a list with the name of Premium manufacturers to create an auxiliary variable."
   ]
  },
  {
   "cell_type": "code",
   "execution_count": 37,
   "id": "bd6490e4",
   "metadata": {
    "execution": {
     "iopub.execute_input": "2022-12-30T20:16:44.947775Z",
     "iopub.status.busy": "2022-12-30T20:16:44.947340Z",
     "iopub.status.idle": "2022-12-30T20:16:45.129642Z",
     "shell.execute_reply": "2022-12-30T20:16:45.128553Z"
    },
    "papermill": {
     "duration": 0.21472,
     "end_time": "2022-12-30T20:16:45.132877",
     "exception": false,
     "start_time": "2022-12-30T20:16:44.918157",
     "status": "completed"
    },
    "tags": []
   },
   "outputs": [],
   "source": [
    "df['premium'] = df.manufacturer \\\n",
    ".apply(lambda x: 'yes' if x in premium_manufacturers else 'no')"
   ]
  },
  {
   "cell_type": "code",
   "execution_count": 38,
   "id": "2d037410",
   "metadata": {
    "execution": {
     "iopub.execute_input": "2022-12-30T20:16:45.196065Z",
     "iopub.status.busy": "2022-12-30T20:16:45.195676Z",
     "iopub.status.idle": "2022-12-30T20:16:45.429718Z",
     "shell.execute_reply": "2022-12-30T20:16:45.428460Z"
    },
    "papermill": {
     "duration": 0.267194,
     "end_time": "2022-12-30T20:16:45.432380",
     "exception": false,
     "start_time": "2022-12-30T20:16:45.165186",
     "status": "completed"
    },
    "tags": []
   },
   "outputs": [
    {
     "data": {
      "image/png": "[encoded data removed]",
      "text/plain": [
       "<Figure size 1080x576 with 1 Axes>"
      ]
     },
     "metadata": {},
     "output_type": "display_data"
    }
   ],
   "source": [
    "df.groupby('premium')['price'] \\\n",
    ".mean() \\\n",
    ".sort_values() \\\n",
    ".plot(kind = \"barh\",\n",
    "      color = colors,\n",
    "      figsize = (15,8),\n",
    "      title = \"Price Mean\",\n",
    "     fontsize = 15)\n",
    "plt.show()"
   ]
  },
  {
   "cell_type": "markdown",
   "id": "37bc6277",
   "metadata": {
    "papermill": {
     "duration": 0.020265,
     "end_time": "2022-12-30T20:16:45.473102",
     "exception": false,
     "start_time": "2022-12-30T20:16:45.452837",
     "status": "completed"
    },
    "tags": []
   },
   "source": [
    "Premium brands have a much higher average price, since they are more powerful and safer cars."
   ]
  },
  {
   "cell_type": "code",
   "execution_count": 40,
   "id": "13b1949b",
   "metadata": {
    "execution": {
     "iopub.execute_input": "2022-12-30T20:16:45.515538Z",
     "iopub.status.busy": "2022-12-30T20:16:45.515176Z",
     "iopub.status.idle": "2022-12-30T20:16:46.324592Z",
     "shell.execute_reply": "2022-12-30T20:16:46.323620Z"
    },
    "papermill": {
     "duration": 0.832326,
     "end_time": "2022-12-30T20:16:46.326865",
     "exception": false,
     "start_time": "2022-12-30T20:16:45.494539",
     "status": "completed"
    },
    "tags": []
   },
   "outputs": [
    {
     "data": {
      "image/png": "[encoded data removed]",
      "text/plain": [
       "<Figure size 1080x360 with 1 Axes>"
      ]
     },
     "metadata": {},
     "output_type": "display_data"
    }
   ],
   "source": [
    "df.plot(kind = \"scatter\",\n",
    "        x = \"odometer\",\n",
    "        y = \"price\",\n",
    "        figsize = (15,5),\n",
    "        title = \"Odometer vs Price\",\n",
    "       alpha = 0.01,\n",
    "       color = colors[0])\n",
    "plt.show()"
   ]
  },
  {
   "cell_type": "markdown",
   "id": "14d7e8ec",
   "metadata": {
    "papermill": {
     "duration": 0.020812,
     "end_time": "2022-12-30T20:16:46.369263",
     "exception": false,
     "start_time": "2022-12-30T20:16:46.348451",
     "status": "completed"
    },
    "tags": []
   },
   "source": [
    "It makes sense that the more mileage a car has, its price goes down as more wear and tear occurs."
   ]
  },
  {
   "cell_type": "code",
   "execution_count": 41,
   "id": "0c5c9c21",
   "metadata": {
    "execution": {
     "iopub.execute_input": "2022-12-30T20:16:46.412671Z",
     "iopub.status.busy": "2022-12-30T20:16:46.411680Z",
     "iopub.status.idle": "2022-12-30T20:16:46.420464Z",
     "shell.execute_reply": "2022-12-30T20:16:46.419609Z"
    },
    "papermill": {
     "duration": 0.032402,
     "end_time": "2022-12-30T20:16:46.422536",
     "exception": false,
     "start_time": "2022-12-30T20:16:46.390134",
     "status": "completed"
    },
    "tags": []
   },
   "outputs": [],
   "source": [
    "df.year = df.year.astype('int')"
   ]
  },
  {
   "cell_type": "code",
   "execution_count": 42,
   "id": "b532013f",
   "metadata": {
    "execution": {
     "iopub.execute_input": "2022-12-30T20:16:46.464735Z",
     "iopub.status.busy": "2022-12-30T20:16:46.463923Z",
     "iopub.status.idle": "2022-12-30T20:16:47.287618Z",
     "shell.execute_reply": "2022-12-30T20:16:47.286685Z"
    },
    "papermill": {
     "duration": 0.846844,
     "end_time": "2022-12-30T20:16:47.289649",
     "exception": false,
     "start_time": "2022-12-30T20:16:46.442805",
     "status": "completed"
    },
    "tags": []
   },
   "outputs": [
    {
     "data": {
      "image/png": "[encoded data removed]",
      "text/plain": [
       "<Figure size 1080x360 with 1 Axes>"
      ]
     },
     "metadata": {},
     "output_type": "display_data"
    }
   ],
   "source": [
    "df.plot(kind = \"scatter\",\n",
    "        x = \"year\",\n",
    "        y = \"price\",\n",
    "        figsize = (15,5),\n",
    "        title = \"Year vs Price\",\n",
    "       color = colors[0])\n",
    "plt.show()"
   ]
  },
  {
   "cell_type": "markdown",
   "id": "86655008",
   "metadata": {
    "papermill": {
     "duration": 0.02028,
     "end_time": "2022-12-30T20:16:47.330703",
     "exception": false,
     "start_time": "2022-12-30T20:16:47.310423",
     "status": "completed"
    },
    "tags": []
   },
   "source": [
    "There are cars with a year of manufacture less than the year 2010, a fairly high price since the natural thing is that the price goes down in value, we will calculate an interval to eliminate outliers.There are very few cars belonging to the year 2022, it is better to eliminate them, since it can skew the model and can imply that the more recent the model, the cheaper the car."
   ]
  },
  {
   "cell_type": "code",
   "execution_count": 43,
   "id": "8e4492b2",
   "metadata": {
    "execution": {
     "iopub.execute_input": "2022-12-30T20:16:47.374229Z",
     "iopub.status.busy": "2022-12-30T20:16:47.373851Z",
     "iopub.status.idle": "2022-12-30T20:16:47.514279Z",
     "shell.execute_reply": "2022-12-30T20:16:47.513332Z"
    },
    "papermill": {
     "duration": 0.165376,
     "end_time": "2022-12-30T20:16:47.516718",
     "exception": false,
     "start_time": "2022-12-30T20:16:47.351342",
     "status": "completed"
    },
    "tags": []
   },
   "outputs": [],
   "source": [
    "df = df.query('year<2022')"
   ]
  },
  {
   "cell_type": "code",
   "execution_count": 44,
   "id": "42e7bdde",
   "metadata": {
    "execution": {
     "iopub.execute_input": "2022-12-30T20:16:47.561654Z",
     "iopub.status.busy": "2022-12-30T20:16:47.560640Z",
     "iopub.status.idle": "2022-12-30T20:16:47.868293Z",
     "shell.execute_reply": "2022-12-30T20:16:47.867398Z"
    },
    "papermill": {
     "duration": 0.332486,
     "end_time": "2022-12-30T20:16:47.870355",
     "exception": false,
     "start_time": "2022-12-30T20:16:47.537869",
     "status": "completed"
    },
    "tags": []
   },
   "outputs": [
    {
     "data": {
      "image/png": "[encoded data removed]",
      "text/plain": [
       "<Figure size 1080x576 with 1 Axes>"
      ]
     },
     "metadata": {},
     "output_type": "display_data"
    }
   ],
   "source": [
    "df.groupby('year')['price'] \\\n",
    ".mean() \\\n",
    ".sort_values() \\\n",
    ".plot(kind = \"barh\",\n",
    "      color = colors,\n",
    "      figsize = (15,8),\n",
    "      title = \"Price Mean\",\n",
    "     fontsize = 15)\n",
    "plt.show()"
   ]
  },
  {
   "cell_type": "markdown",
   "id": "627dd727",
   "metadata": {
    "papermill": {
     "duration": 0.021548,
     "end_time": "2022-12-30T20:16:47.913622",
     "exception": false,
     "start_time": "2022-12-30T20:16:47.892074",
     "status": "completed"
    },
    "tags": []
   },
   "source": [
    "As we can see in the graph, it is normal for the most recent cars to have a higher price than older models."
   ]
  },
  {
   "cell_type": "code",
   "execution_count": 45,
   "id": "9d09f927",
   "metadata": {
    "execution": {
     "iopub.execute_input": "2022-12-30T20:16:47.959190Z",
     "iopub.status.busy": "2022-12-30T20:16:47.958154Z",
     "iopub.status.idle": "2022-12-30T20:16:47.963380Z",
     "shell.execute_reply": "2022-12-30T20:16:47.962512Z"
    },
    "papermill": {
     "duration": 0.030128,
     "end_time": "2022-12-30T20:16:47.965429",
     "exception": false,
     "start_time": "2022-12-30T20:16:47.935301",
     "status": "completed"
    },
    "tags": []
   },
   "outputs": [],
   "source": [
    "def UpperLimit(x):\n",
    "    return np.round(np.quantile(x,0.99),2)"
   ]
  },
  {
   "cell_type": "code",
   "execution_count": 46,
   "id": "f4e12d47",
   "metadata": {
    "execution": {
     "iopub.execute_input": "2022-12-30T20:16:48.009943Z",
     "iopub.status.busy": "2022-12-30T20:16:48.009094Z",
     "iopub.status.idle": "2022-12-30T20:16:48.037375Z",
     "shell.execute_reply": "2022-12-30T20:16:48.036480Z"
    },
    "papermill": {
     "duration": 0.052719,
     "end_time": "2022-12-30T20:16:48.039853",
     "exception": false,
     "start_time": "2022-12-30T20:16:47.987134",
     "status": "completed"
    },
    "tags": []
   },
   "outputs": [],
   "source": [
    "upper_limits = df.groupby('year')['price'].apply(UpperLimit)"
   ]
  },
  {
   "cell_type": "code",
   "execution_count": 47,
   "id": "f8ce9473",
   "metadata": {
    "execution": {
     "iopub.execute_input": "2022-12-30T20:16:48.083880Z",
     "iopub.status.busy": "2022-12-30T20:16:48.083583Z",
     "iopub.status.idle": "2022-12-30T20:16:48.090630Z",
     "shell.execute_reply": "2022-12-30T20:16:48.089700Z"
    },
    "papermill": {
     "duration": 0.030784,
     "end_time": "2022-12-30T20:16:48.092514",
     "exception": false,
     "start_time": "2022-12-30T20:16:48.061730",
     "status": "completed"
    },
    "tags": []
   },
   "outputs": [
    {
     "data": {
      "text/plain": [
       "year\n",
       "2000    33500.00\n",
       "2001    36500.00\n",
       "2002    32999.00\n",
       "2003    31500.00\n",
       "2004    32800.00\n",
       "2005    39800.00\n",
       "2006    36995.00\n",
       "2007    39500.00\n",
       "2008    35000.00\n",
       "2009    36999.76\n",
       "2010    37990.00\n",
       "2011    42995.00\n",
       "2012    46969.00\n",
       "2013    51880.00\n",
       "2014    51990.00\n",
       "2015    57990.00\n",
       "2016    61495.00\n",
       "2017    68995.00\n",
       "2018    69995.80\n",
       "2019    77995.00\n",
       "2020    84999.16\n",
       "2021    89995.00\n",
       "Name: price, dtype: float64"
      ]
     },
     "execution_count": 47,
     "metadata": {},
     "output_type": "execute_result"
    }
   ],
   "source": [
    "upper_limits"
   ]
  },
  {
   "cell_type": "markdown",
   "id": "a48c4b27",
   "metadata": {
    "papermill": {
     "duration": 0.021144,
     "end_time": "2022-12-30T20:16:48.135389",
     "exception": false,
     "start_time": "2022-12-30T20:16:48.114245",
     "status": "completed"
    },
    "tags": []
   },
   "source": [
    "Calculate the upper range based on the model year of the vehicles."
   ]
  },
  {
   "cell_type": "code",
   "execution_count": 48,
   "id": "ffbbe30d",
   "metadata": {
    "execution": {
     "iopub.execute_input": "2022-12-30T20:16:48.180073Z",
     "iopub.status.busy": "2022-12-30T20:16:48.178933Z",
     "iopub.status.idle": "2022-12-30T20:16:48.186000Z",
     "shell.execute_reply": "2022-12-30T20:16:48.184802Z"
    },
    "papermill": {
     "duration": 0.031752,
     "end_time": "2022-12-30T20:16:48.188278",
     "exception": false,
     "start_time": "2022-12-30T20:16:48.156526",
     "status": "completed"
    },
    "tags": []
   },
   "outputs": [],
   "source": [
    "def delete_outlires_year(df,upper_limits):\n",
    "    year_dict = {}\n",
    "    years = np.arange(2001,2021+1,1)\n",
    "    \n",
    "    for year,upper_limit in zip(years,upper_limits):\n",
    "        df_year = df.query('year==@year')\n",
    "      \n",
    "        df_year = df_year.query('price<@upper_limit')\n",
    "        \n",
    "        year_dict[year] = df_year\n",
    "        \n",
    "    return year_dict"
   ]
  },
  {
   "cell_type": "markdown",
   "id": "6f083c16",
   "metadata": {
    "papermill": {
     "duration": 0.021057,
     "end_time": "2022-12-30T20:16:48.231609",
     "exception": false,
     "start_time": "2022-12-30T20:16:48.210552",
     "status": "completed"
    },
    "tags": []
   },
   "source": [
    "We create a function to estimate an upper interval, then we calculate the upper limit based on the year of the model, later we use these intervals to eliminate outliers, we create a loop to make the cleaning faster and save the data in a dictionary to later create a dataframe with the values already cleaned."
   ]
  },
  {
   "cell_type": "code",
   "execution_count": 49,
   "id": "2b8d7f11",
   "metadata": {
    "execution": {
     "iopub.execute_input": "2022-12-30T20:16:48.277088Z",
     "iopub.status.busy": "2022-12-30T20:16:48.276110Z",
     "iopub.status.idle": "2022-12-30T20:16:48.593082Z",
     "shell.execute_reply": "2022-12-30T20:16:48.592111Z"
    },
    "papermill": {
     "duration": 0.342715,
     "end_time": "2022-12-30T20:16:48.595411",
     "exception": false,
     "start_time": "2022-12-30T20:16:48.252696",
     "status": "completed"
    },
    "tags": []
   },
   "outputs": [],
   "source": [
    "df2 = delete_outlires_year(df,upper_limits)"
   ]
  },
  {
   "cell_type": "code",
   "execution_count": 50,
   "id": "6a0c2842",
   "metadata": {
    "execution": {
     "iopub.execute_input": "2022-12-30T20:16:48.640739Z",
     "iopub.status.busy": "2022-12-30T20:16:48.640007Z",
     "iopub.status.idle": "2022-12-30T20:16:48.648956Z",
     "shell.execute_reply": "2022-12-30T20:16:48.648025Z"
    },
    "papermill": {
     "duration": 0.033932,
     "end_time": "2022-12-30T20:16:48.651014",
     "exception": false,
     "start_time": "2022-12-30T20:16:48.617082",
     "status": "completed"
    },
    "tags": []
   },
   "outputs": [],
   "source": [
    "def concatene_df():\n",
    "    \n",
    "    year_2001 = df2[2001]\n",
    "    year_2002 = df2[2002]\n",
    "    year_2003 = df2[2003]\n",
    "    year_2004 = df2[2004]\n",
    "    year_2005 = df2[2005]\n",
    "\n",
    "    year_2006 = df2[2006]\n",
    "    year_2007 = df2[2007]\n",
    "    year_2008 = df2[2008]\n",
    "    year_2009 = df2[2009]\n",
    "    year_2010 = df2[2010]\n",
    "    \n",
    "    df_year_2001_2010 = pd.concat([year_2001,\n",
    "                               year_2002,\n",
    "                               year_2003,\n",
    "                               year_2004,\n",
    "                               year_2005,\n",
    "                              year_2006,\n",
    "                              year_2007,\n",
    "                              year_2008,\n",
    "                              year_2009,\n",
    "                              year_2010])\n",
    "    \n",
    "    \n",
    "    \n",
    "    year_2011 = df2[2011]\n",
    "    year_2012 = df2[2012]\n",
    "    year_2013 = df2[2013]\n",
    "    year_2014 = df2[2014]\n",
    "    year_2015 = df2[2015]\n",
    "    \n",
    "    year_2016 = df2[2016]\n",
    "    year_2017 = df2[2017]\n",
    "    year_2018 = df2[2018]\n",
    "    year_2019 = df2[2019]\n",
    "    year_2020 = df2[2020]\n",
    "    \n",
    "    year_2021 = df2[2021]\n",
    "    \n",
    "    \n",
    "    df_year_2011_2021 = pd.concat([year_2011,\n",
    "                                  year_2012,\n",
    "                                  year_2013,\n",
    "                                  year_2014,\n",
    "                                  year_2015,\n",
    "                                 year_2016,\n",
    "                                 year_2017,\n",
    "                                 year_2018,\n",
    "                                 year_2019,\n",
    "                                 year_2020,\n",
    "                                 year_2021])\n",
    "    \n",
    "    df3 = pd.concat([df_year_2001_2010,df_year_2011_2021])\n",
    "    \n",
    "    return df3"
   ]
  },
  {
   "cell_type": "code",
   "execution_count": 51,
   "id": "f4f7a985",
   "metadata": {
    "execution": {
     "iopub.execute_input": "2022-12-30T20:16:48.694201Z",
     "iopub.status.busy": "2022-12-30T20:16:48.693931Z",
     "iopub.status.idle": "2022-12-30T20:16:48.827929Z",
     "shell.execute_reply": "2022-12-30T20:16:48.826933Z"
    },
    "papermill": {
     "duration": 0.158383,
     "end_time": "2022-12-30T20:16:48.830402",
     "exception": false,
     "start_time": "2022-12-30T20:16:48.672019",
     "status": "completed"
    },
    "tags": []
   },
   "outputs": [],
   "source": [
    "df3 = concatene_df()"
   ]
  },
  {
   "cell_type": "markdown",
   "id": "93b91484",
   "metadata": {
    "papermill": {
     "duration": 0.021886,
     "end_time": "2022-12-30T20:16:48.875972",
     "exception": false,
     "start_time": "2022-12-30T20:16:48.854086",
     "status": "completed"
    },
    "tags": []
   },
   "source": [
    "We create a dataframe already without outliers."
   ]
  },
  {
   "cell_type": "code",
   "execution_count": 53,
   "id": "7fa8b7ea",
   "metadata": {
    "execution": {
     "iopub.execute_input": "2022-12-30T20:16:48.922022Z",
     "iopub.status.busy": "2022-12-30T20:16:48.921325Z",
     "iopub.status.idle": "2022-12-30T20:16:50.420129Z",
     "shell.execute_reply": "2022-12-30T20:16:50.419260Z"
    },
    "papermill": {
     "duration": 1.524278,
     "end_time": "2022-12-30T20:16:50.422226",
     "exception": false,
     "start_time": "2022-12-30T20:16:48.897948",
     "status": "completed"
    },
    "tags": []
   },
   "outputs": [
    {
     "data": {
      "image/png": "[encoded data removed]",
      "text/plain": [
       "<Figure size 1080x576 with 2 Axes>"
      ]
     },
     "metadata": {},
     "output_type": "display_data"
    }
   ],
   "source": [
    "fig,ax = plt.subplots(1,2,figsize = (15,8))\n",
    "\n",
    "df.plot(kind = \"scatter\",\n",
    "        x = \"year\",\n",
    "        y = \"price\",\n",
    "        title = \"Data Dirty\",\n",
    "       color = colors[1],\n",
    "             ax = ax[0])\n",
    "\n",
    "df3.plot(kind = \"scatter\",\n",
    "        x = \"year\",\n",
    "        y = \"price\",\n",
    "        title = \"Feature Enginieirng\",\n",
    "       color = colors[2],\n",
    "             ax = ax[1])\n",
    "       \n",
    "plt.show()"
   ]
  },
  {
   "cell_type": "markdown",
   "id": "d1ddf3bd",
   "metadata": {
    "papermill": {
     "duration": 0.022704,
     "end_time": "2022-12-30T20:16:50.467087",
     "exception": false,
     "start_time": "2022-12-30T20:16:50.444383",
     "status": "completed"
    },
    "tags": []
   },
   "source": [
    "We observe a better behavior of the data."
   ]
  },
  {
   "cell_type": "code",
   "execution_count": 54,
   "id": "16263c28",
   "metadata": {
    "execution": {
     "iopub.execute_input": "2022-12-30T20:16:50.515224Z",
     "iopub.status.busy": "2022-12-30T20:16:50.514902Z",
     "iopub.status.idle": "2022-12-30T20:16:50.646821Z",
     "shell.execute_reply": "2022-12-30T20:16:50.645818Z"
    },
    "papermill": {
     "duration": 0.157241,
     "end_time": "2022-12-30T20:16:50.649323",
     "exception": false,
     "start_time": "2022-12-30T20:16:50.492082",
     "status": "completed"
    },
    "tags": []
   },
   "outputs": [],
   "source": [
    "df3.dropna(subset = ['condition','cylinders'],inplace = True)"
   ]
  },
  {
   "cell_type": "markdown",
   "id": "d89ca299",
   "metadata": {
    "papermill": {
     "duration": 0.021457,
     "end_time": "2022-12-30T20:16:50.693349",
     "exception": false,
     "start_time": "2022-12-30T20:16:50.671892",
     "status": "completed"
    },
    "tags": []
   },
   "source": [
    "We remove missing values for those columns that have a large percentage of missing values."
   ]
  },
  {
   "cell_type": "code",
   "execution_count": 55,
   "id": "f3438516",
   "metadata": {
    "execution": {
     "iopub.execute_input": "2022-12-30T20:16:50.739042Z",
     "iopub.status.busy": "2022-12-30T20:16:50.737983Z",
     "iopub.status.idle": "2022-12-30T20:16:50.744980Z",
     "shell.execute_reply": "2022-12-30T20:16:50.743989Z"
    },
    "papermill": {
     "duration": 0.032246,
     "end_time": "2022-12-30T20:16:50.747023",
     "exception": false,
     "start_time": "2022-12-30T20:16:50.714777",
     "status": "completed"
    },
    "tags": []
   },
   "outputs": [
    {
     "data": {
      "text/plain": [
       "(146090, 14)"
      ]
     },
     "execution_count": 55,
     "metadata": {},
     "output_type": "execute_result"
    }
   ],
   "source": [
    "df3.shape"
   ]
  },
  {
   "cell_type": "code",
   "execution_count": 56,
   "id": "10f40f80",
   "metadata": {
    "execution": {
     "iopub.execute_input": "2022-12-30T20:16:50.792913Z",
     "iopub.status.busy": "2022-12-30T20:16:50.792558Z",
     "iopub.status.idle": "2022-12-30T20:16:51.009119Z",
     "shell.execute_reply": "2022-12-30T20:16:51.008064Z"
    },
    "papermill": {
     "duration": 0.241878,
     "end_time": "2022-12-30T20:16:51.011281",
     "exception": false,
     "start_time": "2022-12-30T20:16:50.769403",
     "status": "completed"
    },
    "tags": []
   },
   "outputs": [
    {
     "data": {
      "image/png": "[encoded data removed]",
      "text/plain": [
       "<Figure size 1080x576 with 1 Axes>"
      ]
     },
     "metadata": {},
     "output_type": "display_data"
    }
   ],
   "source": [
    "df3.model.value_counts() \\\n",
    ".head() \\\n",
    ".sort_values(ascending=True) \\\n",
    ".plot(kind = \"barh\",\n",
    "      color = colors,\n",
    "      figsize = (15,8),\n",
    "      title = \"Top 5 Frecuent Models\",\n",
    "     fontsize = 15)\n",
    "plt.show()"
   ]
  },
  {
   "cell_type": "markdown",
   "id": "c272f61a",
   "metadata": {
    "papermill": {
     "duration": 0.02202,
     "end_time": "2022-12-30T20:16:51.056109",
     "exception": false,
     "start_time": "2022-12-30T20:16:51.034089",
     "status": "completed"
    },
    "tags": []
   },
   "source": [
    "It makes sense that the ford f-15o truck is in first place as the best-selling truck in all of history."
   ]
  },
  {
   "cell_type": "code",
   "execution_count": 57,
   "id": "ee5ab184",
   "metadata": {
    "execution": {
     "iopub.execute_input": "2022-12-30T20:16:51.102030Z",
     "iopub.status.busy": "2022-12-30T20:16:51.101422Z",
     "iopub.status.idle": "2022-12-30T20:16:51.124717Z",
     "shell.execute_reply": "2022-12-30T20:16:51.123878Z"
    },
    "papermill": {
     "duration": 0.048386,
     "end_time": "2022-12-30T20:16:51.126690",
     "exception": false,
     "start_time": "2022-12-30T20:16:51.078304",
     "status": "completed"
    },
    "tags": []
   },
   "outputs": [],
   "source": [
    "serie = df3.model.value_counts()"
   ]
  },
  {
   "cell_type": "code",
   "execution_count": 58,
   "id": "812377e7",
   "metadata": {
    "execution": {
     "iopub.execute_input": "2022-12-30T20:16:51.172435Z",
     "iopub.status.busy": "2022-12-30T20:16:51.171655Z",
     "iopub.status.idle": "2022-12-30T20:16:51.176902Z",
     "shell.execute_reply": "2022-12-30T20:16:51.176054Z"
    },
    "papermill": {
     "duration": 0.030496,
     "end_time": "2022-12-30T20:16:51.179071",
     "exception": false,
     "start_time": "2022-12-30T20:16:51.148575",
     "status": "completed"
    },
    "tags": []
   },
   "outputs": [],
   "source": [
    "models = serie[serie < 2]"
   ]
  },
  {
   "cell_type": "code",
   "execution_count": 59,
   "id": "8b0a6759",
   "metadata": {
    "execution": {
     "iopub.execute_input": "2022-12-30T20:16:51.225524Z",
     "iopub.status.busy": "2022-12-30T20:16:51.224998Z",
     "iopub.status.idle": "2022-12-30T20:16:51.232801Z",
     "shell.execute_reply": "2022-12-30T20:16:51.231871Z"
    },
    "papermill": {
     "duration": 0.03361,
     "end_time": "2022-12-30T20:16:51.234751",
     "exception": false,
     "start_time": "2022-12-30T20:16:51.201141",
     "status": "completed"
    },
    "tags": []
   },
   "outputs": [
    {
     "data": {
      "text/plain": [
       "glc300 4matic                   1\n",
       "sierra 3500hd denali duramax    1\n",
       "c-class amg c 63                1\n",
       "e-class e400                    1\n",
       "altima 2.5 sl sedan             1\n",
       "                               ..\n",
       "suzuki xl7 luxury edition       1\n",
       "Genesis 4.6                     1\n",
       "escalade suv                    1\n",
       "savana 3500 box van             1\n",
       "2021 Silverado                  1\n",
       "Name: model, Length: 6599, dtype: int64"
      ]
     },
     "execution_count": 59,
     "metadata": {},
     "output_type": "execute_result"
    }
   ],
   "source": [
    "models"
   ]
  },
  {
   "cell_type": "code",
   "execution_count": 59,
   "id": "616acc95",
   "metadata": {
    "execution": {
     "iopub.execute_input": "2022-12-30T20:16:51.280915Z",
     "iopub.status.busy": "2022-12-30T20:16:51.280153Z",
     "iopub.status.idle": "2022-12-30T20:16:51.447210Z",
     "shell.execute_reply": "2022-12-30T20:16:51.446241Z"
    },
    "papermill": {
     "duration": 0.192845,
     "end_time": "2022-12-30T20:16:51.449749",
     "exception": false,
     "start_time": "2022-12-30T20:16:51.256904",
     "status": "completed"
    },
    "tags": []
   },
   "outputs": [],
   "source": [
    "df3.model = df3.model.apply(lambda x: 'other' if x in models else x)\n",
    "df3 = df3.query('model!=\"other\"')"
   ]
  },
  {
   "cell_type": "markdown",
   "id": "1736988e",
   "metadata": {
    "papermill": {
     "duration": 0.021915,
     "end_time": "2022-12-30T20:16:51.494281",
     "exception": false,
     "start_time": "2022-12-30T20:16:51.472366",
     "status": "completed"
    },
    "tags": []
   },
   "source": [
    "We leave all the models that are repeated at least 1 times, otherwise we will assign another category called \"Other\" to later eliminate them, since they are repeated less frequently and can bias the model."
   ]
  },
  {
   "cell_type": "code",
   "execution_count": 60,
   "id": "2f87eca2",
   "metadata": {
    "execution": {
     "iopub.execute_input": "2022-12-30T20:16:51.540466Z",
     "iopub.status.busy": "2022-12-30T20:16:51.539601Z",
     "iopub.status.idle": "2022-12-30T20:16:51.563571Z",
     "shell.execute_reply": "2022-12-30T20:16:51.562531Z"
    },
    "papermill": {
     "duration": 0.049327,
     "end_time": "2022-12-30T20:16:51.565587",
     "exception": false,
     "start_time": "2022-12-30T20:16:51.516260",
     "status": "completed"
    },
    "tags": []
   },
   "outputs": [
    {
     "data": {
      "text/html": [
       "<div><div id=9cda9793-5a14-4e82-933f-ebdecd839468 style=\"display:none; background-color:#9D6CFF; color:white; width:200px; height:30px; padding-left:5px; border-radius:4px; flex-direction:row; justify-content:space-around; align-items:center;\" onmouseover=\"this.style.backgroundColor='#BA9BF8'\" onmouseout=\"this.style.backgroundColor='#9D6CFF'\" onclick=\"window.commands?.execute('create-mitosheet-from-dataframe-output');\">See Full Dataframe in Mito</div> <script> if (window.commands?.hasCommand('create-mitosheet-from-dataframe-output')) document.getElementById('9cda9793-5a14-4e82-933f-ebdecd839468').style.display = 'flex' </script> <table border=\"1\" class=\"dataframe\">\n",
       "  <thead>\n",
       "    <tr style=\"text-align: right;\">\n",
       "      <th></th>\n",
       "      <th>price</th>\n",
       "      <th>year</th>\n",
       "      <th>manufacturer</th>\n",
       "      <th>model</th>\n",
       "      <th>condition</th>\n",
       "      <th>cylinders</th>\n",
       "      <th>fuel</th>\n",
       "      <th>odometer</th>\n",
       "      <th>title_status</th>\n",
       "      <th>transmission</th>\n",
       "      <th>drive</th>\n",
       "      <th>type</th>\n",
       "      <th>paint_color</th>\n",
       "      <th>premium</th>\n",
       "    </tr>\n",
       "  </thead>\n",
       "  <tbody>\n",
       "    <tr>\n",
       "      <th>185107</th>\n",
       "      <td>9000</td>\n",
       "      <td>2016</td>\n",
       "      <td>ford</td>\n",
       "      <td>2016</td>\n",
       "      <td>3.0</td>\n",
       "      <td>4.0</td>\n",
       "      <td>gas</td>\n",
       "      <td>99000.0</td>\n",
       "      <td>lien</td>\n",
       "      <td>automatic</td>\n",
       "      <td>fwd</td>\n",
       "      <td>hatchback</td>\n",
       "      <td>red</td>\n",
       "      <td>no</td>\n",
       "    </tr>\n",
       "    <tr>\n",
       "      <th>268206</th>\n",
       "      <td>13950</td>\n",
       "      <td>2016</td>\n",
       "      <td>ford</td>\n",
       "      <td>2016</td>\n",
       "      <td>4.0</td>\n",
       "      <td>4.0</td>\n",
       "      <td>gas</td>\n",
       "      <td>6900.0</td>\n",
       "      <td>clean</td>\n",
       "      <td>automatic</td>\n",
       "      <td>fwd</td>\n",
       "      <td>NaN</td>\n",
       "      <td>red</td>\n",
       "      <td>no</td>\n",
       "    </tr>\n",
       "    <tr>\n",
       "      <th>270629</th>\n",
       "      <td>11500</td>\n",
       "      <td>2016</td>\n",
       "      <td>ford</td>\n",
       "      <td>2016</td>\n",
       "      <td>3.0</td>\n",
       "      <td>4.0</td>\n",
       "      <td>gas</td>\n",
       "      <td>81000.0</td>\n",
       "      <td>clean</td>\n",
       "      <td>automatic</td>\n",
       "      <td>fwd</td>\n",
       "      <td>sedan</td>\n",
       "      <td>red</td>\n",
       "      <td>no</td>\n",
       "    </tr>\n",
       "    <tr>\n",
       "      <th>290993</th>\n",
       "      <td>29000</td>\n",
       "      <td>2016</td>\n",
       "      <td>ford</td>\n",
       "      <td>2016</td>\n",
       "      <td>4.0</td>\n",
       "      <td>6.0</td>\n",
       "      <td>gas</td>\n",
       "      <td>27000.0</td>\n",
       "      <td>clean</td>\n",
       "      <td>automatic</td>\n",
       "      <td>4wd</td>\n",
       "      <td>truck</td>\n",
       "      <td>white</td>\n",
       "      <td>no</td>\n",
       "    </tr>\n",
       "    <tr>\n",
       "      <th>333731</th>\n",
       "      <td>12500</td>\n",
       "      <td>2016</td>\n",
       "      <td>buick</td>\n",
       "      <td>2016</td>\n",
       "      <td>3.0</td>\n",
       "      <td>4.0</td>\n",
       "      <td>gas</td>\n",
       "      <td>18000.0</td>\n",
       "      <td>rebuilt</td>\n",
       "      <td>automatic</td>\n",
       "      <td>fwd</td>\n",
       "      <td>SUV</td>\n",
       "      <td>orange</td>\n",
       "      <td>yes</td>\n",
       "    </tr>\n",
       "  </tbody>\n",
       "</table></div>"
      ],
      "text/plain": [
       "        price  year manufacturer model  condition  cylinders fuel  odometer  \\\n",
       "185107   9000  2016         ford  2016        3.0        4.0  gas   99000.0   \n",
       "268206  13950  2016         ford  2016        4.0        4.0  gas    6900.0   \n",
       "270629  11500  2016         ford  2016        3.0        4.0  gas   81000.0   \n",
       "290993  29000  2016         ford  2016        4.0        6.0  gas   27000.0   \n",
       "333731  12500  2016        buick  2016        3.0        4.0  gas   18000.0   \n",
       "\n",
       "       title_status transmission drive       type paint_color premium  \n",
       "185107         lien    automatic   fwd  hatchback         red      no  \n",
       "268206        clean    automatic   fwd        NaN         red      no  \n",
       "270629        clean    automatic   fwd      sedan         red      no  \n",
       "290993        clean    automatic   4wd      truck       white      no  \n",
       "333731      rebuilt    automatic   fwd        SUV      orange     yes  "
      ]
     },
     "execution_count": 60,
     "metadata": {},
     "output_type": "execute_result"
    }
   ],
   "source": [
    "df3.query('model == \"2016\"')"
   ]
  },
  {
   "cell_type": "markdown",
   "id": "876b739c",
   "metadata": {
    "papermill": {
     "duration": 0.022017,
     "end_time": "2022-12-30T20:16:51.610105",
     "exception": false,
     "start_time": "2022-12-30T20:16:51.588088",
     "status": "completed"
    },
    "tags": []
   },
   "source": [
    "A data error is shown, perhaps due to an oversight in data collection."
   ]
  },
  {
   "cell_type": "code",
   "execution_count": 61,
   "id": "79aa4c15",
   "metadata": {
    "execution": {
     "iopub.execute_input": "2022-12-30T20:16:51.656587Z",
     "iopub.status.busy": "2022-12-30T20:16:51.655789Z",
     "iopub.status.idle": "2022-12-30T20:16:51.722013Z",
     "shell.execute_reply": "2022-12-30T20:16:51.721188Z"
    },
    "papermill": {
     "duration": 0.091964,
     "end_time": "2022-12-30T20:16:51.724173",
     "exception": false,
     "start_time": "2022-12-30T20:16:51.632209",
     "status": "completed"
    },
    "tags": []
   },
   "outputs": [],
   "source": [
    "years = [\"2001\",\"2001\",\n",
    "         \"2002\",\"2003\",\n",
    "         \"2004\",\"2005\",\n",
    "         \"2006\",\"2007\",\n",
    "         \"2008\",\"2009\",\n",
    "         \"2010\",\"2011\",\n",
    "        \"2012\",\"2013\",\n",
    "         \"2014\",\"2015\",\n",
    "         \"2016\",\"2017\",\n",
    "         \"2018\",\"2019\",\n",
    "         \"2020\",\"2021\"]\n",
    "\n",
    "df3.model = df3.model.apply(lambda x: 'other' if x in years else x )"
   ]
  },
  {
   "cell_type": "code",
   "execution_count": 62,
   "id": "1d5f030a",
   "metadata": {
    "execution": {
     "iopub.execute_input": "2022-12-30T20:16:51.770769Z",
     "iopub.status.busy": "2022-12-30T20:16:51.769954Z",
     "iopub.status.idle": "2022-12-30T20:16:51.794142Z",
     "shell.execute_reply": "2022-12-30T20:16:51.793037Z"
    },
    "papermill": {
     "duration": 0.050153,
     "end_time": "2022-12-30T20:16:51.796894",
     "exception": false,
     "start_time": "2022-12-30T20:16:51.746741",
     "status": "completed"
    },
    "tags": []
   },
   "outputs": [
    {
     "data": {
      "text/html": [
       "<div><div id=2cb1cbd5-bc52-4032-88c1-855b574a5fa6 style=\"display:none; background-color:#9D6CFF; color:white; width:200px; height:30px; padding-left:5px; border-radius:4px; flex-direction:row; justify-content:space-around; align-items:center;\" onmouseover=\"this.style.backgroundColor='#BA9BF8'\" onmouseout=\"this.style.backgroundColor='#9D6CFF'\" onclick=\"window.commands?.execute('create-mitosheet-from-dataframe-output');\">See Full Dataframe in Mito</div> <script> if (window.commands?.hasCommand('create-mitosheet-from-dataframe-output')) document.getElementById('2cb1cbd5-bc52-4032-88c1-855b574a5fa6').style.display = 'flex' </script> <table border=\"1\" class=\"dataframe\">\n",
       "  <thead>\n",
       "    <tr style=\"text-align: right;\">\n",
       "      <th></th>\n",
       "      <th>price</th>\n",
       "      <th>year</th>\n",
       "      <th>manufacturer</th>\n",
       "      <th>model</th>\n",
       "      <th>condition</th>\n",
       "      <th>cylinders</th>\n",
       "      <th>fuel</th>\n",
       "      <th>odometer</th>\n",
       "      <th>title_status</th>\n",
       "      <th>transmission</th>\n",
       "      <th>drive</th>\n",
       "      <th>type</th>\n",
       "      <th>paint_color</th>\n",
       "      <th>premium</th>\n",
       "    </tr>\n",
       "  </thead>\n",
       "  <tbody>\n",
       "    <tr>\n",
       "      <th>3524</th>\n",
       "      <td>4000</td>\n",
       "      <td>2001</td>\n",
       "      <td>ford</td>\n",
       "      <td>other</td>\n",
       "      <td>3.0</td>\n",
       "      <td>8.0</td>\n",
       "      <td>gas</td>\n",
       "      <td>158094.0</td>\n",
       "      <td>clean</td>\n",
       "      <td>automatic</td>\n",
       "      <td>fwd</td>\n",
       "      <td>sedan</td>\n",
       "      <td>white</td>\n",
       "      <td>no</td>\n",
       "    </tr>\n",
       "    <tr>\n",
       "      <th>44124</th>\n",
       "      <td>4000</td>\n",
       "      <td>2001</td>\n",
       "      <td>ford</td>\n",
       "      <td>other</td>\n",
       "      <td>2.0</td>\n",
       "      <td>8.0</td>\n",
       "      <td>gas</td>\n",
       "      <td>205398.0</td>\n",
       "      <td>clean</td>\n",
       "      <td>automatic</td>\n",
       "      <td>4wd</td>\n",
       "      <td>pickup</td>\n",
       "      <td>black</td>\n",
       "      <td>no</td>\n",
       "    </tr>\n",
       "    <tr>\n",
       "      <th>202957</th>\n",
       "      <td>17500</td>\n",
       "      <td>2001</td>\n",
       "      <td>ford</td>\n",
       "      <td>other</td>\n",
       "      <td>4.0</td>\n",
       "      <td>8.0</td>\n",
       "      <td>gas</td>\n",
       "      <td>69068.0</td>\n",
       "      <td>clean</td>\n",
       "      <td>manual</td>\n",
       "      <td>rwd</td>\n",
       "      <td>convertible</td>\n",
       "      <td>red</td>\n",
       "      <td>no</td>\n",
       "    </tr>\n",
       "    <tr>\n",
       "      <th>55417</th>\n",
       "      <td>15000</td>\n",
       "      <td>2002</td>\n",
       "      <td>ford</td>\n",
       "      <td>other</td>\n",
       "      <td>4.0</td>\n",
       "      <td>4.0</td>\n",
       "      <td>gas</td>\n",
       "      <td>160000.0</td>\n",
       "      <td>salvage</td>\n",
       "      <td>manual</td>\n",
       "      <td>rwd</td>\n",
       "      <td>convertible</td>\n",
       "      <td>silver</td>\n",
       "      <td>no</td>\n",
       "    </tr>\n",
       "    <tr>\n",
       "      <th>174566</th>\n",
       "      <td>1200</td>\n",
       "      <td>2002</td>\n",
       "      <td>ford</td>\n",
       "      <td>other</td>\n",
       "      <td>1.0</td>\n",
       "      <td>6.0</td>\n",
       "      <td>gas</td>\n",
       "      <td>225000.0</td>\n",
       "      <td>clean</td>\n",
       "      <td>automatic</td>\n",
       "      <td>NaN</td>\n",
       "      <td>NaN</td>\n",
       "      <td>NaN</td>\n",
       "      <td>no</td>\n",
       "    </tr>\n",
       "  </tbody>\n",
       "</table></div>"
      ],
      "text/plain": [
       "        price  year manufacturer  model  condition  cylinders fuel  odometer  \\\n",
       "3524     4000  2001         ford  other        3.0        8.0  gas  158094.0   \n",
       "44124    4000  2001         ford  other        2.0        8.0  gas  205398.0   \n",
       "202957  17500  2001         ford  other        4.0        8.0  gas   69068.0   \n",
       "55417   15000  2002         ford  other        4.0        4.0  gas  160000.0   \n",
       "174566   1200  2002         ford  other        1.0        6.0  gas  225000.0   \n",
       "\n",
       "       title_status transmission drive         type paint_color premium  \n",
       "3524          clean    automatic   fwd        sedan       white      no  \n",
       "44124         clean    automatic   4wd       pickup       black      no  \n",
       "202957        clean       manual   rwd  convertible         red      no  \n",
       "55417       salvage       manual   rwd  convertible      silver      no  \n",
       "174566        clean    automatic   NaN          NaN         NaN      no  "
      ]
     },
     "execution_count": 62,
     "metadata": {},
     "output_type": "execute_result"
    }
   ],
   "source": [
    "df3.query('model==\"other\"').head()"
   ]
  },
  {
   "cell_type": "markdown",
   "id": "ec2e5ca9",
   "metadata": {
    "papermill": {
     "duration": 0.022855,
     "end_time": "2022-12-30T20:16:51.843186",
     "exception": false,
     "start_time": "2022-12-30T20:16:51.820331",
     "status": "completed"
    },
    "tags": []
   },
   "source": [
    "We will assign a new category \"other\" to all models where they have their year of manufacture in said variable."
   ]
  },
  {
   "cell_type": "code",
   "execution_count": 63,
   "id": "294a5ea6",
   "metadata": {
    "execution": {
     "iopub.execute_input": "2022-12-30T20:16:51.890141Z",
     "iopub.status.busy": "2022-12-30T20:16:51.889493Z",
     "iopub.status.idle": "2022-12-30T20:16:51.895516Z",
     "shell.execute_reply": "2022-12-30T20:16:51.894616Z"
    },
    "papermill": {
     "duration": 0.031566,
     "end_time": "2022-12-30T20:16:51.897388",
     "exception": false,
     "start_time": "2022-12-30T20:16:51.865822",
     "status": "completed"
    },
    "tags": []
   },
   "outputs": [
    {
     "data": {
      "text/plain": [
       "146090"
      ]
     },
     "execution_count": 63,
     "metadata": {},
     "output_type": "execute_result"
    }
   ],
   "source": [
    "df3.shape[0]"
   ]
  },
  {
   "cell_type": "code",
   "execution_count": 65,
   "id": "af2d5086",
   "metadata": {
    "execution": {
     "iopub.execute_input": "2022-12-30T20:16:51.944354Z",
     "iopub.status.busy": "2022-12-30T20:16:51.943616Z",
     "iopub.status.idle": "2022-12-30T20:16:51.990800Z",
     "shell.execute_reply": "2022-12-30T20:16:51.989919Z"
    },
    "papermill": {
     "duration": 0.0729,
     "end_time": "2022-12-30T20:16:51.992979",
     "exception": false,
     "start_time": "2022-12-30T20:16:51.920079",
     "status": "completed"
    },
    "tags": []
   },
   "outputs": [],
   "source": [
    "corr_data_clear = df3.corr()\n",
    "corr_data_dirty = df.corr()"
   ]
  },
  {
   "cell_type": "markdown",
   "id": "4c8cdb87",
   "metadata": {
    "papermill": {
     "duration": 0.023397,
     "end_time": "2022-12-30T20:16:52.039775",
     "exception": false,
     "start_time": "2022-12-30T20:16:52.016378",
     "status": "completed"
    },
    "tags": []
   },
   "source": [
    "### *Correlation Matrix*"
   ]
  },
  {
   "cell_type": "code",
   "execution_count": 66,
   "id": "64a729dc",
   "metadata": {
    "execution": {
     "iopub.execute_input": "2022-12-30T20:16:52.088008Z",
     "iopub.status.busy": "2022-12-30T20:16:52.087658Z",
     "iopub.status.idle": "2022-12-30T20:16:52.730375Z",
     "shell.execute_reply": "2022-12-30T20:16:52.729421Z"
    },
    "papermill": {
     "duration": 0.669145,
     "end_time": "2022-12-30T20:16:52.732564",
     "exception": false,
     "start_time": "2022-12-30T20:16:52.063419",
     "status": "completed"
    },
    "tags": []
   },
   "outputs": [
    {
     "data": {
      "image/png": "[encoded data removed]",
      "text/plain": [
       "<Figure size 1440x576 with 4 Axes>"
      ]
     },
     "metadata": {},
     "output_type": "display_data"
    }
   ],
   "source": [
    "fig,ax = plt.subplots(1,2,figsize = (20,8))\n",
    "ax[0].set_title('Dirty Data')\n",
    "sns.heatmap(corr_data_dirty,cmap='BrBG',annot = True,ax = ax[0])\n",
    "\n",
    "ax[1].set_title('Clear Data')\n",
    "sns.heatmap(corr_data_clear,cmap='BrBG',annot = True,ax = ax[1])\n",
    "\n",
    "plt.show()"
   ]
  },
  {
   "cell_type": "markdown",
   "id": "519404c3",
   "metadata": {
    "papermill": {
     "duration": 0.023279,
     "end_time": "2022-12-30T20:16:52.779579",
     "exception": false,
     "start_time": "2022-12-30T20:16:52.756300",
     "status": "completed"
    },
    "tags": []
   },
   "source": [
    "We observe that a better relationship is seen between the dependent and independent variables, which translates into a better performance of the model."
   ]
  },
  {
   "cell_type": "markdown",
   "id": "56530c55",
   "metadata": {
    "papermill": {
     "duration": 0.023435,
     "end_time": "2022-12-30T20:16:52.826268",
     "exception": false,
     "start_time": "2022-12-30T20:16:52.802833",
     "status": "completed"
    },
    "tags": []
   },
   "source": [
    "# Save Data Clear"
   ]
  },
  {
   "cell_type": "code",
   "execution_count": 67,
   "id": "6cb270d4",
   "metadata": {
    "execution": {
     "iopub.execute_input": "2022-12-30T20:16:52.875884Z",
     "iopub.status.busy": "2022-12-30T20:16:52.874923Z",
     "iopub.status.idle": "2022-12-30T20:16:53.043506Z",
     "shell.execute_reply": "2022-12-30T20:16:53.042523Z"
    },
    "papermill": {
     "duration": 0.196662,
     "end_time": "2022-12-30T20:16:53.046080",
     "exception": false,
     "start_time": "2022-12-30T20:16:52.849418",
     "status": "completed"
    },
    "tags": []
   },
   "outputs": [],
   "source": [
    "df3.to_parquet('craiglist_clear.parquet')"
   ]
  },
  {
   "cell_type": "markdown",
   "id": "07af170c",
   "metadata": {
    "papermill": {
     "duration": 0.023312,
     "end_time": "2022-12-30T20:16:53.093467",
     "exception": false,
     "start_time": "2022-12-30T20:16:53.070155",
     "status": "completed"
    },
    "tags": []
   },
   "source": [
    "Let's save the data in parquet format, so that it is faster to load since later we will use it to create a deep learning model"
   ]
  }
 ],
 "metadata": {
  "kernelspec": {
   "display_name": "Python 3 (ipykernel)",
   "language": "python",
   "name": "python3"
  },
  "language_info": {
   "codemirror_mode": {
    "name": "ipython",
    "version": 3
   },
   "file_extension": ".py",
   "mimetype": "text/x-python",
   "name": "python",
   "nbconvert_exporter": "python",
   "pygments_lexer": "ipython3",
   "version": "3.9.7"
  },
  "papermill": {
   "default_parameters": {},
   "duration": 54.231379,
   "end_time": "2022-12-30T20:16:54.139312",
   "environment_variables": {},
   "exception": null,
   "input_path": "__notebook__.ipynb",
   "output_path": "__notebook__.ipynb",
   "parameters": {},
   "start_time": "2022-12-30T20:15:59.907933",
   "version": "2.3.4"
  }
 },
 "nbformat": 4,
 "nbformat_minor": 5
}
