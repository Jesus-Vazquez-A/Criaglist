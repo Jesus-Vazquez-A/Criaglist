{
 "cells": [
  {
   "cell_type": "markdown",
   "id": "c6722999",
   "metadata": {},
   "source": [
    "### *Import Libraries*"
   ]
  },
  {
   "cell_type": "code",
   "execution_count": 1,
   "id": "a61159a7",
   "metadata": {},
   "outputs": [],
   "source": [
    "import pandas as pd\n",
    "import matplotlib.pyplot as plt\n",
    "import numpy as np\n",
    "import warnings"
   ]
  },
  {
   "cell_type": "code",
   "execution_count": 2,
   "id": "b9f2f618",
   "metadata": {},
   "outputs": [],
   "source": [
    "warnings.filterwarnings('ignore')"
   ]
  },
  {
   "cell_type": "markdown",
   "id": "21ccd40d",
   "metadata": {},
   "source": [
    "### *Load Data*"
   ]
  },
  {
   "cell_type": "code",
   "execution_count": 11,
   "id": "4674198b",
   "metadata": {},
   "outputs": [],
   "source": [
    "url = \"C:\\\\Users\\\\PC\\\\Desktop\\\\Criaglist\\\\data\\\\criaglist_clear.parquet\"\n",
    "df_clear = pd.read_parquet(url)\n",
    "df_clear.drop_duplicates(inplace=True)"
   ]
  },
  {
   "cell_type": "code",
   "execution_count": 18,
   "id": "7e7c258a",
   "metadata": {},
   "outputs": [
    {
     "data": {
      "text/plain": [
       "array(['automatic', 'manual'], dtype=object)"
      ]
     },
     "execution_count": 18,
     "metadata": {},
     "output_type": "execute_result"
    }
   ],
   "source": [
    "df_clear.transmission.unique()"
   ]
  },
  {
   "cell_type": "code",
   "execution_count": 19,
   "id": "4f62c801",
   "metadata": {},
   "outputs": [
    {
     "data": {
      "text/plain": [
       "array(['sedan', 'van', 'mini-van', 'fastback', 'coupe', 'convertible',\n",
       "       'crossover', 'SUV', 'pickup', 'wagon', 'hatchback', 'truck',\n",
       "       'minivan', 'crew cab', 'offroad'], dtype=object)"
      ]
     },
     "execution_count": 19,
     "metadata": {},
     "output_type": "execute_result"
    }
   ],
   "source": [
    "df_clear.type.unique()"
   ]
  },
  {
   "cell_type": "code",
   "execution_count": 21,
   "id": "5c509321",
   "metadata": {},
   "outputs": [],
   "source": [
    "df_clear.type = np.where(df_clear.type==\"offroad\",\"SUV\",df_clear.type)"
   ]
  },
  {
   "cell_type": "code",
   "execution_count": 22,
   "id": "28f9682a",
   "metadata": {},
   "outputs": [],
   "source": [
    "df_clear.model = [model.lower() for model in df_clear.model]"
   ]
  },
  {
   "cell_type": "code",
   "execution_count": 23,
   "id": "ffc03e7c",
   "metadata": {},
   "outputs": [],
   "source": [
    "df_clear.model = np.where(df_clear.model==\"mazda6gt\",\"mazda6\",df_clear.model)\n",
    "df_clear.model = np.where(df_clear.model==\"type r\",\"civic\",df_clear.model)"
   ]
  },
  {
   "cell_type": "code",
   "execution_count": 27,
   "id": "fdbab0a0",
   "metadata": {},
   "outputs": [
    {
     "data": {
      "text/plain": [
       "array(['sonoma', '2500', '2500hd', 'canyon', 'sierra'], dtype=object)"
      ]
     },
     "execution_count": 27,
     "metadata": {},
     "output_type": "execute_result"
    }
   ],
   "source": [
    "df_clear.query('type==\"pickup\" and manufacturer==\"gmc\"').model.unique()"
   ]
  },
  {
   "cell_type": "code",
   "execution_count": 32,
   "id": "de1a8e61",
   "metadata": {},
   "outputs": [],
   "source": [
    "df_clear.model = np.where((df_clear.model==\"2500\") | (df_clear.model==\"2500hd\"),'sierra',df_clear.model)"
   ]
  },
  {
   "cell_type": "code",
   "execution_count": 40,
   "id": "2ff612b8",
   "metadata": {},
   "outputs": [
    {
     "data": {
      "text/plain": [
       "array(['sonoma', 'sierra', 'canyon'], dtype=object)"
      ]
     },
     "execution_count": 40,
     "metadata": {},
     "output_type": "execute_result"
    }
   ],
   "source": [
    "df_clear.query('type==\"pickup\" and manufacturer==\"gmc\"').model.unique()"
   ]
  },
  {
   "cell_type": "code",
   "execution_count": 41,
   "id": "8ad55516",
   "metadata": {},
   "outputs": [
    {
     "data": {
      "text/plain": [
       "array(['dakota', '1500', 'sierra', '3500'], dtype=object)"
      ]
     },
     "execution_count": 41,
     "metadata": {},
     "output_type": "execute_result"
    }
   ],
   "source": [
    "df_clear.query('type==\"pickup\" and manufacturer==\"dodge\"').model.unique()"
   ]
  },
  {
   "cell_type": "code",
   "execution_count": 42,
   "id": "6d6fc2a0",
   "metadata": {},
   "outputs": [],
   "source": [
    "dodge = df_clear.query('manufacturer==\"dodge\"')\n",
    "df_clear = df_clear.query('manufacturer!=\"dodge\"')"
   ]
  },
  {
   "cell_type": "code",
   "execution_count": 43,
   "id": "ab48a59e",
   "metadata": {},
   "outputs": [],
   "source": [
    "dodge = dodge.query('model!=\"sierra\"')"
   ]
  },
  {
   "cell_type": "code",
   "execution_count": 44,
   "id": "400fbf19",
   "metadata": {},
   "outputs": [],
   "source": [
    "df_clear = pd.concat([dodge,df_clear])"
   ]
  },
  {
   "cell_type": "code",
   "execution_count": 45,
   "id": "f77e6a19",
   "metadata": {},
   "outputs": [
    {
     "data": {
      "text/plain": [
       "array(['neon', 'stratus', 'charger', 'avenger', 'intrepid', 'dart',\n",
       "       'viper', 'challanger', 'durango', 'journey', 'nitro', 'dakota',\n",
       "       '1500', '3500', 'caliber', 'magnum', 'grand caravan', 'sprinter',\n",
       "       'crown', 'fiesta', 'focus', 'fusion', 'taurus', 'econoline',\n",
       "       'transit', 'mustang', 'shelby', 'ecosport', 'edge', 'explorer',\n",
       "       'excursion', 'escape', 'ranger', 'f-150', 'f-250', 'f-350',\n",
       "       'impala', 'cavalier', 'malibu', 'cobalt', 'cruze', 'prizm',\n",
       "       'lumina', 'caprice', 'ss', 'tahoe', 'suburban', 'tracker',\n",
       "       'captiva', 'trax', 'traverse', 'blazer', 'equinox', 'trailblazer',\n",
       "       's10', 'silverado', 'colorado', 'avalanche', 'ssr', 'corvette',\n",
       "       'camaro', 'monte carlo', 'hhr', 'sonic', 'spark', 'volt', 'bolt',\n",
       "       'c5500', 'c7500', 'c4500', 'yukon', 'envoy', 'acadia', 'sonoma',\n",
       "       'sierra', 'canyon', 'safari', 'deville', 'sts', 'cts', 'catera',\n",
       "       'xts', 'ats', 'ct6', 'ct5', 'ct4', 'eldorado', 'elr', 'escalade',\n",
       "       'srx', 'xt5', 'xt6', '200', '300', 'cirrus', 'concorde',\n",
       "       'town & country', 'voyager', 'pacifica', 'ptcrui', 'aspen',\n",
       "       'prowler', 'sebring', 'crossfire', 'grand cheroke', 'cheroke',\n",
       "       'wrangler', 'liberty', 'patriot', 'compass', 'gladiator', 'sephia',\n",
       "       'amanti', 'optima', 'forte', 'rio', 'cadenza', 'k900', 'sorento',\n",
       "       'sportage', 'soul', 'mohave', 'niro', 'telluride', 'seltos',\n",
       "       'rondo', 'stinger', 'sedona', 'santa fe', 'tucson', 'azera',\n",
       "       'palisade', 'sonata', 'xg-300', 'xg-350', 'accent', 'elantra',\n",
       "       'genesis', 'equus', 'entourage', 'veloster', 'tiburon', 'ioniq',\n",
       "       'venue', 'kona', 'a3', 'a4', 'a5', 'a6', 'a7', 'a8', 's3', 's4',\n",
       "       's6', 's7', 'rs4', 'rs7', 'tt', 'tts', 'rs5', 'r8', 's5', 'q3',\n",
       "       'q5', 'q7', 'q8', 'sq5', 'rs6', 'tt rs', '3 series', '5 series',\n",
       "       '7 series', 'm3', 'm5', '1 series', '2 series', '4 series', 'm4',\n",
       "       'm6', 'z3', 'z4', 'i3', 'x1', 'x2', 'x3', 'x4', 'x5', 'x6',\n",
       "       '6 series', 'm2', 'x7', 's-class', 'c-class', 'e-class', 'a-class',\n",
       "       'cls', 'cla', 'clk', 'gle', 'm-class', 'gl', 'g-class', 'gls',\n",
       "       'glc', 'gla', 'glb', 'slk', 'sl-class', 'b-class', 'metris',\n",
       "       'r-class', 'amg gt', 'jetta', 'passat', 'phaeton', 'gli', 'cc',\n",
       "       'arteon', 'beetle', 'rabbit', 'r32', 'golf', 'gti', 'cabrio',\n",
       "       'eos', 'touareg', 'tiguan', 'atlas', 'routan', 'eurovan', 'tida',\n",
       "       'versa', 'sentra', 'altima', 'maxima', 'frontier', 'titan',\n",
       "       'pathfinder', 'murano', 'armand', 'rogue', 'juke', 'kicks', '350z',\n",
       "       '370z', 'gtr', 'xterra', 'leaf', 'note', 'corolla', 'camry',\n",
       "       'avalon', 'prius', 'yaris', 'echo', 'mirai', '4runner',\n",
       "       'highlander', 'sequoia', 'rav4', 'land crusier', 'chr', 'sienna',\n",
       "       'matrix', 'tundra', 'tacoma', 'celica', 'mr2', '86', 'supra',\n",
       "       'venza', 'civic', 'accord', 'clarity', 'insight', 'fit', 'cr-z',\n",
       "       'ridgeline', 'hr-v', 'odyssey', 'prelude', 'montero', 'endeavor',\n",
       "       'outlander', 'eclipse', 'mirage', 'i-miev', 'galant', 'lancer',\n",
       "       'diamante', 'evolution', 'raider', 'miata', 'tribute', 'cx-7',\n",
       "       'cx-9', 'cx-5', 'cx-30', 'mazda3', 'mazda6', 'protege', 'mpv',\n",
       "       'mazda5', 'b-series', 'rx-8', 'speed3', 'cx-3', 'impreza', 'sti',\n",
       "       'wrx', 'legacy', 'outback', 'forester', 'xv', 'baja', 'tribeca',\n",
       "       'ascent', 'brz', 'i35', 'g35', 'g37', 'i30', 'g20', 'q45', 'm35',\n",
       "       'm37', 'g25', 'm56', 'q50', 'q40', 'qx4', 'fx35', 'qx56', 'fx45',\n",
       "       'fx50', 'jx35', 'fx37', 'qx60', 'qx80', 'qx70', 'ex35', 'qx50',\n",
       "       'ex37', 'qx30', 'q60', 'rl', 'tl', 'tsx', 'ilx', 'rlx', 'tlx',\n",
       "       'zdx', 'rdx', 'mdx', 'cl', 'nsx', 'integra', 'rsx', 'sc', 'gx',\n",
       "       'lx', 'rx', 'es', 'gs', 'is', 'ls', 'hs', 'ct', 'rc', 'lc', 'nx',\n",
       "       'ux', 'z'], dtype=object)"
      ]
     },
     "execution_count": 45,
     "metadata": {},
     "output_type": "execute_result"
    }
   ],
   "source": [
    "df_clear.model.unique()"
   ]
  },
  {
   "cell_type": "markdown",
   "id": "ea9468b3",
   "metadata": {},
   "source": [
    "### *Data Transformation*"
   ]
  },
  {
   "cell_type": "code",
   "execution_count": 46,
   "id": "bf5303f5",
   "metadata": {},
   "outputs": [],
   "source": [
    "plt.style.use('ggplot')"
   ]
  },
  {
   "cell_type": "code",
   "execution_count": 47,
   "id": "93bd4b78",
   "metadata": {},
   "outputs": [],
   "source": [
    "def hist(df):\n",
    "    \n",
    "    fig,ax = plt.subplots(1,1,figsize = (15,5))\n",
    "    ax.set_title('Odometer')\n",
    "    ax.hist(df.odometer,color = \"#ff0000\",ec = \"orange\",lw = 3)\n",
    "    plt.show()"
   ]
  },
  {
   "cell_type": "code",
   "execution_count": 48,
   "id": "1ae7e80e",
   "metadata": {},
   "outputs": [
    {
     "data": {
      "image/png": "[encoded data removed]",
      "text/plain": [
       "<Figure size 1080x360 with 1 Axes>"
      ]
     },
     "metadata": {},
     "output_type": "display_data"
    }
   ],
   "source": [
    "hist(df_clear)"
   ]
  },
  {
   "cell_type": "markdown",
   "id": "98266d46",
   "metadata": {},
   "source": [
    "The Odometer variable has vehicles with a mileage that is much higher than the average, we will proceed to make a transformation applying the square root, causing the data to be closer to the average."
   ]
  },
  {
   "cell_type": "code",
   "execution_count": 49,
   "id": "89d33ee4",
   "metadata": {},
   "outputs": [],
   "source": [
    "df_clear.odometer = df_clear.odometer.apply(np.sqrt)"
   ]
  },
  {
   "cell_type": "code",
   "execution_count": 50,
   "id": "685603f6",
   "metadata": {},
   "outputs": [
    {
     "data": {
      "image/png": "[encoded data removed]",
      "text/plain": [
       "<Figure size 1080x360 with 1 Axes>"
      ]
     },
     "metadata": {},
     "output_type": "display_data"
    }
   ],
   "source": [
    "hist(df_clear)"
   ]
  },
  {
   "cell_type": "markdown",
   "id": "0d249874",
   "metadata": {},
   "source": [
    "We observe that the extreme values are closer to the average value, something that can help our distribution model."
   ]
  },
  {
   "cell_type": "markdown",
   "id": "0842a63e",
   "metadata": {},
   "source": [
    "## *Categorical Variables*"
   ]
  },
  {
   "cell_type": "markdown",
   "id": "1fdae27d",
   "metadata": {},
   "source": [
    "Algorithms work extremely well with numbers, so we must transform categorical variables to numeric."
   ]
  },
  {
   "cell_type": "code",
   "execution_count": 51,
   "id": "e021ed48",
   "metadata": {},
   "outputs": [
    {
     "data": {
      "text/plain": [
       "array(['dodge', 'ford', 'chevrolet', 'gmc', 'cadillac', 'chrysler',\n",
       "       'jeep', 'kia', 'hyundai', 'audi', 'bmw', 'mercedes-benz',\n",
       "       'volkswagen', 'nissan', 'toyota', 'honda', 'mitsubishi', 'mazda',\n",
       "       'subaru', 'infiniti', 'acura', 'lexus'], dtype=object)"
      ]
     },
     "execution_count": 51,
     "metadata": {},
     "output_type": "execute_result"
    }
   ],
   "source": [
    "df_clear.manufacturer.unique()"
   ]
  },
  {
   "cell_type": "code",
   "execution_count": 52,
   "id": "2615210f",
   "metadata": {},
   "outputs": [],
   "source": [
    "premium  = ['gmc','cadillac','audi','bmw','mercedes-benz','infiniti','acura','lexus']\n",
    "def isPremium(x):\n",
    "    if x in premium:\n",
    "        return 1\n",
    "    else:\n",
    "        return 0\n",
    "df_clear['premium'] = df_clear.manufacturer.apply(isPremium)"
   ]
  },
  {
   "cell_type": "markdown",
   "id": "78a39a22",
   "metadata": {},
   "source": [
    "### *Nominal*"
   ]
  },
  {
   "cell_type": "code",
   "execution_count": 53,
   "id": "2c35e8da",
   "metadata": {},
   "outputs": [],
   "source": [
    "df_clear.title_status = np.where(df_clear.title_status==\"parts only\",\"salvage\",df_clear.title_status)"
   ]
  },
  {
   "cell_type": "code",
   "execution_count": 54,
   "id": "d0477db5",
   "metadata": {},
   "outputs": [
    {
     "data": {
      "text/plain": [
       "array(['clean', 'salvage', 'lien', 'rebuilt', 'missing'], dtype=object)"
      ]
     },
     "execution_count": 54,
     "metadata": {},
     "output_type": "execute_result"
    }
   ],
   "source": [
    "df_clear.title_status.unique()"
   ]
  },
  {
   "cell_type": "markdown",
   "id": "0a50e179",
   "metadata": {},
   "source": [
    "The price can be affected by the title of the vehicle, for example if the car does not have a title it can be drastically reduced by buying it with a vehicle that has its title in order."
   ]
  },
  {
   "cell_type": "code",
   "execution_count": 55,
   "id": "0a4cd2ff",
   "metadata": {},
   "outputs": [],
   "source": [
    "lables = ['missing','lien','salvage','rebuilt','clean']\n",
    "nominal = np.arange(0,5,step = 1)\n",
    "df_clear.title_status = df_clear.title_status.replace(lables,nominal)\n",
    "df_clear.title_status = df_clear.title_status.astype(np.int32)\n",
    "df_clear.transmission = np.where(df_clear.transmission==\"automatic\",1,0)"
   ]
  },
  {
   "cell_type": "markdown",
   "id": "ab756b0a",
   "metadata": {},
   "source": [
    "### *Ordinal*"
   ]
  },
  {
   "cell_type": "code",
   "execution_count": 25,
   "id": "09dc52c5",
   "metadata": {},
   "outputs": [],
   "source": [
    "df_clear = pd.get_dummies(df_clear,prefix=\"\",prefix_sep=\"\")"
   ]
  },
  {
   "cell_type": "markdown",
   "id": "e3649887",
   "metadata": {},
   "source": [
    "We will apply a transformation of dummy variables, for those variables of nominal type, it will create a new column according to the number of categories where a numerical value of 1 will be assigned to the observation that meets a certain characteristic while the other columns will be filled with zeros."
   ]
  },
  {
   "cell_type": "markdown",
   "id": "fd2908f0",
   "metadata": {},
   "source": [
    "## *Save Dataset Clear*"
   ]
  },
  {
   "cell_type": "code",
   "execution_count": 26,
   "id": "dfb058ee",
   "metadata": {},
   "outputs": [],
   "source": [
    "df_clear.to_parquet(\"C:\\\\Users\\\\PC\\\\Desktop\\\\Criaglist\\\\data\\\\criaglist_clearv2.parquet\")"
   ]
  }
 ],
 "metadata": {
  "kernelspec": {
   "display_name": "Python 3 (ipykernel)",
   "language": "python",
   "name": "python3"
  },
  "language_info": {
   "codemirror_mode": {
    "name": "ipython",
    "version": 3
   },
   "file_extension": ".py",
   "mimetype": "text/x-python",
   "name": "python",
   "nbconvert_exporter": "python",
   "pygments_lexer": "ipython3",
   "version": "3.9.7"
  }
 },
 "nbformat": 4,
 "nbformat_minor": 5
}
