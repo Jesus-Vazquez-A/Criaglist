{
 "cells": [
  {
   "cell_type": "code",
   "execution_count": 24,
   "id": "da6d5643",
   "metadata": {},
   "outputs": [],
   "source": [
    "import numpy as np\n",
    "import torch\n",
    "import warnings\n",
    "import utils"
   ]
  },
  {
   "cell_type": "code",
   "execution_count": 25,
   "id": "5bfdeb8c",
   "metadata": {},
   "outputs": [],
   "source": [
    "warnings.filterwarnings('ignore')"
   ]
  },
  {
   "cell_type": "code",
   "execution_count": 26,
   "id": "9ed424a2",
   "metadata": {},
   "outputs": [],
   "source": [
    "columns = utils.loadJsonFile()\n",
    "model = utils.loadModel()"
   ]
  },
  {
   "cell_type": "code",
   "execution_count": 27,
   "id": "ca220b5b",
   "metadata": {},
   "outputs": [],
   "source": [
    "def predict(country,manufacturer,model_car,body,year,odometer,cyl,engine,fuel,transmission,hp,title_status):\n",
    "    \n",
    "    model_car = model_car.lower()\n",
    "    \n",
    "    zeros = np.zeros(len(columns))\n",
    "    title_status_dict = {'missing':0,'lien':1,'salvage':2,'rebuilt':3,'clean':4}\n",
    "    zeros[0] = year\n",
    "    zeros[1] = cyl\n",
    "    zeros[2] = np.sqrt(odometer)\n",
    "    zeros[3] = title_status_dict[title_status]\n",
    "    zeros[4] = np.where(transmission==\"automatic\",1,0)\n",
    "    zeros[5] = engine\n",
    "    zeros[6] = hp\n",
    "    premium_list =  ['gmc','cadillac','audi','bmw','mercedes-benz','infiniti','acura','lexus']\n",
    "    if manufacturer in premium_list:\n",
    "        zeros[7] = 1\n",
    "    else:\n",
    "        zeros[7] = 0\n",
    "\n",
    "\n",
    "    manufacturer_idx = np.where(manufacturer == columns)[0][0]\n",
    "    fuel_idx = np.where(fuel == columns)[0][0]\n",
    "    type_body_idx = np.where(body == columns)[0][0]\n",
    "    country_idx = np.where(country == columns)[0][0]\n",
    "    model_idx = np.where(model_car == columns)[0][0]\n",
    "\n",
    "    if manufacturer_idx >= 0:\n",
    "        zeros[manufacturer_idx] = 1\n",
    "\n",
    "\n",
    "    if fuel_idx >=0:\n",
    "        zeros[fuel_idx] = 1\n",
    "\n",
    "\n",
    "    if type_body_idx>=0:\n",
    "        zeros[type_body_idx] = 1\n",
    "\n",
    "    if country_idx>=0:\n",
    "        zeros[country_idx] = 1\n",
    "\n",
    "\n",
    "    if model_idx>=0:\n",
    "        zeros[model_idx] = 1\n",
    "\n",
    "    zeros = np.asarray([zeros])\n",
    "\n",
    "\n",
    "    zeros = utils.scalerInputs(zeros)\n",
    "    zeros = torch.from_numpy(zeros).float()\n",
    "    pred = model(zeros).detach().float()\n",
    "\n",
    "\n",
    "\n",
    "    return utils.robustTarget(pred)"
   ]
  },
  {
   "cell_type": "code",
   "execution_count": 28,
   "id": "4f25acc5",
   "metadata": {},
   "outputs": [
    {
     "data": {
      "text/plain": [
       "array([[33148.66147304]])"
      ]
     },
     "execution_count": 28,
     "metadata": {},
     "output_type": "execute_result"
    }
   ],
   "source": [
    "predict('japan','honda','civic','hatchback',2018,49210,4,2.0,'gas','manual',306,'clean')"
   ]
  },
  {
   "cell_type": "code",
   "execution_count": 29,
   "id": "970fe707",
   "metadata": {},
   "outputs": [
    {
     "data": {
      "text/plain": [
       "array([[43571.92560458]])"
      ]
     },
     "execution_count": 29,
     "metadata": {},
     "output_type": "execute_result"
    }
   ],
   "source": [
    "predict('usa','chevrolet','silverado','pickup',2020,57020,8,5.3,'gas','automatic',355,'clean')"
   ]
  },
  {
   "cell_type": "code",
   "execution_count": 30,
   "id": "4b2d726c",
   "metadata": {},
   "outputs": [
    {
     "data": {
      "text/plain": [
       "array([[5834.20829231]])"
      ]
     },
     "execution_count": 30,
     "metadata": {},
     "output_type": "execute_result"
    }
   ],
   "source": [
    "predict('japan','nissan','sentra','sedan',2011,107070,4,2.0,'gas','automatic',145,'clean')"
   ]
  },
  {
   "cell_type": "code",
   "execution_count": 31,
   "id": "cc319ea3",
   "metadata": {},
   "outputs": [
    {
     "data": {
      "text/plain": [
       "array([[22372.15300524]])"
      ]
     },
     "execution_count": 31,
     "metadata": {},
     "output_type": "execute_result"
    }
   ],
   "source": [
    "predict('usa','ford','f-150','pickup',2017,123635,6,3.5,'gas','automatic',282,'clean')"
   ]
  },
  {
   "cell_type": "code",
   "execution_count": 32,
   "id": "beabdd11",
   "metadata": {},
   "outputs": [
    {
     "data": {
      "text/plain": [
       "array([[61415.38606071]])"
      ]
     },
     "execution_count": 32,
     "metadata": {},
     "output_type": "execute_result"
    }
   ],
   "source": [
    "predict('germany','bmw','X7','SUV',2020,30684,6,3.0,'gas','automatic',335,'clean')"
   ]
  },
  {
   "cell_type": "code",
   "execution_count": 33,
   "id": "fa44ee11",
   "metadata": {},
   "outputs": [
    {
     "data": {
      "text/plain": [
       "array([[74243.2786622]])"
      ]
     },
     "execution_count": 33,
     "metadata": {},
     "output_type": "execute_result"
    }
   ],
   "source": [
    "predict('germany','audi','Q8','SUV',2023,13253,6,3.0,'gas','automatic',335,'clean')"
   ]
  },
  {
   "cell_type": "code",
   "execution_count": 34,
   "id": "dfa7c6d3",
   "metadata": {},
   "outputs": [
    {
     "data": {
      "text/plain": [
       "array([[14828.99038324]])"
      ]
     },
     "execution_count": 34,
     "metadata": {},
     "output_type": "execute_result"
    }
   ],
   "source": [
    "predict('japan','toyota','RAV4','SUV',2014,127105,4,2.5,'gas','automatic',176,'clean')"
   ]
  },
  {
   "cell_type": "code",
   "execution_count": 35,
   "id": "1880a8e3",
   "metadata": {},
   "outputs": [
    {
     "data": {
      "text/plain": [
       "array([[95432.66874695]])"
      ]
     },
     "execution_count": 35,
     "metadata": {},
     "output_type": "execute_result"
    }
   ],
   "source": [
    "predict('usa','gmc','sierra','pickup',2024,2308,8,6.6,'diesel','automatic',401,'clean')"
   ]
  },
  {
   "cell_type": "code",
   "execution_count": 36,
   "id": "3c466ac9",
   "metadata": {},
   "outputs": [
    {
     "data": {
      "text/plain": [
       "array([[29436.77279139]])"
      ]
     },
     "execution_count": 36,
     "metadata": {},
     "output_type": "execute_result"
    }
   ],
   "source": [
    "predict('usa','ford','mustang','coupe',2016,20380,8,5.0,'gas','automatic',435,'clean')"
   ]
  },
  {
   "cell_type": "code",
   "execution_count": 37,
   "id": "23086a78",
   "metadata": {},
   "outputs": [
    {
     "data": {
      "text/plain": [
       "array([[22498.57272589]])"
      ]
     },
     "execution_count": 37,
     "metadata": {},
     "output_type": "execute_result"
    }
   ],
   "source": [
    "predict('germany','bmw','i3','hatchback',2019,22267,0,0,'electric','automatic',168,'clean')"
   ]
  },
  {
   "cell_type": "code",
   "execution_count": 38,
   "id": "d91758ce",
   "metadata": {},
   "outputs": [
    {
     "data": {
      "text/plain": [
       "array([[39007.65916848]])"
      ]
     },
     "execution_count": 38,
     "metadata": {},
     "output_type": "execute_result"
    }
   ],
   "source": [
    "predict('japan','subaru','wrx','sedan',2023,1508,4,2.4,'gas','manual',271,'clean')"
   ]
  },
  {
   "cell_type": "code",
   "execution_count": 39,
   "id": "7e7c9f9c",
   "metadata": {},
   "outputs": [
    {
     "data": {
      "text/plain": [
       "array([[18362.39652061]])"
      ]
     },
     "execution_count": 39,
     "metadata": {},
     "output_type": "execute_result"
    }
   ],
   "source": [
    "predict('japan','toyota','camry','sedan',2015,47295,6,3.5,'gas','automatic',268,'clean')"
   ]
  },
  {
   "cell_type": "code",
   "execution_count": 40,
   "id": "262b8346",
   "metadata": {},
   "outputs": [
    {
     "data": {
      "text/plain": [
       "array([[34922.6540395]])"
      ]
     },
     "execution_count": 40,
     "metadata": {},
     "output_type": "execute_result"
    }
   ],
   "source": [
    "predict('south korea','kia','stinger','sedan',2019,38750,6,3.3,'gas','automatic',361,'clean')"
   ]
  },
  {
   "cell_type": "code",
   "execution_count": 41,
   "id": "4f6ea397",
   "metadata": {},
   "outputs": [
    {
     "data": {
      "text/plain": [
       "array([[10988.93965887]])"
      ]
     },
     "execution_count": 41,
     "metadata": {},
     "output_type": "execute_result"
    }
   ],
   "source": [
    "predict('south korea','hyundai','santa fe','SUV',2017,200589,6,3.3,'gas','automatic',290,'clean')"
   ]
  },
  {
   "cell_type": "code",
   "execution_count": 42,
   "id": "99f0c2a8",
   "metadata": {},
   "outputs": [
    {
     "data": {
      "text/plain": [
       "array([[7593.44195271]])"
      ]
     },
     "execution_count": 42,
     "metadata": {},
     "output_type": "execute_result"
    }
   ],
   "source": [
    "predict('japan','lexus','ES','sedan',2013,274251,6,3.5,'gas','automatic',268,'clean')"
   ]
  },
  {
   "cell_type": "code",
   "execution_count": 43,
   "id": "0f2c0f37",
   "metadata": {},
   "outputs": [
    {
     "data": {
      "text/plain": [
       "array([[22287.90961587]])"
      ]
     },
     "execution_count": 43,
     "metadata": {},
     "output_type": "execute_result"
    }
   ],
   "source": [
    "predict('japan','mitsubishi','ES','evolution',2014,137501,4,2.0,'gas','manual',291,'clean')"
   ]
  }
 ],
 "metadata": {
  "kernelspec": {
   "display_name": "Python 3 (ipykernel)",
   "language": "python",
   "name": "python3"
  },
  "language_info": {
   "codemirror_mode": {
    "name": "ipython",
    "version": 3
   },
   "file_extension": ".py",
   "mimetype": "text/x-python",
   "name": "python",
   "nbconvert_exporter": "python",
   "pygments_lexer": "ipython3",
   "version": "3.9.7"
  }
 },
 "nbformat": 4,
 "nbformat_minor": 5
}
