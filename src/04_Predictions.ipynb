{
 "cells": [
  {
   "cell_type": "markdown",
   "id": "ec9fb15e",
   "metadata": {},
   "source": [
    "## *Load Libraries*"
   ]
  },
  {
   "cell_type": "code",
   "execution_count": 1,
   "id": "03e83e9c",
   "metadata": {},
   "outputs": [],
   "source": [
    "import numpy as np\n",
    "import joblib\n",
    "import json\n",
    "import torch.nn as nn\n",
    "import torch.nn.functional as F\n",
    "import torch\n",
    "import warnings"
   ]
  },
  {
   "cell_type": "code",
   "execution_count": 2,
   "id": "aa80cd83",
   "metadata": {},
   "outputs": [],
   "source": [
    "warnings.filterwarnings('ignore')"
   ]
  },
  {
   "cell_type": "markdown",
   "id": "cf6f5736",
   "metadata": {},
   "source": [
    "## *Load Scaler Objects*"
   ]
  },
  {
   "cell_type": "code",
   "execution_count": 3,
   "id": "35b4f26a",
   "metadata": {},
   "outputs": [],
   "source": [
    "def scaler_inputs(x):\n",
    "    url = \"C:\\\\Users\\\\PC\\\\Desktop\\\\Ciencias de datos\\\\Proyectos\\\\Criaglist\\\\tools\\\\scaler_inputs.file\"\n",
    "    scaler = joblib.load(url)\n",
    "    return scaler.transform(x)\n",
    "\n",
    "def scaler_target(pred):\n",
    "    url = \"C:\\\\Users\\\\PC\\\\Desktop\\\\Ciencias de datos\\\\Proyectos\\\\Criaglist\\\\tools\\\\scaler_target.file\"\n",
    "    scaler = joblib.load(url)\n",
    "    return scaler.inverse_transform(pred)"
   ]
  },
  {
   "cell_type": "markdown",
   "id": "515c4ef3",
   "metadata": {},
   "source": [
    "We load the data scalers for the numeric variables since they were thus trained and as a consequence the model will return the standardized data for which we import another object to return the data to its natural state."
   ]
  },
  {
   "cell_type": "markdown",
   "id": "c8eeafff",
   "metadata": {},
   "source": [
    "## *Load JSON File*"
   ]
  },
  {
   "cell_type": "code",
   "execution_count": 4,
   "id": "cd000ca0",
   "metadata": {},
   "outputs": [],
   "source": [
    "def json_file():\n",
    "    url = \"C:\\\\Users\\\\PC\\\\Desktop\\\\Ciencias de datos\\\\Proyectos\\\\Criaglist\\\\tools\\\\columns.json\"\n",
    "    with open(url) as F:\n",
    "        \n",
    "        json_file = json.loads(F.read())\n",
    "        json_file = np.asarray(json_file['column'])\n",
    "\n",
    "    return json_file"
   ]
  },
  {
   "cell_type": "markdown",
   "id": "d9426286",
   "metadata": {},
   "source": [
    "We load the JSON file to favor the OHE transformation for the qualitative categorical variables."
   ]
  },
  {
   "cell_type": "code",
   "execution_count": 5,
   "id": "759d4ec1",
   "metadata": {},
   "outputs": [],
   "source": [
    "columns = json_file()"
   ]
  },
  {
   "cell_type": "code",
   "execution_count": 6,
   "id": "8fb70faf",
   "metadata": {},
   "outputs": [
    {
     "data": {
      "text/plain": [
       "4240"
      ]
     },
     "execution_count": 6,
     "metadata": {},
     "output_type": "execute_result"
    }
   ],
   "source": [
    "np.where('mustang'==columns)[0][0]"
   ]
  },
  {
   "cell_type": "markdown",
   "id": "6ca467a0",
   "metadata": {},
   "source": [
    "We will use said file to use it to return the respective index of the variable."
   ]
  },
  {
   "cell_type": "markdown",
   "id": "0a2fcf08",
   "metadata": {},
   "source": [
    "## *Load Model*"
   ]
  },
  {
   "cell_type": "code",
   "execution_count": 7,
   "id": "658ce1d8",
   "metadata": {},
   "outputs": [],
   "source": [
    "class Model(nn.Module):\n",
    "    def __init__(self):\n",
    "        super(Model,self).__init__()\n",
    "\n",
    "        self.fc1 = nn.Linear(in_features = 6650,out_features = 128)\n",
    "        self.fc2 = nn.Linear(in_features = 128,out_features = 64)\n",
    "        self.fc3 = nn.Linear(in_features= 64,out_features=32)\n",
    "        self.output = nn.Linear(in_features = 32,out_features = 1)\n",
    "    \n",
    "    def forward(self,x):\n",
    "        \n",
    "        x = F.relu(self.fc1(x))\n",
    "        x = F.relu(self.fc2(x))\n",
    "        x = F.relu(self.fc3(x))\n",
    "        x = F.dropout(x,0.3)\n",
    "    \n",
    "        \n",
    "        return self.output(x)"
   ]
  },
  {
   "cell_type": "markdown",
   "id": "99b2d3ef",
   "metadata": {},
   "source": [
    "We built the same architecture of the neural network."
   ]
  },
  {
   "cell_type": "code",
   "execution_count": 8,
   "id": "a319d02b",
   "metadata": {},
   "outputs": [],
   "source": [
    "url = \"C:\\\\Users\\\\PC\\\\Desktop\\\\Ciencias de datos\\\\Proyectos\\\\Criaglist\\\\model\\\\craiglist_model.pth\""
   ]
  },
  {
   "cell_type": "code",
   "execution_count": 9,
   "id": "f9dfce9d",
   "metadata": {},
   "outputs": [],
   "source": [
    "model = Model()"
   ]
  },
  {
   "cell_type": "code",
   "execution_count": 10,
   "id": "8c298fc9",
   "metadata": {},
   "outputs": [
    {
     "data": {
      "text/plain": [
       "<All keys matched successfully>"
      ]
     },
     "execution_count": 10,
     "metadata": {},
     "output_type": "execute_result"
    }
   ],
   "source": [
    "model.load_state_dict(torch.load(url))"
   ]
  },
  {
   "cell_type": "markdown",
   "id": "8fb8d07e",
   "metadata": {},
   "source": [
    "We use the network we created as a container to pass the already trained model file."
   ]
  },
  {
   "cell_type": "markdown",
   "id": "ab4b78df",
   "metadata": {},
   "source": [
    "## *Preprocessing of new data*"
   ]
  },
  {
   "cell_type": "code",
   "execution_count": 11,
   "id": "4041a36d",
   "metadata": {},
   "outputs": [],
   "source": [
    "def preprocessing(year,\n",
    "            condition,\n",
    "            cylinders,\n",
    "            odometer,\n",
    "            manufacturer,\n",
    "            model,\n",
    "            fuel,\n",
    "            title_status,\n",
    "            transmission,\n",
    "            drive,\n",
    "            type_body,\n",
    "            paint_color,\n",
    "           premium):\n",
    "    \n",
    "    \n",
    "    zeros = np.zeros(len(columns))\n",
    "  \n",
    "    \n",
    "\n",
    "    manufacturer_idx = np.where(manufacturer == columns)[0][0]\n",
    "    model_idx = np.where(model == columns)[0][0]\n",
    "    fuel_idx = np.where(fuel == columns)[0][0]\n",
    "    title_status_idx = np.where(title_status == columns)[0][0]\n",
    "    \n",
    "    transmission_idx = np.where(transmission == columns)[0][0]\n",
    "    drive_idx = np.where(drive == columns)[0][0]\n",
    "    type_body_idx = np.where(type_body == columns)[0][0]\n",
    "    color_idx = np.where(paint_color == columns)[0][0]\n",
    "    \n",
    "    if manufacturer_idx >= 0:\n",
    "        zeros[manufacturer_idx] = 1\n",
    "    \n",
    "    if model_idx >=0:\n",
    "        zeros[model_idx] = 1\n",
    "        \n",
    "    if fuel_idx >=0:\n",
    "        zeros[fuel_idx] = 1\n",
    "        \n",
    "    if title_status_idx>=0:\n",
    "        zeros[title_status_idx] = 1\n",
    "        \n",
    "    if transmission_idx >=0:\n",
    "        zeros[transmission_idx] = 1\n",
    "        \n",
    "    if drive_idx>=0:\n",
    "        zeros[drive_idx] = 1\n",
    "        \n",
    "    if type_body_idx>=0:\n",
    "        zeros[type_body_idx] = 1\n",
    "        \n",
    "    if color_idx>=0:\n",
    "        zeros[color_idx] = 1\n",
    "#        ['year','condition','odometer','cylinders']\n",
    "\n",
    "    condition_dict = {'salvage':0,\n",
    "                      'fair':1,\n",
    "                      'good':2,\n",
    "                      'excellent':3,\n",
    "                     'like new':4}\n",
    "    \n",
    "    condition = condition_dict[condition]\n",
    "        \n",
    "    scaler_data = scaler_inputs([[year,condition,odometer,cylinders]]).flatten()\n",
    "    zeros[0] = scaler_data[0]\n",
    "    zeros[1] = scaler_data[1]\n",
    "    zeros[2] = scaler_data[3]\n",
    "    zeros[3] = scaler_data[2]\n",
    "    \n",
    "    \n",
    "    zeros[4] = np.where(premium=='yes',1,0)\n",
    "    zeros = torch.from_numpy(zeros).float()\n",
    "  #pred = model(zeros)\n",
    "   \n",
    "\n",
    "    return zeros\n",
    "  "
   ]
  },
  {
   "cell_type": "markdown",
   "id": "ebdf3d0f",
   "metadata": {},
   "source": [
    "We create a function to preprocess the new data and it will return the transformed data in Tensor format."
   ]
  },
  {
   "cell_type": "code",
   "execution_count": 12,
   "id": "6802cf73",
   "metadata": {},
   "outputs": [
    {
     "data": {
      "text/plain": [
       "tensor([1.8480, 1.9990, 0.0432,  ..., 0.0000, 1.0000, 0.0000])"
      ]
     },
     "execution_count": 12,
     "metadata": {},
     "output_type": "execute_result"
    }
   ],
   "source": [
    " preprocessing(2021,\n",
    "                  'like new',\n",
    "                  6,\n",
    "                   17000,\n",
    "                  'gmc',\n",
    "                  'sierra',\n",
    "                  'diesel',\n",
    "                  'clean',\n",
    "                  'automatic',\n",
    "                  '4wd',\n",
    "                  'pickup',\n",
    "                  'white',\n",
    "                  'yes')"
   ]
  },
  {
   "cell_type": "markdown",
   "id": "6b4fe5da",
   "metadata": {},
   "source": [
    "## *Predict new data*"
   ]
  },
  {
   "cell_type": "code",
   "execution_count": 14,
   "id": "ccc5b8c0",
   "metadata": {},
   "outputs": [],
   "source": [
    "def predict(newdata):\n",
    "    \n",
    "    pred = model(newdata).detach().reshape(-1,1)\n",
    "    pred = scaler_target(pred)\n",
    "    pred = np.round(pred,2)\n",
    "    \n",
    "    return pred"
   ]
  },
  {
   "cell_type": "markdown",
   "id": "5379942b",
   "metadata": {},
   "source": [
    "###  *2016 Nissan Sentra*"
   ]
  },
  {
   "cell_type": "markdown",
   "id": "9b68ff15",
   "metadata": {},
   "source": [
    "<img src = \"https://images.kavak.services/images/225657/EXTERIOR-frontSidePilotNear-1670508918891.jpeg?d=540x310\">"
   ]
  },
  {
   "cell_type": "code",
   "execution_count": 15,
   "id": "4c8010a1",
   "metadata": {
    "scrolled": true
   },
   "outputs": [
    {
     "name": "stdout",
     "output_type": "stream",
     "text": [
      "Estimated price for a 2016 Nissan Sentra: $ [[5276.57]] USD\n"
     ]
    }
   ],
   "source": [
    "newdata = preprocessing(2016,\n",
    "                  'good',\n",
    "                  4,\n",
    "                   96000,\n",
    "                  'nissan',\n",
    "                  'sentra',\n",
    "                  'gas',\n",
    "                  'clean',\n",
    "                  'automatic',\n",
    "                  'fwd',\n",
    "                  'sedan',\n",
    "                  'white',\n",
    "                  'no')\n",
    "\n",
    "pred = predict(newdata)\n",
    "print(f'Estimated price for a 2016 Nissan Sentra: $ {pred} USD')"
   ]
  },
  {
   "cell_type": "markdown",
   "id": "61452454",
   "metadata": {},
   "source": [
    "### *2021 BMW M4*"
   ]
  },
  {
   "cell_type": "markdown",
   "id": "94b448f9",
   "metadata": {},
   "source": [
    "<img src = \"https://i.ytimg.com/vi/rNHgzipoOZE/maxresdefault.jpg\">"
   ]
  },
  {
   "cell_type": "code",
   "execution_count": 16,
   "id": "4ba0326b",
   "metadata": {},
   "outputs": [
    {
     "name": "stdout",
     "output_type": "stream",
     "text": [
      "Estimated price for a 2021 BMW M4: $ [[77477.2]] USD\n"
     ]
    }
   ],
   "source": [
    "newdata = preprocessing(2021,\n",
    "                  'like new',\n",
    "                  6,\n",
    "                   8000,\n",
    "                  'bmw',\n",
    "                  'm4',\n",
    "                  'gas',\n",
    "                  'clean',\n",
    "                  'automatic',\n",
    "                  'rwd',\n",
    "                  'coupe',\n",
    "                  'black',\n",
    "                  'yes')\n",
    "\n",
    "\n",
    "pred = predict(newdata)\n",
    "print(f'Estimated price for a 2021 BMW M4: $ {pred} USD')"
   ]
  },
  {
   "cell_type": "markdown",
   "id": "9affcc06",
   "metadata": {},
   "source": [
    "### *2016 Dodge Charger Police*"
   ]
  },
  {
   "cell_type": "markdown",
   "id": "ecef8092",
   "metadata": {},
   "source": [
    "<img src = \"https://http2.mlstatic.com/D_NQ_NP_978772-MLM51938341807_102022-O.webp\">"
   ]
  },
  {
   "cell_type": "code",
   "execution_count": 17,
   "id": "871dfe3b",
   "metadata": {},
   "outputs": [
    {
     "name": "stdout",
     "output_type": "stream",
     "text": [
      "Estimated price for a 2016 Dodge Charger Police: $ [[20292.99]] USD\n"
     ]
    }
   ],
   "source": [
    "newdata = preprocessing(2016,\n",
    "                  'excellent',\n",
    "                  6,\n",
    "                   40000,\n",
    "                  'dodge',\n",
    "                  'charger police',\n",
    "                  'gas',\n",
    "                  'clean',\n",
    "                  'automatic',\n",
    "                  'rwd',\n",
    "                  'sedan',\n",
    "                  'red',\n",
    "                  'no')\n",
    "\n",
    "\n",
    "pred = predict(newdata)\n",
    "print(f'Estimated price for a 2016 Dodge Charger Police: $ {pred} USD')"
   ]
  },
  {
   "cell_type": "markdown",
   "id": "c96f31e5",
   "metadata": {},
   "source": [
    "### *2001 Ford Mustang*"
   ]
  },
  {
   "cell_type": "markdown",
   "id": "f36022b6",
   "metadata": {},
   "source": [
    "<img src = \"https://http2.mlstatic.com/D_NQ_NP_680649-MLM52973166807_122022-O.webp\">"
   ]
  },
  {
   "cell_type": "code",
   "execution_count": 18,
   "id": "3e4ba773",
   "metadata": {},
   "outputs": [
    {
     "name": "stdout",
     "output_type": "stream",
     "text": [
      "Estimated price for a 2001 Ford Mustang: $ [[7119.45]] USD\n"
     ]
    }
   ],
   "source": [
    "newdata = preprocessing(2001,\n",
    "                      'good',\n",
    "                      6,\n",
    "                       90000,\n",
    "                      'ford',\n",
    "                      'mustang',\n",
    "                      'gas',\n",
    "                      'rebuilt',\n",
    "                      'manual',\n",
    "                      'rwd',\n",
    "                      'convertible',\n",
    "                      'silver',\n",
    "                      'no')\n",
    "\n",
    "pred = predict(newdata)\n",
    "print(f'Estimated price for a 2001 Ford Mustang: $ {pred} USD')"
   ]
  },
  {
   "cell_type": "markdown",
   "id": "b31dfce6",
   "metadata": {},
   "source": [
    "### *2020 Honda Accord Touring*"
   ]
  },
  {
   "cell_type": "markdown",
   "id": "c1a81133",
   "metadata": {},
   "source": [
    "<img src = \"https://img.remediosdigitales.com/a7a3b1/honda-accord-2021-precio-mexico_/1366_2000.jpg\">"
   ]
  },
  {
   "cell_type": "code",
   "execution_count": 19,
   "id": "9542530f",
   "metadata": {},
   "outputs": [
    {
     "name": "stdout",
     "output_type": "stream",
     "text": [
      "Estimated price for a 2020 Honda Touring: $ [[24385.45]] USD\n"
     ]
    }
   ],
   "source": [
    "newdata = preprocessing(2020,\n",
    "                      'excellent',\n",
    "                      4,\n",
    "                       71000,\n",
    "                      'honda',\n",
    "                      'accord touring',\n",
    "                      'gas',\n",
    "                      'clean',\n",
    "                      'automatic',\n",
    "                      'fwd',\n",
    "                      'coupe',\n",
    "                      'grey',\n",
    "                      'no')\n",
    "\n",
    "pred = predict(newdata)\n",
    "print(f'Estimated price for a 2020 Honda Touring: $ {pred} USD')"
   ]
  },
  {
   "cell_type": "markdown",
   "id": "5073ed06",
   "metadata": {},
   "source": [
    "### *2002 Ford Ranger*"
   ]
  },
  {
   "cell_type": "markdown",
   "id": "93686961",
   "metadata": {},
   "source": [
    "<img src = \"https://1830262577.rsc.cdn77.org/files/1FTYR14U32TA01138/IAAI/31035473/photo/photo_1.jpg\">"
   ]
  },
  {
   "cell_type": "code",
   "execution_count": 20,
   "id": "0f2bd096",
   "metadata": {},
   "outputs": [
    {
     "name": "stdout",
     "output_type": "stream",
     "text": [
      "Estimated price for a 2002 Ford Ranger: $ [[1471.18]] USD\n"
     ]
    }
   ],
   "source": [
    "newdata = preprocessing(2002,\n",
    "                      'good',\n",
    "                      4,\n",
    "                       150000,\n",
    "                      'ford',\n",
    "                      'ranger',\n",
    "                      'gas',\n",
    "                      'clean',\n",
    "                      'manual',\n",
    "                      '4wd',\n",
    "                      'truck',\n",
    "                      'blue',\n",
    "                      'no')\n",
    "\n",
    "pred = predict(newdata)\n",
    "print(f'Estimated price for a 2002 Ford Ranger: $ {pred} USD')"
   ]
  },
  {
   "cell_type": "markdown",
   "id": "46c8ec5e",
   "metadata": {},
   "source": [
    "### *2012 Chevrolet Suburban*"
   ]
  },
  {
   "cell_type": "markdown",
   "id": "bda7458c",
   "metadata": {},
   "source": [
    "<img src = \"https://http2.mlstatic.com/D_NQ_NP_798251-MLM52446835899_112022-W.jpg\">"
   ]
  },
  {
   "cell_type": "code",
   "execution_count": 21,
   "id": "85fc9649",
   "metadata": {},
   "outputs": [
    {
     "name": "stdout",
     "output_type": "stream",
     "text": [
      "Estimated price for a 2012 Chevrolet Suburban: $ [[28584.33]] USD\n"
     ]
    }
   ],
   "source": [
    "newdata = preprocessing(2012,\n",
    "                      'excellent',\n",
    "                      8,\n",
    "                       77000,\n",
    "                      'chevrolet',\n",
    "                      'suburban',\n",
    "                      'gas',\n",
    "                      'clean',\n",
    "                      'automatic',\n",
    "                      '4wd',\n",
    "                      'suv',\n",
    "                      'black',\n",
    "                      'no')\n",
    "\n",
    "pred = predict(newdata)\n",
    "print(f'Estimated price for a 2012 Chevrolet Suburban: $ {pred} USD')"
   ]
  },
  {
   "cell_type": "markdown",
   "id": "e6d93acd",
   "metadata": {},
   "source": [
    "### *Mazda CX-5*"
   ]
  },
  {
   "cell_type": "markdown",
   "id": "a7b58c37",
   "metadata": {},
   "source": [
    "<img src = \"https://http2.mlstatic.com/D_NQ_NP_661197-MLM52252354442_112022-O.webp\">"
   ]
  },
  {
   "cell_type": "code",
   "execution_count": 27,
   "id": "71a78759",
   "metadata": {},
   "outputs": [
    {
     "name": "stdout",
     "output_type": "stream",
     "text": [
      "Estimated price for a Mazda CX-5: $ [[33127.92]] USD\n"
     ]
    }
   ],
   "source": [
    "newdata = preprocessing(2021,\n",
    "                      'like new',\n",
    "                      6,\n",
    "                       13000,\n",
    "                      'mazda',\n",
    "                      'cx-5',\n",
    "                      'gas',\n",
    "                      'clean',\n",
    "                      'automatic',\n",
    "                      'fwd',\n",
    "                      'suv',\n",
    "                      'white',\n",
    "                      'no')\n",
    "\n",
    "pred = predict(newdata)\n",
    "print(f'Estimated price for a Mazda CX-5: $ {pred} USD')"
   ]
  },
  {
   "cell_type": "markdown",
   "id": "89c78e66",
   "metadata": {},
   "source": [
    "### *2014 GMC Sierra 1500*"
   ]
  },
  {
   "cell_type": "markdown",
   "id": "ade8bcdd",
   "metadata": {},
   "source": [
    "<img src = \"https://http2.mlstatic.com/D_NQ_NP_709493-MLM52842367890_122022-O.webp\">"
   ]
  },
  {
   "cell_type": "code",
   "execution_count": 28,
   "id": "0d5e55e9",
   "metadata": {},
   "outputs": [
    {
     "name": "stdout",
     "output_type": "stream",
     "text": [
      "Estimated price for a 2014 GMC Sierra 1500: $ [[25526.71]] USD\n"
     ]
    }
   ],
   "source": [
    " newdata = preprocessing(2014,\n",
    "                  'good',\n",
    "                  8,\n",
    "                   80000,\n",
    "                  'gmc',\n",
    "                  'sierra',\n",
    "                  'gas',\n",
    "                  'clean',\n",
    "                  'automatic',\n",
    "                  '4wd',\n",
    "                  'pickup',\n",
    "                  'white',\n",
    "                  'yes')\n",
    "\n",
    "pred = predict(newdata)\n",
    "print(f'Estimated price for a 2014 GMC Sierra 1500: $ {pred} USD')"
   ]
  },
  {
   "cell_type": "markdown",
   "id": "620052e8",
   "metadata": {},
   "source": [
    "###  *2001  Toyota Tacoma*"
   ]
  },
  {
   "cell_type": "markdown",
   "id": "617b4da6",
   "metadata": {},
   "source": [
    "<img src = \"https://http2.mlstatic.com/D_NQ_NP_738407-MLM52815866483_122022-O.webp\">"
   ]
  },
  {
   "cell_type": "code",
   "execution_count": 29,
   "id": "f292ac51",
   "metadata": {},
   "outputs": [
    {
     "name": "stdout",
     "output_type": "stream",
     "text": [
      "Estimated price for a 2001 Toyota Tacoma: $ [[8136.62]] USD\n"
     ]
    }
   ],
   "source": [
    "newdata =  preprocessing(2001,\n",
    "                  'good',\n",
    "                  4,\n",
    "                   67000,\n",
    "                  'toyota',\n",
    "                  'tacoma',\n",
    "                  'gas',\n",
    "                  'rebuilt',\n",
    "                  'manual',\n",
    "                  '4wd',\n",
    "                  'pickup',\n",
    "                  'red',\n",
    "                  'no')\n",
    "\n",
    "pred = predict(newdata)\n",
    "print(f'Estimated price for a 2001 Toyota Tacoma: $ {pred} USD')"
   ]
  }
 ],
 "metadata": {
  "kernelspec": {
   "display_name": "Python 3 (ipykernel)",
   "language": "python",
   "name": "python3"
  },
  "language_info": {
   "codemirror_mode": {
    "name": "ipython",
    "version": 3
   },
   "file_extension": ".py",
   "mimetype": "text/x-python",
   "name": "python",
   "nbconvert_exporter": "python",
   "pygments_lexer": "ipython3",
   "version": "3.9.7"
  }
 },
 "nbformat": 4,
 "nbformat_minor": 5
}
