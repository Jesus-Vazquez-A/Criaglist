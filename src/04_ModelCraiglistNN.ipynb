{
  "nbformat": 4,
  "nbformat_minor": 0,
  "metadata": {
    "colab": {
      "provenance": [],
      "gpuType": "T4"
    },
    "kernelspec": {
      "name": "python3",
      "display_name": "Python 3"
    },
    "language_info": {
      "name": "python"
    },
    "accelerator": "GPU"
  },
  "cells": [
    {
      "cell_type": "markdown",
      "source": [
        "## *Import Libraries*"
      ],
      "metadata": {
        "id": "Q65J2ewbq_EX"
      }
    },
    {
      "cell_type": "code",
      "execution_count": null,
      "metadata": {
        "id": "DI2jkFwDjPCS"
      },
      "outputs": [],
      "source": [
        "import pandas as pd\n",
        "import matplotlib.pyplot as plt\n",
        "import numpy as np\n",
        "import warnings"
      ]
    },
    {
      "cell_type": "code",
      "source": [
        "warnings.filterwarnings('ignore')"
      ],
      "metadata": {
        "id": "yqY-Ls_jOZVi"
      },
      "execution_count": null,
      "outputs": []
    },
    {
      "cell_type": "code",
      "source": [
        "df = pd.read_parquet('/content/drive/MyDrive/Craiglist/criaglist_clearv3.parquet')"
      ],
      "metadata": {
        "id": "0dynCDGAjf_J"
      },
      "execution_count": null,
      "outputs": []
    },
    {
      "cell_type": "markdown",
      "source": [
        "## *Split Data*"
      ],
      "metadata": {
        "id": "BnusuR3TkWqd"
      }
    },
    {
      "cell_type": "code",
      "source": [
        "from sklearn.model_selection import train_test_split"
      ],
      "metadata": {
        "id": "FRstkj2RB0c8"
      },
      "execution_count": null,
      "outputs": []
    },
    {
      "cell_type": "code",
      "source": [
        "X = df.drop(columns=['price'])\n",
        "y = df[['price']]"
      ],
      "metadata": {
        "id": "MXdR-khlkKkW"
      },
      "execution_count": null,
      "outputs": []
    },
    {
      "cell_type": "code",
      "source": [
        "X.columns"
      ],
      "metadata": {
        "colab": {
          "base_uri": "https://localhost:8080/"
        },
        "id": "YAFeJEtTfXrC",
        "outputId": "b55fa7d2-5f86-40b9-a78c-d5e260eb66e9"
      },
      "execution_count": null,
      "outputs": [
        {
          "output_type": "execute_result",
          "data": {
            "text/plain": [
              "Index(['year', 'cylinders', 'odometer', 'title_status', 'transmission',\n",
              "       'engine_size', 'hp', 'premium', 'acura', 'audi',\n",
              "       ...\n",
              "       'minivan', 'pickup', 'sedan', 'truck', 'van', 'wagon', 'germany',\n",
              "       'japan', 'south korea', 'usa'],\n",
              "      dtype='object', length=425)"
            ]
          },
          "metadata": {},
          "execution_count": 6
        }
      ]
    },
    {
      "cell_type": "code",
      "source": [
        "len(X.columns)"
      ],
      "metadata": {
        "colab": {
          "base_uri": "https://localhost:8080/"
        },
        "id": "RMrb3dGQSjfj",
        "outputId": "a025f423-f498-4b48-debb-a73ccf647c6c"
      },
      "execution_count": null,
      "outputs": [
        {
          "output_type": "execute_result",
          "data": {
            "text/plain": [
              "425"
            ]
          },
          "metadata": {},
          "execution_count": 7
        }
      ]
    },
    {
      "cell_type": "code",
      "source": [
        "X_train, X_test, y_train, y_test = train_test_split(X,y, test_size=0.2,random_state=42)\n",
        "X_train, X_val, y_train, y_val = train_test_split(X_train,y_train, test_size=0.2, random_state=42)"
      ],
      "metadata": {
        "id": "nQtuK8ydkTn9"
      },
      "execution_count": null,
      "outputs": []
    },
    {
      "cell_type": "code",
      "source": [
        "X_train.shape[0],X_val.shape[0],X_test.shape[0]"
      ],
      "metadata": {
        "colab": {
          "base_uri": "https://localhost:8080/"
        },
        "id": "utYXo1V3LEEN",
        "outputId": "ca2b405b-b7bf-43cc-bbc0-ff956b69004f"
      },
      "execution_count": null,
      "outputs": [
        {
          "output_type": "execute_result",
          "data": {
            "text/plain": [
              "(92404, 23101, 28877)"
            ]
          },
          "metadata": {},
          "execution_count": 9
        }
      ]
    },
    {
      "cell_type": "markdown",
      "source": [
        "### *Scaler Data*"
      ],
      "metadata": {
        "id": "8sP7ay-akkxr"
      }
    },
    {
      "cell_type": "code",
      "source": [
        "from sklearn.preprocessing import StandardScaler,RobustScaler"
      ],
      "metadata": {
        "id": "9Tqg_DXdkZ9X"
      },
      "execution_count": null,
      "outputs": []
    },
    {
      "cell_type": "code",
      "source": [
        "scaler = StandardScaler().fit(X_train)"
      ],
      "metadata": {
        "id": "nZY_XOIzktyU"
      },
      "execution_count": null,
      "outputs": []
    },
    {
      "cell_type": "code",
      "source": [
        "X_train = scaler.transform(X_train)\n",
        "X_val = scaler.transform(X_val)\n",
        "X_test = scaler.transform(X_test)"
      ],
      "metadata": {
        "id": "YmLPfHpyk4Lq"
      },
      "execution_count": null,
      "outputs": []
    },
    {
      "cell_type": "code",
      "source": [
        "robust = RobustScaler().fit(y_train)"
      ],
      "metadata": {
        "id": "obqBX7G6D384"
      },
      "execution_count": null,
      "outputs": []
    },
    {
      "cell_type": "code",
      "source": [
        "y_train = robust.transform(y_train)\n",
        "y_val = robust.transform(y_val)\n",
        "y_test = robust.transform(y_test)"
      ],
      "metadata": {
        "id": "kqMb8_lUEE9e"
      },
      "execution_count": null,
      "outputs": []
    },
    {
      "cell_type": "code",
      "source": [
        "def array(x):\n",
        "    return np.asarray(x)"
      ],
      "metadata": {
        "id": "Ck-mPWqpmAzl"
      },
      "execution_count": null,
      "outputs": []
    },
    {
      "cell_type": "code",
      "source": [
        "X_train,y_train = array(X_train),array(y_train)\n",
        "X_test,y_test = array(X_test),array(y_test)\n",
        "X_val,y_val = array(X_val),array(y_val)"
      ],
      "metadata": {
        "id": "t6NQ2IzkmBxd"
      },
      "execution_count": null,
      "outputs": []
    },
    {
      "cell_type": "markdown",
      "source": [
        "## *Model*"
      ],
      "metadata": {
        "id": "BkDLxV1sDLNq"
      }
    },
    {
      "cell_type": "code",
      "source": [
        "import torch"
      ],
      "metadata": {
        "id": "quohqhfxDbP5"
      },
      "execution_count": null,
      "outputs": []
    },
    {
      "cell_type": "code",
      "source": [
        "class Dataset(torch.utils.data.Dataset):\n",
        "    def __init__(self,x,y):\n",
        "        self.x = torch.from_numpy(x).float().to('cuda')\n",
        "        self.y = torch.from_numpy(y).float().to('cuda')\n",
        "\n",
        "    def __len__(self):\n",
        "        return self.x.shape[0]\n",
        "\n",
        "    def __getitem__(self,index):\n",
        "        return self.x[index],self.y[index]"
      ],
      "metadata": {
        "id": "kSpLQ889DKiy"
      },
      "execution_count": null,
      "outputs": []
    },
    {
      "cell_type": "code",
      "source": [
        "trainDataset = Dataset(X_train,y_train)\n",
        "valDataset = Dataset(X_val,y_val)"
      ],
      "metadata": {
        "id": "MZRUFW3FDdXZ"
      },
      "execution_count": null,
      "outputs": []
    },
    {
      "cell_type": "code",
      "source": [
        "trainDataloader = torch.utils.data.DataLoader(trainDataset,\n",
        "                                              batch_size = 32,\n",
        "                                              shuffle = True)\n",
        "\n",
        "valDataloader = torch.utils.data.DataLoader(valDataset,\n",
        "                                              batch_size = 16,\n",
        "                                              shuffle = True)"
      ],
      "metadata": {
        "id": "a4B05PUzDiBg"
      },
      "execution_count": null,
      "outputs": []
    },
    {
      "cell_type": "code",
      "source": [
        "import torch.nn as nn\n",
        "import torch.nn.functional as F"
      ],
      "metadata": {
        "id": "4NiVdVanD4qg"
      },
      "execution_count": null,
      "outputs": []
    },
    {
      "cell_type": "code",
      "source": [
        "X_train.shape[1]"
      ],
      "metadata": {
        "colab": {
          "base_uri": "https://localhost:8080/"
        },
        "id": "W8uTkcckEAbp",
        "outputId": "602a36db-1a48-4565-bb40-98aa6214a152"
      },
      "execution_count": null,
      "outputs": [
        {
          "output_type": "execute_result",
          "data": {
            "text/plain": [
              "425"
            ]
          },
          "metadata": {},
          "execution_count": 22
        }
      ]
    },
    {
      "cell_type": "code",
      "source": [
        "class Model(nn.Module):\n",
        "    def __init__(self):\n",
        "        super(Model,self).__init__()\n",
        "\n",
        "        self.fc1 = nn.Linear(in_features = 425,out_features = 64)\n",
        "        self.fc2 = nn.Linear(in_features = 64,out_features = 32)\n",
        "        self.fc3 = nn.Linear(in_features= 32,out_features=16)\n",
        "        self.output = nn.Linear(in_features = 16,out_features = 1)\n",
        "\n",
        "    def forward(self,x):\n",
        "\n",
        "        x = F.relu(self.fc1(x))\n",
        "        x = F.relu(self.fc2(x))\n",
        "        x = F.relu(self.fc3(x))\n",
        "\n",
        "        return self.output(x)"
      ],
      "metadata": {
        "id": "aLrqz1xiD8g-"
      },
      "execution_count": null,
      "outputs": []
    },
    {
      "cell_type": "code",
      "source": [
        "model = Model()\n",
        "optimizer = torch.optim.Adam(model.parameters(),lr =  0.0005)\n",
        "loss = nn.MSELoss()"
      ],
      "metadata": {
        "id": "S1w_UvnMEFMm"
      },
      "execution_count": null,
      "outputs": []
    },
    {
      "cell_type": "code",
      "source": [
        "model.to('cuda')"
      ],
      "metadata": {
        "colab": {
          "base_uri": "https://localhost:8080/"
        },
        "id": "KUxXvWVzENrm",
        "outputId": "2d9e41fc-1cac-4e23-d68f-594d6311f1dd"
      },
      "execution_count": null,
      "outputs": [
        {
          "output_type": "execute_result",
          "data": {
            "text/plain": [
              "Model(\n",
              "  (fc1): Linear(in_features=425, out_features=64, bias=True)\n",
              "  (fc2): Linear(in_features=64, out_features=32, bias=True)\n",
              "  (fc3): Linear(in_features=32, out_features=16, bias=True)\n",
              "  (output): Linear(in_features=16, out_features=1, bias=True)\n",
              ")"
            ]
          },
          "metadata": {},
          "execution_count": 25
        }
      ]
    },
    {
      "cell_type": "code",
      "source": [
        "def train(dataloader):\n",
        "\n",
        "    model.train()\n",
        "    for xi,yi in dataloader:\n",
        "        xi = xi.to('cuda')\n",
        "        yi = yi.to('cuda')\n",
        "        pred = model(xi)\n",
        "        loss_fc = loss(pred,yi)\n",
        "\n",
        "        optimizer.zero_grad()\n",
        "        loss_fc.backward()\n",
        "        optimizer.step()\n",
        "\n",
        "    return loss_fc.item()\n",
        "\n",
        "\n",
        "@torch.no_grad()\n",
        "def val(dataloader):\n",
        "\n",
        "    model.eval()\n",
        "\n",
        "    for xi,yi in dataloader:\n",
        "        xi = xi.to('cuda')\n",
        "        yi = yi.to('cuda')\n",
        "        pred = model(xi)\n",
        "        loss_fc = loss(pred,yi)\n",
        "\n",
        "\n",
        "    return loss_fc.item()"
      ],
      "metadata": {
        "id": "Sdf59XvHEQwn"
      },
      "execution_count": null,
      "outputs": []
    },
    {
      "cell_type": "code",
      "source": [
        "epochs = np.arange(1,35,1)\n",
        "loss_train_list = []\n",
        "loss_val_list = []\n",
        "epoch_list = []"
      ],
      "metadata": {
        "id": "sPLuty1jEV21"
      },
      "execution_count": null,
      "outputs": []
    },
    {
      "cell_type": "code",
      "source": [
        "\n",
        "for epoch in epochs:\n",
        "\n",
        "  loss_train,loss_val = train(trainDataloader),val(valDataloader)\n",
        "\n",
        "  loss_train_list.append(loss_train)\n",
        "  loss_val_list.append(loss_val)\n",
        "  epoch_list.append(epoch)\n",
        "\n",
        "  print(f'Epoch:  {epoch} loss train: {loss_train} loss test: {loss_val} ')"
      ],
      "metadata": {
        "colab": {
          "base_uri": "https://localhost:8080/"
        },
        "id": "GWI5VdM7f1zv",
        "outputId": "f50c9a6e-e2a3-4de4-b39f-f9b8e4551a34"
      },
      "execution_count": null,
      "outputs": [
        {
          "output_type": "stream",
          "name": "stdout",
          "text": [
            "Epoch:  1 loss train: 0.03603559732437134 loss test: 0.12502844631671906 \n",
            "Epoch:  2 loss train: 0.05934036895632744 loss test: 0.07340963929891586 \n",
            "Epoch:  3 loss train: 0.027311641722917557 loss test: 0.03856561705470085 \n",
            "Epoch:  4 loss train: 0.04325094446539879 loss test: 0.07591462135314941 \n",
            "Epoch:  5 loss train: 0.05079204961657524 loss test: 0.1340082436800003 \n",
            "Epoch:  6 loss train: 0.029628753662109375 loss test: 0.07619889825582504 \n",
            "Epoch:  7 loss train: 0.5072054266929626 loss test: 0.05526353791356087 \n",
            "Epoch:  8 loss train: 0.051646213978528976 loss test: 0.10959623008966446 \n",
            "Epoch:  9 loss train: 0.14029419422149658 loss test: 0.04595876485109329 \n",
            "Epoch:  10 loss train: 0.15720751881599426 loss test: 0.040663812309503555 \n",
            "Epoch:  11 loss train: 0.019404053688049316 loss test: 0.009974675253033638 \n",
            "Epoch:  12 loss train: 0.09664316475391388 loss test: 0.1423385739326477 \n",
            "Epoch:  13 loss train: 0.05979309603571892 loss test: 0.03183542564511299 \n",
            "Epoch:  14 loss train: 0.035015758126974106 loss test: 0.11673445254564285 \n",
            "Epoch:  15 loss train: 0.05601707100868225 loss test: 0.04739062488079071 \n",
            "Epoch:  16 loss train: 0.08801751583814621 loss test: 0.12408201396465302 \n",
            "Epoch:  17 loss train: 0.04581586271524429 loss test: 0.03883950784802437 \n",
            "Epoch:  18 loss train: 0.04540182650089264 loss test: 0.09444349259138107 \n",
            "Epoch:  19 loss train: 0.04767993837594986 loss test: 0.025430671870708466 \n",
            "Epoch:  20 loss train: 0.07345487177371979 loss test: 0.02949269488453865 \n",
            "Epoch:  21 loss train: 0.029490813612937927 loss test: 0.03594540059566498 \n",
            "Epoch:  22 loss train: 0.07457659393548965 loss test: 0.13817580044269562 \n",
            "Epoch:  23 loss train: 0.0982934832572937 loss test: 0.0612814724445343 \n",
            "Epoch:  24 loss train: 0.09034229069948196 loss test: 0.01563095673918724 \n",
            "Epoch:  25 loss train: 0.026462629437446594 loss test: 0.07381478697061539 \n",
            "Epoch:  26 loss train: 0.07962960004806519 loss test: 0.17002278566360474 \n",
            "Epoch:  27 loss train: 0.042421065270900726 loss test: 0.010936081409454346 \n",
            "Epoch:  28 loss train: 0.0644555613398552 loss test: 0.016992859542369843 \n",
            "Epoch:  29 loss train: 0.1311168223619461 loss test: 0.01554915402084589 \n",
            "Epoch:  30 loss train: 0.044495027512311935 loss test: 0.02396588958799839 \n",
            "Epoch:  31 loss train: 0.0747523158788681 loss test: 0.0339406318962574 \n",
            "Epoch:  32 loss train: 0.02401786483824253 loss test: 0.03039601817727089 \n",
            "Epoch:  33 loss train: 0.05646512657403946 loss test: 0.14337335526943207 \n",
            "Epoch:  34 loss train: 0.018092265352606773 loss test: 0.01685176230967045 \n"
          ]
        }
      ]
    },
    {
      "cell_type": "markdown",
      "source": [
        "## *History*"
      ],
      "metadata": {
        "id": "uiRaL-yMsCTg"
      }
    },
    {
      "cell_type": "code",
      "source": [
        "\n",
        "plt.style.use('ggplot')"
      ],
      "metadata": {
        "id": "D9G_t4LTr9E4"
      },
      "execution_count": null,
      "outputs": []
    },
    {
      "cell_type": "code",
      "source": [
        "\n",
        "history = pd.DataFrame()\n",
        "history['epoch'] = epoch_list\n",
        "history['loss_train'] = loss_train_list\n",
        "history['loss_val'] = loss_val_list"
      ],
      "metadata": {
        "id": "zW-CwTNlsQpR"
      },
      "execution_count": null,
      "outputs": []
    },
    {
      "cell_type": "code",
      "source": [
        "\n",
        "plt.style.use('ggplot')"
      ],
      "metadata": {
        "id": "N5dlsC8YGPqz"
      },
      "execution_count": null,
      "outputs": []
    },
    {
      "cell_type": "code",
      "source": [
        "fig,ax = plt.subplots(1,1,figsize = (15,5))\n",
        "ax.set_title('History Loss')\n",
        "history.plot(x = \"epoch\",y = \"loss_train\",ax = ax)\n",
        "history.plot(x = \"epoch\",y = \"loss_val\",ax = ax)\n",
        "plt.show()"
      ],
      "metadata": {
        "colab": {
          "base_uri": "https://localhost:8080/",
          "height": 263
        },
        "id": "CHJMkeiyGSIy",
        "outputId": "1baf7639-1b29-48b1-80c5-15c43922fa54"
      },
      "execution_count": null,
      "outputs": [
        {
          "output_type": "display_data",
          "data": {
            "text/plain": [
              "<Figure size 1500x500 with 1 Axes>"
            ],
            "image/png": "[encoded data removed]"
          },
          "metadata": {}
        }
      ]
    },
    {
      "cell_type": "code",
      "source": [
        "X_test = torch.from_numpy(X_test).to('cuda').float()"
      ],
      "metadata": {
        "id": "JuMXhsMLMtr2"
      },
      "execution_count": null,
      "outputs": []
    },
    {
      "cell_type": "code",
      "source": [
        "pred_train = model(trainDataset.x).detach().to('cpu')\n",
        "pred_val = model(valDataset.x).detach().to('cpu')\n",
        "pred_test = model(X_test).detach().to('cpu')"
      ],
      "metadata": {
        "id": "UFz0incpGkVq"
      },
      "execution_count": null,
      "outputs": []
    },
    {
      "cell_type": "code",
      "source": [
        "y_test_robust = robust.inverse_transform(y_test)\n",
        "pred = model(X_test).detach().to('cpu')\n",
        "pred_robust = robust.inverse_transform(pred)"
      ],
      "metadata": {
        "id": "cjN-RtS-LI3X"
      },
      "execution_count": null,
      "outputs": []
    },
    {
      "cell_type": "markdown",
      "source": [
        "## *Metrics*"
      ],
      "metadata": {
        "id": "mmXzwS2jtD3c"
      }
    },
    {
      "cell_type": "code",
      "source": [
        "from sklearn.metrics import mean_squared_error,r2_score"
      ],
      "metadata": {
        "id": "P8Jp1vQGs7fc"
      },
      "execution_count": null,
      "outputs": []
    },
    {
      "cell_type": "markdown",
      "source": [
        "### *RMSE*"
      ],
      "metadata": {
        "id": "_17qlYVyttgY"
      }
    },
    {
      "cell_type": "code",
      "source": [
        "def RMSE(y_true,y_pred):\n",
        "\n",
        "    y_true = robust.inverse_transform(y_true)\n",
        "    y_pred = robust.inverse_transform(y_pred)\n",
        "\n",
        "    return np.sqrt(mean_squared_error(y_true,y_pred))"
      ],
      "metadata": {
        "id": "U-XsE0u3tH_N"
      },
      "execution_count": null,
      "outputs": []
    },
    {
      "cell_type": "code",
      "source": [
        "rmse_train = RMSE(y_train,pred_train)\n",
        "rmse_val = RMSE(y_val,pred_val)\n",
        "rmse_test = RMSE(y_test,pred_test)"
      ],
      "metadata": {
        "id": "1L-MohPKtQmL"
      },
      "execution_count": null,
      "outputs": []
    },
    {
      "cell_type": "code",
      "source": [
        "print(f'RMSE Train: {rmse_train}')\n",
        "print(f'RMSE Test:  {rmse_test}')\n",
        "print(f'RMSE Val:   {rmse_val}')"
      ],
      "metadata": {
        "colab": {
          "base_uri": "https://localhost:8080/"
        },
        "id": "9hx-MqFnteIL",
        "outputId": "42fb1df7-07ec-4768-9b68-53613671ddf6"
      },
      "execution_count": null,
      "outputs": [
        {
          "output_type": "stream",
          "name": "stdout",
          "text": [
            "RMSE Train: 3505.0046974251713\n",
            "RMSE Test:  3690.414729723677\n",
            "RMSE Val:   3690.170814505493\n"
          ]
        }
      ]
    },
    {
      "cell_type": "code",
      "source": [
        "def R2(y_true,y_pred):\n",
        "\n",
        "    y_true = robust.inverse_transform(y_true)\n",
        "    y_pred = robust.inverse_transform(y_pred)\n",
        "\n",
        "\n",
        "    return r2_score(y_true,y_pred)"
      ],
      "metadata": {
        "id": "tm3ZXSnyB5ip"
      },
      "execution_count": null,
      "outputs": []
    },
    {
      "cell_type": "code",
      "source": [
        "r2_train = R2(y_train,pred_train)\n",
        "r2_val = R2(y_val,pred_val)\n",
        "r2_test = R2(y_test,pred_test)"
      ],
      "metadata": {
        "id": "2WzIwed6tr_B"
      },
      "execution_count": null,
      "outputs": []
    },
    {
      "cell_type": "code",
      "source": [
        "print(f'R2 Train: {r2_train}')\n",
        "print(f'R2 Test:  {r2_test}')\n",
        "print(f'R2 Val:   {r2_val}')"
      ],
      "metadata": {
        "colab": {
          "base_uri": "https://localhost:8080/"
        },
        "id": "_kl9QshEuFRf",
        "outputId": "335c3bc5-a549-4bc7-cd96-0e8368a6adab"
      },
      "execution_count": null,
      "outputs": [
        {
          "output_type": "stream",
          "name": "stdout",
          "text": [
            "R2 Train: 0.9144304470473031\n",
            "R2 Test:  0.9040815897305579\n",
            "R2 Val:   0.9048984660944253\n"
          ]
        }
      ]
    },
    {
      "cell_type": "markdown",
      "source": [
        "### *Predict New Data*"
      ],
      "metadata": {
        "id": "35EpAv4EX4Sf"
      }
    },
    {
      "cell_type": "code",
      "source": [
        "columns =  X.columns"
      ],
      "metadata": {
        "id": "L3FeWXX10skr"
      },
      "execution_count": null,
      "outputs": []
    },
    {
      "cell_type": "code",
      "source": [
        "np.where('germany'==columns)"
      ],
      "metadata": {
        "colab": {
          "base_uri": "https://localhost:8080/"
        },
        "id": "1jxY6Qz_1m35",
        "outputId": "7a78ad43-689f-4d09-eb3f-8d4ba72a6794"
      },
      "execution_count": null,
      "outputs": [
        {
          "output_type": "execute_result",
          "data": {
            "text/plain": [
              "(array([421]),)"
            ]
          },
          "metadata": {},
          "execution_count": 44
        }
      ]
    },
    {
      "cell_type": "code",
      "source": [
        "def predict(country,manufacturer,model_car,body,year,odometer,cyl,engine,fuel,transmission,hp,title_status):\n",
        "    zeros = np.zeros(len(columns))\n",
        "    title_status_dict = {'missing':0,'lien':1,'salvage':2,'rebuilt':3,'clean':4}\n",
        "    zeros[0] = year\n",
        "    zeros[1] = cyl\n",
        "    zeros[2] = np.sqrt(odometer)\n",
        "    zeros[3] = title_status_dict[title_status]\n",
        "    zeros[4] = np.where(transmission==\"automatic\",1,0)\n",
        "    zeros[5] = engine\n",
        "    zeros[6] = hp\n",
        "    premium_list =  ['gmc','cadillac','audi','bmw','mercedes-benz','infiniti','acura','lexus']\n",
        "    if manufacturer in premium_list:\n",
        "        zeros[7] = 1\n",
        "    else:\n",
        "        zeros[7] = 0\n",
        "\n",
        "\n",
        "    manufacturer_idx = np.where(manufacturer == columns)[0][0]\n",
        "    fuel_idx = np.where(fuel == columns)[0][0]\n",
        "    type_body_idx = np.where(body == columns)[0][0]\n",
        "    country_idx = np.where(country == columns)[0][0]\n",
        "    model_idx = np.where(model_car == columns)[0][0]\n",
        "\n",
        "    if manufacturer_idx >= 0:\n",
        "        zeros[manufacturer_idx] = 1\n",
        "\n",
        "\n",
        "    if fuel_idx >=0:\n",
        "        zeros[fuel_idx] = 1\n",
        "\n",
        "\n",
        "    if type_body_idx>=0:\n",
        "        zeros[type_body_idx] = 1\n",
        "\n",
        "    if country_idx>=0:\n",
        "        zeros[country_idx] = 1\n",
        "\n",
        "\n",
        "    if model_idx>=0:\n",
        "        zeros[model_idx] = 1\n",
        "\n",
        "    zeros = np.asarray([zeros])\n",
        "\n",
        "    zeros = scaler.transform(zeros)\n",
        "    zeros = torch.from_numpy(zeros).float().to('cuda')\n",
        "    pred = model(zeros).detach().to('cpu').float()\n",
        "\n",
        "\n",
        "\n",
        "\n",
        "    return robust.inverse_transform(pred)"
      ],
      "metadata": {
        "id": "hT_rPVn60PbV"
      },
      "execution_count": null,
      "outputs": []
    },
    {
      "cell_type": "code",
      "source": [
        "predict('germany','mercedes-benz','c-class','sedan',2021,12456,4,2.0,'gas','automatic',255,'clean')"
      ],
      "metadata": {
        "colab": {
          "base_uri": "https://localhost:8080/"
        },
        "id": "v_RNGXXC2r6q",
        "outputId": "fa0a1e4c-1982-4369-c07c-8a9f9a062dd2"
      },
      "execution_count": null,
      "outputs": [
        {
          "output_type": "execute_result",
          "data": {
            "text/plain": [
              "array([[34659.31500518]])"
            ]
          },
          "metadata": {},
          "execution_count": 46
        }
      ]
    },
    {
      "cell_type": "code",
      "source": [
        "predict('usa','jeep','wrangler','SUV',2020,35364,6,3.6,'gas','manual',285,'clean')"
      ],
      "metadata": {
        "colab": {
          "base_uri": "https://localhost:8080/"
        },
        "id": "LhKGZ11_6fPL",
        "outputId": "9a8af1f7-1915-4ff7-a967-6e0791b36447"
      },
      "execution_count": null,
      "outputs": [
        {
          "output_type": "execute_result",
          "data": {
            "text/plain": [
              "array([[46326.88081646]])"
            ]
          },
          "metadata": {},
          "execution_count": 47
        }
      ]
    },
    {
      "cell_type": "code",
      "source": [
        "predict('japan','toyota','tacoma','pickup',2015,105281,6,4.0,'gas','automatic',236,'clean')"
      ],
      "metadata": {
        "colab": {
          "base_uri": "https://localhost:8080/"
        },
        "id": "PWBLDpnG8Bx9",
        "outputId": "9a1b21fc-d17b-4cb2-90de-a76a0d0a0169"
      },
      "execution_count": null,
      "outputs": [
        {
          "output_type": "execute_result",
          "data": {
            "text/plain": [
              "array([[26300.60242736]])"
            ]
          },
          "metadata": {},
          "execution_count": 48
        }
      ]
    },
    {
      "cell_type": "code",
      "source": [
        "predict('germany','bmw','5 series','sedan',2023,5741,6,3.0,'gas','automatic',332,'clean')"
      ],
      "metadata": {
        "colab": {
          "base_uri": "https://localhost:8080/"
        },
        "id": "JF0IHyGy7rZR",
        "outputId": "9d136671-57b4-4fa4-ae81-2b1c49f793a3"
      },
      "execution_count": null,
      "outputs": [
        {
          "output_type": "execute_result",
          "data": {
            "text/plain": [
              "array([[66179.104177]])"
            ]
          },
          "metadata": {},
          "execution_count": 51
        }
      ]
    },
    {
      "cell_type": "markdown",
      "source": [
        "### *Save scaler objects*"
      ],
      "metadata": {
        "id": "ESr1JdNQJObB"
      }
    },
    {
      "cell_type": "code",
      "source": [
        "import joblib"
      ],
      "metadata": {
        "id": "EDB4RmAVJUPI"
      },
      "execution_count": null,
      "outputs": []
    },
    {
      "cell_type": "code",
      "source": [
        "joblib.dump(scaler,'scaler.pkl')"
      ],
      "metadata": {
        "colab": {
          "base_uri": "https://localhost:8080/"
        },
        "id": "C4kZsm-mJW8v",
        "outputId": "f1653a14-126e-4841-f8ce-8214075d7b50"
      },
      "execution_count": null,
      "outputs": [
        {
          "output_type": "execute_result",
          "data": {
            "text/plain": [
              "['scaler.pkl']"
            ]
          },
          "metadata": {},
          "execution_count": 53
        }
      ]
    },
    {
      "cell_type": "code",
      "source": [
        "joblib.dump(robust,'robust.pkl')"
      ],
      "metadata": {
        "colab": {
          "base_uri": "https://localhost:8080/"
        },
        "id": "a-kkBhhGJbYH",
        "outputId": "72dbe220-0942-478d-b55b-ada7dc5ab5f0"
      },
      "execution_count": null,
      "outputs": [
        {
          "output_type": "execute_result",
          "data": {
            "text/plain": [
              "['robust.pkl']"
            ]
          },
          "metadata": {},
          "execution_count": 54
        }
      ]
    },
    {
      "cell_type": "markdown",
      "source": [
        "### *JSON File*"
      ],
      "metadata": {
        "id": "woSStMooJgtH"
      }
    },
    {
      "cell_type": "code",
      "source": [
        "import json"
      ],
      "metadata": {
        "id": "e9VY49MbJfie"
      },
      "execution_count": null,
      "outputs": []
    },
    {
      "cell_type": "code",
      "source": [
        "columns = X.columns\n",
        "columns = {\"columns\":[col for col in columns]}\n",
        "\n",
        "with open(\"columns.json\",\"w\") as F:\n",
        "\n",
        "    F.write(json.dumps(columns))"
      ],
      "metadata": {
        "id": "Gf0Wm5fsJlQv"
      },
      "execution_count": null,
      "outputs": []
    },
    {
      "cell_type": "markdown",
      "source": [
        "We save the name of the columns in JSON format to help capture the new data."
      ],
      "metadata": {
        "id": "Ci8TY8k3Keyj"
      }
    },
    {
      "cell_type": "markdown",
      "source": [
        "### *Save Model*"
      ],
      "metadata": {
        "id": "9CJtZNFsK0vP"
      }
    },
    {
      "cell_type": "code",
      "source": [
        "torch.save(model.state_dict(),'model.pth')"
      ],
      "metadata": {
        "id": "mJqrAJmKhwC-"
      },
      "execution_count": null,
      "outputs": []
    },
    {
      "cell_type": "markdown",
      "source": [
        "We save the previously trained model to use it to predict new data."
      ],
      "metadata": {
        "id": "JNzKvEZsK5zP"
      }
    }
  ]
}