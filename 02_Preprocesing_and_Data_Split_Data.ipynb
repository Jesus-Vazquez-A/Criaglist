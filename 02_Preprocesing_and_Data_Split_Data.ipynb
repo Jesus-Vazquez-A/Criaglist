{
 "cells": [
  {
   "cell_type": "markdown",
   "id": "e0b89ac1",
   "metadata": {},
   "source": [
    "## *Load Libraries*"
   ]
  },
  {
   "cell_type": "code",
   "execution_count": 1,
   "id": "b2e64e63",
   "metadata": {},
   "outputs": [],
   "source": [
    "import pandas as pd\n",
    "import numpy as np\n",
    "import warnings"
   ]
  },
  {
   "cell_type": "code",
   "execution_count": 2,
   "id": "1271d96c",
   "metadata": {},
   "outputs": [],
   "source": [
    "warnings.filterwarnings('ignore')"
   ]
  },
  {
   "cell_type": "markdown",
   "id": "b4e24939",
   "metadata": {},
   "source": [
    "### *Load Data Clear*"
   ]
  },
  {
   "cell_type": "code",
   "execution_count": 3,
   "id": "2c7baff0",
   "metadata": {},
   "outputs": [],
   "source": [
    "url = \"C:\\\\Users\\\\PC\\\\Desktop\\\\Ciencias de datos\\\\Proyectos\\\\Criaglist\\\\data\\\\craiglist_clear.parquet\""
   ]
  },
  {
   "cell_type": "code",
   "execution_count": 4,
   "id": "85b39ccb",
   "metadata": {},
   "outputs": [],
   "source": [
    "df = pd.read_parquet(url)"
   ]
  },
  {
   "cell_type": "markdown",
   "id": "12060275",
   "metadata": {},
   "source": [
    "### *Dummy Variables*"
   ]
  },
  {
   "cell_type": "code",
   "execution_count": 5,
   "id": "afdce319",
   "metadata": {},
   "outputs": [],
   "source": [
    "df['premium'] = np.where(df.premium=='yes',1,0)"
   ]
  },
  {
   "cell_type": "code",
   "execution_count": 6,
   "id": "ec66ac0d",
   "metadata": {},
   "outputs": [],
   "source": [
    "df_ohe = pd.get_dummies(df)"
   ]
  },
  {
   "cell_type": "code",
   "execution_count": 7,
   "id": "a201a30b",
   "metadata": {},
   "outputs": [
    {
     "data": {
      "text/html": [
       "<div><div id=8cbb89cf-ca08-41a0-a6c9-6590ea9682d9 style=\"display:none; background-color:#9D6CFF; color:white; width:200px; height:30px; padding-left:5px; border-radius:4px; flex-direction:row; justify-content:space-around; align-items:center;\" onmouseover=\"this.style.backgroundColor='#BA9BF8'\" onmouseout=\"this.style.backgroundColor='#9D6CFF'\" onclick=\"window.commands?.execute('create-mitosheet-from-dataframe-output');\">See Full Dataframe in Mito</div> <script> if (window.commands?.hasCommand('create-mitosheet-from-dataframe-output')) document.getElementById('8cbb89cf-ca08-41a0-a6c9-6590ea9682d9').style.display = 'flex' </script> <table border=\"1\" class=\"dataframe\">\n",
       "  <thead>\n",
       "    <tr style=\"text-align: right;\">\n",
       "      <th></th>\n",
       "      <th>price</th>\n",
       "      <th>year</th>\n",
       "      <th>condition</th>\n",
       "      <th>cylinders</th>\n",
       "      <th>odometer</th>\n",
       "      <th>premium</th>\n",
       "      <th>manufacturer_acura</th>\n",
       "      <th>manufacturer_alfa-romeo</th>\n",
       "      <th>manufacturer_audi</th>\n",
       "      <th>manufacturer_bmw</th>\n",
       "      <th>...</th>\n",
       "      <th>paint_color_brown</th>\n",
       "      <th>paint_color_custom</th>\n",
       "      <th>paint_color_green</th>\n",
       "      <th>paint_color_grey</th>\n",
       "      <th>paint_color_orange</th>\n",
       "      <th>paint_color_purple</th>\n",
       "      <th>paint_color_red</th>\n",
       "      <th>paint_color_silver</th>\n",
       "      <th>paint_color_white</th>\n",
       "      <th>paint_color_yellow</th>\n",
       "    </tr>\n",
       "  </thead>\n",
       "  <tbody>\n",
       "    <tr>\n",
       "      <th>65</th>\n",
       "      <td>22500</td>\n",
       "      <td>2001</td>\n",
       "      <td>2.0</td>\n",
       "      <td>8.0</td>\n",
       "      <td>144700.0</td>\n",
       "      <td>0</td>\n",
       "      <td>0</td>\n",
       "      <td>0</td>\n",
       "      <td>0</td>\n",
       "      <td>0</td>\n",
       "      <td>...</td>\n",
       "      <td>0</td>\n",
       "      <td>0</td>\n",
       "      <td>0</td>\n",
       "      <td>0</td>\n",
       "      <td>0</td>\n",
       "      <td>0</td>\n",
       "      <td>0</td>\n",
       "      <td>0</td>\n",
       "      <td>1</td>\n",
       "      <td>0</td>\n",
       "    </tr>\n",
       "    <tr>\n",
       "      <th>539</th>\n",
       "      <td>17500</td>\n",
       "      <td>2001</td>\n",
       "      <td>2.0</td>\n",
       "      <td>6.0</td>\n",
       "      <td>178000.0</td>\n",
       "      <td>0</td>\n",
       "      <td>0</td>\n",
       "      <td>0</td>\n",
       "      <td>0</td>\n",
       "      <td>0</td>\n",
       "      <td>...</td>\n",
       "      <td>0</td>\n",
       "      <td>0</td>\n",
       "      <td>0</td>\n",
       "      <td>0</td>\n",
       "      <td>0</td>\n",
       "      <td>0</td>\n",
       "      <td>0</td>\n",
       "      <td>0</td>\n",
       "      <td>1</td>\n",
       "      <td>0</td>\n",
       "    </tr>\n",
       "    <tr>\n",
       "      <th>611</th>\n",
       "      <td>6900</td>\n",
       "      <td>2001</td>\n",
       "      <td>3.0</td>\n",
       "      <td>6.0</td>\n",
       "      <td>144445.0</td>\n",
       "      <td>0</td>\n",
       "      <td>0</td>\n",
       "      <td>0</td>\n",
       "      <td>0</td>\n",
       "      <td>0</td>\n",
       "      <td>...</td>\n",
       "      <td>0</td>\n",
       "      <td>0</td>\n",
       "      <td>0</td>\n",
       "      <td>0</td>\n",
       "      <td>0</td>\n",
       "      <td>0</td>\n",
       "      <td>0</td>\n",
       "      <td>0</td>\n",
       "      <td>1</td>\n",
       "      <td>0</td>\n",
       "    </tr>\n",
       "    <tr>\n",
       "      <th>1516</th>\n",
       "      <td>5400</td>\n",
       "      <td>2001</td>\n",
       "      <td>4.0</td>\n",
       "      <td>8.0</td>\n",
       "      <td>198000.0</td>\n",
       "      <td>0</td>\n",
       "      <td>0</td>\n",
       "      <td>0</td>\n",
       "      <td>0</td>\n",
       "      <td>0</td>\n",
       "      <td>...</td>\n",
       "      <td>0</td>\n",
       "      <td>0</td>\n",
       "      <td>0</td>\n",
       "      <td>0</td>\n",
       "      <td>0</td>\n",
       "      <td>0</td>\n",
       "      <td>0</td>\n",
       "      <td>1</td>\n",
       "      <td>0</td>\n",
       "      <td>0</td>\n",
       "    </tr>\n",
       "    <tr>\n",
       "      <th>1848</th>\n",
       "      <td>5500</td>\n",
       "      <td>2001</td>\n",
       "      <td>2.0</td>\n",
       "      <td>8.0</td>\n",
       "      <td>116000.0</td>\n",
       "      <td>1</td>\n",
       "      <td>0</td>\n",
       "      <td>0</td>\n",
       "      <td>0</td>\n",
       "      <td>1</td>\n",
       "      <td>...</td>\n",
       "      <td>0</td>\n",
       "      <td>0</td>\n",
       "      <td>0</td>\n",
       "      <td>0</td>\n",
       "      <td>0</td>\n",
       "      <td>0</td>\n",
       "      <td>0</td>\n",
       "      <td>0</td>\n",
       "      <td>0</td>\n",
       "      <td>0</td>\n",
       "    </tr>\n",
       "  </tbody>\n",
       "</table></div>"
      ],
      "text/plain": [
       "      price  year  condition  cylinders  odometer  premium  \\\n",
       "65    22500  2001        2.0        8.0  144700.0        0   \n",
       "539   17500  2001        2.0        6.0  178000.0        0   \n",
       "611    6900  2001        3.0        6.0  144445.0        0   \n",
       "1516   5400  2001        4.0        8.0  198000.0        0   \n",
       "1848   5500  2001        2.0        8.0  116000.0        1   \n",
       "\n",
       "      manufacturer_acura  manufacturer_alfa-romeo  manufacturer_audi  \\\n",
       "65                     0                        0                  0   \n",
       "539                    0                        0                  0   \n",
       "611                    0                        0                  0   \n",
       "1516                   0                        0                  0   \n",
       "1848                   0                        0                  0   \n",
       "\n",
       "      manufacturer_bmw  ...  paint_color_brown  paint_color_custom  \\\n",
       "65                   0  ...                  0                   0   \n",
       "539                  0  ...                  0                   0   \n",
       "611                  0  ...                  0                   0   \n",
       "1516                 0  ...                  0                   0   \n",
       "1848                 1  ...                  0                   0   \n",
       "\n",
       "      paint_color_green  paint_color_grey  paint_color_orange  \\\n",
       "65                    0                 0                   0   \n",
       "539                   0                 0                   0   \n",
       "611                   0                 0                   0   \n",
       "1516                  0                 0                   0   \n",
       "1848                  0                 0                   0   \n",
       "\n",
       "      paint_color_purple  paint_color_red  paint_color_silver  \\\n",
       "65                     0                0                   0   \n",
       "539                    0                0                   0   \n",
       "611                    0                0                   0   \n",
       "1516                   0                0                   1   \n",
       "1848                   0                0                   0   \n",
       "\n",
       "      paint_color_white  paint_color_yellow  \n",
       "65                    1                   0  \n",
       "539                   1                   0  \n",
       "611                   1                   0  \n",
       "1516                  0                   0  \n",
       "1848                  0                   0  \n",
       "\n",
       "[5 rows x 6655 columns]"
      ]
     },
     "execution_count": 7,
     "metadata": {},
     "output_type": "execute_result"
    }
   ],
   "source": [
    "df_ohe.head()"
   ]
  },
  {
   "cell_type": "code",
   "execution_count": 8,
   "id": "b053a1f3",
   "metadata": {},
   "outputs": [],
   "source": [
    "drops = ['model_other','transmission_other','fuel_other','type_other']"
   ]
  },
  {
   "cell_type": "code",
   "execution_count": 9,
   "id": "df42525e",
   "metadata": {},
   "outputs": [],
   "source": [
    "df_ohe.drop(columns=drops,inplace=True)"
   ]
  },
  {
   "cell_type": "markdown",
   "id": "690875e5",
   "metadata": {},
   "source": [
    "The 'other' category can cause us problems, taking advantage of the dummy transformation we can afford the risk of eliminating these variables without losing important information."
   ]
  },
  {
   "cell_type": "markdown",
   "id": "3b1f40a6",
   "metadata": {},
   "source": [
    "Because we have already eliminated this category, it no longer returns indexes."
   ]
  },
  {
   "cell_type": "markdown",
   "id": "7e2e79aa",
   "metadata": {},
   "source": [
    "### *Train/Test/Validation*"
   ]
  },
  {
   "cell_type": "code",
   "execution_count": 10,
   "id": "17c2d64b",
   "metadata": {},
   "outputs": [],
   "source": [
    "from sklearn.model_selection import train_test_split"
   ]
  },
  {
   "cell_type": "code",
   "execution_count": 11,
   "id": "e21d69ae",
   "metadata": {},
   "outputs": [],
   "source": [
    "train,test = train_test_split(df_ohe,test_size = 0.2,random_state = 42)\n",
    "train,val = train_test_split(train,test_size = 0.2,random_state = 42)"
   ]
  },
  {
   "cell_type": "code",
   "execution_count": 12,
   "id": "37e7cc44",
   "metadata": {},
   "outputs": [
    {
     "data": {
      "text/plain": [
       "((84934, 6651), (26543, 6651), (21234, 6651))"
      ]
     },
     "execution_count": 12,
     "metadata": {},
     "output_type": "execute_result"
    }
   ],
   "source": [
    "train.shape,test.shape,val.shape"
   ]
  },
  {
   "cell_type": "markdown",
   "id": "29a1ff4d",
   "metadata": {},
   "source": [
    "### *StandarScaler*"
   ]
  },
  {
   "cell_type": "markdown",
   "id": "d0a4af5d",
   "metadata": {},
   "source": [
    "We will perform a scale adjustment to speed up the training process of the neural network."
   ]
  },
  {
   "cell_type": "code",
   "execution_count": 13,
   "id": "fa3973f1",
   "metadata": {},
   "outputs": [],
   "source": [
    "from sklearn.preprocessing import StandardScaler"
   ]
  },
  {
   "cell_type": "code",
   "execution_count": 14,
   "id": "1c29fca4",
   "metadata": {},
   "outputs": [],
   "source": [
    "scaler_columns = ['year','condition','odometer','cylinders']"
   ]
  },
  {
   "cell_type": "code",
   "execution_count": 15,
   "id": "ef485297",
   "metadata": {},
   "outputs": [],
   "source": [
    "scaler = StandardScaler().fit(train[scaler_columns])"
   ]
  },
  {
   "cell_type": "code",
   "execution_count": 16,
   "id": "351f116a",
   "metadata": {},
   "outputs": [
    {
     "data": {
      "text/plain": [
       "StandardScaler()"
      ]
     },
     "execution_count": 16,
     "metadata": {},
     "output_type": "execute_result"
    }
   ],
   "source": [
    "scaler"
   ]
  },
  {
   "cell_type": "markdown",
   "id": "7c401810",
   "metadata": {},
   "source": [
    "Transform the data from the mean value and the standard deviation of the training data."
   ]
  },
  {
   "cell_type": "code",
   "execution_count": 17,
   "id": "f038c615",
   "metadata": {},
   "outputs": [],
   "source": [
    "train[scaler_columns] = scaler.transform(train[scaler_columns])\n",
    "test[scaler_columns] = scaler.transform(test[scaler_columns])\n",
    "val[scaler_columns] = scaler.transform(val[scaler_columns])"
   ]
  },
  {
   "cell_type": "code",
   "execution_count": 18,
   "id": "5a2a617c",
   "metadata": {},
   "outputs": [],
   "source": [
    "scaler_y = StandardScaler().fit(train[['price']])"
   ]
  },
  {
   "cell_type": "markdown",
   "id": "d038c0b8",
   "metadata": {},
   "source": [
    "We create another scaler object for the predictor variable."
   ]
  },
  {
   "cell_type": "code",
   "execution_count": 19,
   "id": "a1771832",
   "metadata": {},
   "outputs": [],
   "source": [
    "train[['price']] = scaler_y.transform(train[['price']])\n",
    "test[['price']] = scaler_y.transform(test[['price']])\n",
    "val[['price']] = scaler_y.transform(val[['price']])"
   ]
  },
  {
   "cell_type": "markdown",
   "id": "1c430951",
   "metadata": {},
   "source": [
    "### *Save Object Scaler*"
   ]
  },
  {
   "cell_type": "code",
   "execution_count": 20,
   "id": "3b2c7cbd",
   "metadata": {},
   "outputs": [],
   "source": [
    "import joblib"
   ]
  },
  {
   "cell_type": "code",
   "execution_count": 21,
   "id": "c5f3c309",
   "metadata": {},
   "outputs": [
    {
     "data": {
      "text/plain": [
       "['scaler_target.file']"
      ]
     },
     "execution_count": 21,
     "metadata": {},
     "output_type": "execute_result"
    }
   ],
   "source": [
    "joblib.dump(scaler,'scaler_inputs.file')\n",
    "joblib.dump(scaler_y,'scaler_target.file')"
   ]
  },
  {
   "cell_type": "markdown",
   "id": "013906f5",
   "metadata": {},
   "source": [
    "We saved both scalers, since we use them to preprocess new data, it makes our preprocessing task much easier."
   ]
  },
  {
   "cell_type": "markdown",
   "id": "6dfcea8b",
   "metadata": {},
   "source": [
    "## *Save JSON File*"
   ]
  },
  {
   "cell_type": "code",
   "execution_count": 22,
   "id": "f76250b1",
   "metadata": {},
   "outputs": [],
   "source": [
    "import json"
   ]
  },
  {
   "cell_type": "code",
   "execution_count": 23,
   "id": "e36ec5e5",
   "metadata": {},
   "outputs": [],
   "source": [
    "X = pd.get_dummies(df.drop(columns='price'),prefix='', prefix_sep='')"
   ]
  },
  {
   "cell_type": "code",
   "execution_count": 24,
   "id": "08dd3fef",
   "metadata": {},
   "outputs": [
    {
     "data": {
      "text/plain": [
       "array([4379, 6616, 6625, 6636], dtype=int64)"
      ]
     },
     "execution_count": 24,
     "metadata": {},
     "output_type": "execute_result"
    }
   ],
   "source": [
    "np.where('other'==X.columns)[0]"
   ]
  },
  {
   "cell_type": "code",
   "execution_count": 26,
   "id": "d1b80608",
   "metadata": {},
   "outputs": [],
   "source": [
    "X.drop(columns=['other'],inplace = True)"
   ]
  },
  {
   "cell_type": "code",
   "execution_count": 27,
   "id": "5184f741",
   "metadata": {},
   "outputs": [],
   "source": [
    "columns = X.columns"
   ]
  },
  {
   "cell_type": "code",
   "execution_count": 28,
   "id": "80545e13",
   "metadata": {},
   "outputs": [],
   "source": [
    "columns_dict = {'column': [col for col in columns]}"
   ]
  },
  {
   "cell_type": "code",
   "execution_count": 29,
   "id": "29d8f60c",
   "metadata": {},
   "outputs": [],
   "source": [
    "with open(\"columns.json\",\"w\") as F:\n",
    "\n",
    "    F.write(json.dumps(columns_dict))"
   ]
  },
  {
   "cell_type": "markdown",
   "id": "cef3faca",
   "metadata": {},
   "source": [
    "We save a JSON file with the names of the columns, to make it easier to process new data."
   ]
  },
  {
   "cell_type": "markdown",
   "id": "e88ae0cd",
   "metadata": {},
   "source": [
    "## Save Data Transform"
   ]
  },
  {
   "cell_type": "code",
   "execution_count": 30,
   "id": "81f8bc4c",
   "metadata": {},
   "outputs": [],
   "source": [
    "url_train = \"C:\\\\Users\\\\PC\\\\Desktop\\\\Ciencias de datos\\\\Proyectos\\\\Criaglist\\\\data\\\\train.parquet\"\n",
    "url_test = \"C:\\\\Users\\\\PC\\\\Desktop\\\\Ciencias de datos\\\\Proyectos\\\\Criaglist\\\\data\\\\test.parquet\"\n",
    "url_val = \"C:\\\\Users\\\\PC\\\\Desktop\\\\Ciencias de datos\\\\Proyectos\\\\Criaglist\\\\data\\\\val.parquet\""
   ]
  },
  {
   "cell_type": "code",
   "execution_count": 31,
   "id": "0a831bd5",
   "metadata": {},
   "outputs": [],
   "source": [
    "train.to_parquet(url_train)\n",
    "test.to_parquet(url_test)\n",
    "val.to_parquet(url_val)"
   ]
  }
 ],
 "metadata": {
  "kernelspec": {
   "display_name": "Python 3 (ipykernel)",
   "language": "python",
   "name": "python3"
  },
  "language_info": {
   "codemirror_mode": {
    "name": "ipython",
    "version": 3
   },
   "file_extension": ".py",
   "mimetype": "text/x-python",
   "name": "python",
   "nbconvert_exporter": "python",
   "pygments_lexer": "ipython3",
   "version": "3.9.7"
  }
 },
 "nbformat": 4,
 "nbformat_minor": 5
}
